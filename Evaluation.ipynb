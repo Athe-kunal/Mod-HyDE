{
 "cells": [
  {
   "cell_type": "code",
   "execution_count": 1,
   "metadata": {},
   "outputs": [],
   "source": [
    "import json\n",
    " \n",
    "# Opening JSON file\n",
    "f = open('all_text_ans.json')\n",
    " \n",
    "# returns JSON object as \n",
    "# a dictionary\n",
    "data = json.load(f)"
   ]
  },
  {
   "cell_type": "code",
   "execution_count": 2,
   "metadata": {},
   "outputs": [],
   "source": [
    "for k,v in data.items():\n",
    "    if len(v.split(\"<END>\")) != 1001:\n",
    "        print(k)"
   ]
  },
  {
   "cell_type": "markdown",
   "metadata": {},
   "source": [
    "## BUILD VECTOR DATABASE\n"
   ]
  },
  {
   "cell_type": "code",
   "execution_count": 3,
   "metadata": {},
   "outputs": [],
   "source": [
    "import os\n",
    "os.chdir(\"mod_hyde\")"
   ]
  },
  {
   "cell_type": "code",
   "execution_count": 4,
   "metadata": {},
   "outputs": [],
   "source": [
    "from langchain_text_splitters import RecursiveCharacterTextSplitter\n",
    "from langchain.schema import Document\n",
    "\n",
    "def split_text_langchain(text):\n",
    "    text_splitter = RecursiveCharacterTextSplitter(\n",
    "        # Set a really small chunk size, just to show.\n",
    "        # separators = [\". \"],\n",
    "        chunk_size=2000,\n",
    "        chunk_overlap=100,\n",
    "        length_function=len,\n",
    "        is_separator_regex=False)\n",
    "\n",
    "    splitted_text = text_splitter.split_text(text)\n",
    "    return splitted_text\n",
    "\n",
    "pubmed_documents = []\n",
    "\n",
    "with open(\"data/pubmed_subset.txt\",\"r\") as f:\n",
    "    pubmed_text = f.read()\n",
    "pubmed_documents.extend([Document(page_content=pt,metadata={\"source\":\"pubmed\"})for pt in pubmed_text.split(\"<END>\")[:-1]])\n",
    "\n",
    "wikipedia_documents = []\n",
    "with open(\"data/wikipedia_filtered.txt\",\"r\") as f:\n",
    "    wiki_data = f.read()\n",
    "wiki_data_list = wiki_data.split(\"-----------\")[:-1]\n",
    "wiki_data_list = [at.strip() for at in wiki_data_list]\n",
    "all_text_list = []\n",
    "for text in wiki_data_list:\n",
    "    splitted_text = split_text_langchain(text)\n",
    "    all_text_list.extend(splitted_text)\n",
    "wikipedia_documents.extend([Document(page_content=wt,metadata={\"source\":\"wiki\"})for wt in all_text_list])"
   ]
  },
  {
   "cell_type": "code",
   "execution_count": 5,
   "metadata": {},
   "outputs": [],
   "source": [
    "# dataset_name, decoding_type,format_or_not,rank, checkpoint\n",
    "from langchain_community.retrievers import BM25Retriever\n",
    "\n",
    "TOP_K = 2\n",
    "pubmed_bm25_retriever = BM25Retriever.from_documents(pubmed_documents,k=TOP_K)\n",
    "# pubmed_bm25_docs = pubmed_bm25_retriever.invoke(question.lower())\n",
    "\n",
    "wiki_bm25_retriever = BM25Retriever.from_documents(wikipedia_documents,k=TOP_K)\n",
    "# wiki_bm25_docs = wiki_bm25_retriever.invoke(question.lower())"
   ]
  },
  {
   "cell_type": "code",
   "execution_count": 6,
   "metadata": {},
   "outputs": [],
   "source": [
    "def get_questions(path):\n",
    "    with open(path,\"r\") as f:\n",
    "        questions = f.readlines()\n",
    "    return questions"
   ]
  },
  {
   "cell_type": "code",
   "execution_count": 7,
   "metadata": {},
   "outputs": [],
   "source": [
    "pubmed_formatted_questions = get_questions(\"data/pubmed_formatted_qs.txt\")\n",
    "pubmed_questions = get_questions(\"data/pubmed_qs.txt\")\n",
    "\n",
    "wikipedia_formatted_question = get_questions(\"data/wikipedia_formatted_qs.txt\")\n",
    "wikipedia_questions = get_questions(\"data/wikipedia_qs.txt\")\n",
    "pubmed_checkpoints = ['561','1122','1683']\n",
    "wikipedia_checkpoints = ['831','1662','2493']"
   ]
  },
  {
   "cell_type": "code",
   "execution_count": 8,
   "metadata": {},
   "outputs": [],
   "source": [
    "def question_answer_pair(dataset_name:str,decoding_type:str,format_or_not:bool,checkpoint:str,rank:str):\n",
    "    assert dataset_name in ['pubmed','wikipedia'], \"Dataset name must be pubmed or wikipedia\"\n",
    "    assert decoding_type in ['greedy','nucleus'], \"Decoding type must be nucleus or greedy\"\n",
    "    assert format_or_not in [True,False], \"Format or not must be True or False\"\n",
    "    if dataset_name == 'pubmed':\n",
    "        assert checkpoint in pubmed_checkpoints, \"The valid checkpoints for Pubmed are ['561','1122','1683']\"\n",
    "    elif dataset_name == 'wikipedia':\n",
    "        assert checkpoint in wikipedia_checkpoints, \"The valid checkpoints for Wikipedia are ['831','1662','2493']\"\n",
    "    assert rank in ['8','32','128']\n",
    "    for key,text in data.items():\n",
    "        if format_or_not:\n",
    "            if \"formatted\" in key:\n",
    "                if decoding_type in key and checkpoint in key and f\"_{rank}_\" in key:\n",
    "                    if dataset_name  == \"pubmed\":\n",
    "                        answers_list = text.split(\"<END>\")[:-1]\n",
    "                        assert len(pubmed_formatted_questions) == len(answers_list), f\"Pubmed: {len(pubmed_formatted_questions)} != {len(answers_list)}\"\n",
    "                        return zip(pubmed_formatted_questions,answers_list)\n",
    "                    if dataset_name  == \"wikipedia\":\n",
    "                        answers_list = text.split(\"<END>\")[:-1]\n",
    "                        assert len(wikipedia_formatted_question) == len(answers_list), f\"Pubmed: {len(wikipedia_formatted_question)} != {len(answers_list)}\"\n",
    "                        return zip(wikipedia_formatted_question,answers_list)\n",
    "        elif not format_or_not:\n",
    "                if decoding_type in key and checkpoint in key and f\"_{rank}_\" in key:\n",
    "                    if dataset_name  == \"pubmed\":\n",
    "                        answers_list = text.split(\"<END>\")[:-1]\n",
    "                        assert len(pubmed_questions) == len(answers_list), f\"Pubmed: {len(pubmed_questions)} != {len(answers_list)}\"\n",
    "                        return zip(pubmed_questions,answers_list)\n",
    "                    if dataset_name  == \"wikipedia\":\n",
    "                        answers_list = text.split(\"<END>\")[:-1]\n",
    "                        assert len(wikipedia_questions) == len(answers_list), f\"Pubmed: {len(wikipedia_questions)} != {len(answers_list)}\"\n",
    "                        return zip(wikipedia_questions,answers_list)"
   ]
  },
  {
   "cell_type": "code",
   "execution_count": 9,
   "metadata": {},
   "outputs": [
    {
     "name": "stdout",
     "output_type": "stream",
     "text": [
      "Do mitochondria play a role in remodelling lace plant leaves during programmed cell death?\n",
      "\n",
      "We examined whether mitochondria can control the programmed cell death of leaf fibers, using microsurgical surgical techniques and tissue culture. We collected 107 fresh leaves from various plants of the lace plant, which were then cut, fixed and placed on a cover sheet. Sixty of the leaves were used in in situ cell death assay (in vitro) under standard circumstances and sixteen were used in live plant culture. Mitochondria were detected with the flow cytometry technique. The\n",
      "\n",
      "[Document(page_content='Programmed cell death (PCD) is the regulated death of cells within an organism. The lace plant (Aponogeton madagascariensis) produces perforations in its leaves through PCD. The leaves of the plant consist of a latticework of longitudinal and transverse veins enclosing areoles. PCD occurs in the cells at the center of these areoles and progresses outwards, stopping approximately five cells from the vasculature. The role of mitochondria during PCD has been recognized in animals; however, it has been less studied during PCD in plants. The following paper elucidates the role of mitochondrial dynamics during developmentally regulated PCD in vivo in A. madagascariensis. A single areole within a window stage leaf (PCD is occurring) was divided into three areas based on the progression of PCD; cells that will not undergo PCD (NPCD), cells in early stages of PCD (EPCD), and cells in late stages of PCD (LPCD). Window stage leaves were stained with the mitochondrial dye MitoTracker Red CMXRos and examined. Mitochondrial dynamics were delineated into four categories (M1-M4) based on characteristics including distribution, motility, and membrane potential (ΔΨm). A TUNEL assay showed fragmented nDNA in a gradient over these mitochondrial stages. Chloroplasts and transvacuolar strands were also examined using live cell imaging. The possible importance of mitochondrial permeability transition pore (PTP) formation during PCD was indirectly examined via in vivo cyclosporine A (CsA) treatment. This treatment resulted in lace plant leaves with a significantly lower number of perforations compared to controls, and that displayed mitochondrial dynamics similar to that of non-PCD cells. Results depicted mitochondrial dynamics in vivo as PCD progresses within the lace plant, and highlight the correlation of this organelle with other organelles during developmental PCD. To the best of our knowledge, this is the first report of mitochondria and chloroplasts moving on transvacuolar strands to form a ring structure surrounding the nucleus during developmental PCD. Also, for the first time, we have shown the feasibility for the use of CsA in a whole plant system. Overall, our findings implicate the mitochondria as playing a critical and early role in developmentally regulated PCD in the lace plant.\\n', metadata={'source': 'pubmed'}), Document(page_content='\\nThe hypothesis was tested that pectin content and methylation degree participate in regulation of cell wall mechanical properties and in this way may affect tissue growth and freezing resistance over the course of plant cold acclimation and de-acclimation. Experiments were carried on the leaves of two double-haploid lines of winter oil-seed rape (Brassica napus subsp. oleifera), differing in winter survival and resistance to blackleg fungus (Leptosphaeria maculans). Plant acclimation in the cold (2 degrees C) brought about retardation of leaf expansion, concomitant with development of freezing resistance. These effects were associated with the increases in leaf tensile stiffness, cell wall and pectin contents, pectin methylesterase (EC 3.1.1.11) activity and the low-methylated pectin content, independently of the genotype studied. However, the cold-induced modifications in the cell wall properties were more pronounced in the leaves of the more pathogen-resistant genotype. De-acclimation promoted leaf expansion and reversed most of the cold-induced effects, with the exception of pectin methylesterase activity. The results show that the temperature-dependent modifications in pectin content and their methyl esterification degree correlate with changes in tensile strength of a leaf tissue, and in this way affect leaf expansion ability and its resistance to freezing and to fungus pathogens.\\n', metadata={'source': 'pubmed'})]\n",
      "[Document(page_content='Bagian first flew on the crew of STS-29, which launched from Kennedy Space Center, Florida, aboard the Orbiter Discovery, on March 13, 1989. During this highly successful five-day mission, the crew deployed a Tracking and Data Relay Satellite and performed numerous secondary experiments, including a Space Station -heat pipe\" radiator experiment, two student experiments, a protein crystal growth experiment, and a chromosome and plant cell division experiment. Bagian was the principal investigator and performed Detailed Supplementary Objective 470 which described, by the use of transcranial Doppler, the changes of cerebral blood flow and its relationship to Space Adaptation Syndrome (SAS) and Space Motion Sickness (SMS). Bagian was the first person to treat SMS with the drug Phenergan by intramuscular injection. This represented the first successful treatment regimen for SMS and has now been adopted by NASA as the standard of care for the control of SMS in Shuttle crews and is routinely used. In addition, the crew took over 3,000 photographs of the Earth using several types of cameras, including the IMAX 70 mm movie camera. Mission duration was 80 orbits and concluded with a landing at Edwards Air Force Base, California, on March 18, 1989. With the completion of this mission, he logged over 119 hours in space.', metadata={'source': 'wiki'}), Document(page_content=\"The conjugate base of oxalic acid is the hydrogenoxalate anion, and its conjugate base (oxalate) is a competitive inhibitor of the lactate dehydrogenase (LDH) enzyme. LDH catalyses the conversion of pyruvate to lactic acid (end product of the fermentation (anaerobic) process) oxidising the coenzyme NADH to NAD+ and H+ concurrently. Restoring NAD+ levels is essential to the continuation of anaerobic energy metabolism through glycolysis. As cancer cells preferentially use anaerobic metabolism (see Warburg effect) inhibition of LDH has been shown to inhibit tumor formation and growth, thus is an interesting potential course of cancer treatment.\\nOxalic acid plays a key role in the interaction between pathogenic fungi and plants. Small amounts of oxalic acid enhances plant resistance to fungi, but higher amounts cause widespread programmed cell death of the plant and help with fungi infection. Plants normally produce it in small amounts, but some pathogenic fungi such as Sclerotinia sclerotiorum cause a toxic accumulation.Oxalate, besides being biosynthesised, may also be biodegraded. Oxalobacter formigenes is an important gut bacterium that helps animals (including humans) degrade oxalate.\\nOxalic acid's main applications include cleaning or bleaching, especially for the removal of rust (iron complexing agent). Its utility in rust removal agents is due to its forming a stable, water-soluble salt with ferric iron, ferrioxalate ion. Oxalic acid is an ingredient in some tooth whitening products. About 25% of produced oxalic acid is used as a mordant in dyeing processes. It is also used in bleaches, especially for pulpwood, cork, straw, cane, feathers, and for rust removal and other cleaning, in baking powder, and as a third reagent in silica analysis instruments.\", metadata={'source': 'wiki'})]\n"
     ]
    }
   ],
   "source": [
    "zipped_elem = question_answer_pair(\"pubmed\",\"nucleus\",False,'1122','128')\n",
    "for q,a in zipped_elem:\n",
    "    print(q)\n",
    "    print(a)\n",
    "    pubmed_bm25_docs = pubmed_bm25_retriever.invoke(a.lower())\n",
    "    wiki_bm25_docs = wiki_bm25_retriever.invoke(a)\n",
    "    print(pubmed_bm25_docs)\n",
    "    print(wiki_bm25_docs)\n",
    "    break"
   ]
  },
  {
   "cell_type": "markdown",
   "metadata": {},
   "source": [
    "## PUBMED EVALUATION"
   ]
  },
  {
   "cell_type": "code",
   "execution_count": 63,
   "metadata": {},
   "outputs": [],
   "source": [
    "{\"custom_id\": \"request-1\", \"method\": \"POST\", \"url\": \"/v1/chat/completions\", \"body\": {\"model\": \"gpt-3.5-turbo-0125\", \"messages\": [{\"role\": \"system\", \"content\": \"You are a helpful assistant.\"},{\"role\": \"user\", \"content\": \"Hello world!\"}],\"max_tokens\": 1000}}\n",
    "{\"custom_id\": \"request-2\", \"method\": \"POST\", \"url\": \"/v1/chat/completions\", \"body\": {\"model\": \"gpt-3.5-turbo-0125\", \"messages\": [{\"role\": \"system\", \"content\": \"You are an unhelpful assistant.\"},{\"role\": \"user\", \"content\": \"Hello world!\"}],\"max_tokens\": 1000}}"
   ]
  },
  {
   "cell_type": "code",
   "execution_count": 11,
   "metadata": {},
   "outputs": [],
   "source": [
    "import dspy\n",
    "from dotenv import load_dotenv\n",
    "\n",
    "load_dotenv(override=True)\n",
    "llm = dspy.OpenAI(model=\"gpt-3.5-turbo-0125\",max_tokens = 1000)\n",
    "dspy.settings.configure(lm=llm)"
   ]
  },
  {
   "cell_type": "markdown",
   "metadata": {},
   "source": [
    "## COLLECT ANSWERS"
   ]
  },
  {
   "cell_type": "markdown",
   "metadata": {},
   "source": [
    "#### PUBMED ANSWERS"
   ]
  },
  {
   "cell_type": "code",
   "execution_count": 23,
   "metadata": {},
   "outputs": [],
   "source": [
    "from datasets import load_dataset\n",
    "\n",
    "pubmed_data = load_dataset(\"qiaojin/PubMedQA\",\"pqa_labeled\")"
   ]
  },
  {
   "cell_type": "code",
   "execution_count": 25,
   "metadata": {},
   "outputs": [],
   "source": [
    "pubmed_long_answer = []\n",
    "pubmed_final_decision = []\n",
    "\n",
    "for pubmed_train_data in pubmed_data['train']:\n",
    "    pubmed_long_answer.append(pubmed_train_data['long_answer'])\n",
    "    pubmed_final_decision.append(pubmed_train_data['final_decision'])"
   ]
  },
  {
   "cell_type": "code",
   "execution_count": 27,
   "metadata": {},
   "outputs": [
    {
     "data": {
      "text/plain": [
       "(1000, 1000)"
      ]
     },
     "execution_count": 27,
     "metadata": {},
     "output_type": "execute_result"
    }
   ],
   "source": [
    "len(pubmed_long_answer),len(pubmed_final_decision)"
   ]
  },
  {
   "cell_type": "markdown",
   "metadata": {},
   "source": [
    "## WIKIPEDIA ANSWERS"
   ]
  },
  {
   "cell_type": "code",
   "execution_count": 28,
   "metadata": {},
   "outputs": [],
   "source": [
    "import pandas as pd\n",
    "\n",
    "wiki_df = pd.read_csv(\"data/wikipedia_data.csv\")\n",
    "wiki_df['len_count'] = wiki_df.apply(lambda row: len(str(row.text).split(\" \")),axis=1)\n",
    "def gte_100_words(row):\n",
    "    if row['len_count'] >= 100:\n",
    "        return True\n",
    "    else:\n",
    "        return False\n",
    "\n",
    "wiki_df = wiki_df[wiki_df.apply(gte_100_words,axis=1)]"
   ]
  },
  {
   "cell_type": "code",
   "execution_count": 29,
   "metadata": {},
   "outputs": [
    {
     "name": "stderr",
     "output_type": "stream",
     "text": [
      "Downloading builder script: 100%|██████████| 6.42k/6.42k [00:00<00:00, 18.8MB/s]\n",
      "Downloading readme: 100%|██████████| 9.19k/9.19k [00:00<00:00, 19.0MB/s]\n",
      "Downloading data: 100%|██████████| 566M/566M [02:24<00:00, 3.91MB/s]\n",
      "Downloading data: 100%|██████████| 46.3M/46.3M [00:12<00:00, 3.76MB/s]\n",
      "Downloading data files: 100%|██████████| 2/2 [02:38<00:00, 79.24s/it] \n",
      "Generating train split: 100%|██████████| 90447/90447 [00:24<00:00, 3728.53 examples/s]\n",
      "Generating validation split: 100%|██████████| 7405/7405 [00:01<00:00, 4859.92 examples/s]\n",
      "/home/athekunal/.local/lib/python3.10/site-packages/datasets/table.py:1421: FutureWarning: promote has been superseded by promote_options='default'.\n",
      "  table = cls._concat_blocks(blocks, axis=0)\n"
     ]
    }
   ],
   "source": [
    "hotpot_qa = load_dataset(\"hotpot_qa\",\"distractor\")\n",
    "shuffled_dataset = hotpot_qa['train'].shuffle(42)\n",
    "subset_data = shuffled_dataset[0:5000]"
   ]
  },
  {
   "cell_type": "code",
   "execution_count": 38,
   "metadata": {},
   "outputs": [
    {
     "data": {
      "text/plain": [
       "dict_keys(['id', 'question', 'answer', 'type', 'level', 'supporting_facts', 'context'])"
      ]
     },
     "execution_count": 38,
     "metadata": {},
     "output_type": "execute_result"
    }
   ],
   "source": [
    "subset_data.keys()"
   ]
  },
  {
   "cell_type": "code",
   "execution_count": 39,
   "metadata": {},
   "outputs": [],
   "source": [
    "val_subset = subset_data['supporting_facts']\n",
    "titles = []\n",
    "for sd in val_subset:\n",
    "    titles.append(sd['title'])\n",
    "val_questions = subset_data['question']\n",
    "val_answers = subset_data['answer']\n",
    "val_context = subset_data['context']"
   ]
  },
  {
   "cell_type": "code",
   "execution_count": 40,
   "metadata": {},
   "outputs": [],
   "source": [
    "val_wiki_list = list(wiki_df['title'].values)\n",
    "question_not_there = []\n",
    "question_ther = []\n",
    "for idx,title in enumerate(titles):\n",
    "    for t in title:\n",
    "        if t not in val_wiki_list:\n",
    "            question_not_there.append(idx)\n",
    "            continue"
   ]
  },
  {
   "cell_type": "code",
   "execution_count": 42,
   "metadata": {},
   "outputs": [],
   "source": [
    "question_there_idx = [id for id in range(len(val_questions)) if id not in question_not_there]"
   ]
  },
  {
   "cell_type": "code",
   "execution_count": 44,
   "metadata": {},
   "outputs": [],
   "source": [
    "wikipedia_answers_list = []\n",
    "wikipedia_context_list = []\n",
    "for t in question_there_idx[:1000]:\n",
    "    wikipedia_answers_list.append(val_answers[t])\n",
    "    wikipedia_context_list.append(val_context[t])"
   ]
  },
  {
   "cell_type": "markdown",
   "metadata": {},
   "source": [
    "## EVALUATION"
   ]
  },
  {
   "cell_type": "code",
   "execution_count": 51,
   "metadata": {},
   "outputs": [],
   "source": [
    "os.environ['DSP_CACHEBOOL'] = 'false'"
   ]
  },
  {
   "cell_type": "code",
   "execution_count": 87,
   "metadata": {},
   "outputs": [],
   "source": [
    "class PubMedGenerateAnswer(dspy.Signature):\n",
    "    \"\"\"Answer questions in detail based on the context. If the context does not answer the question, then say that you don't know\"\"\"\n",
    "    \n",
    "    context = dspy.InputField(prefix=\"Relevant facts: \",desc=\"may contain relevant facts\")\n",
    "    question = dspy.InputField(prefix=\"Question: \")\n",
    "    answer = dspy.OutputField(prefix=\"Answer\",desc=\"answer in detail from the provided context\")\n",
    "    result: bool = dspy.OutputField(prefix=\"Result: \",desc=\"Answer to the question from either yes, no, maybe or don't know.\")\n",
    "\n",
    "class WikipediaGenerateAnswer(dspy.Signature):\n",
    "    \"\"\"Answer the factual questions based on the context.\n",
    "    Don't output anything else, just output the answer.\n",
    "    If the context does not answer the question, then say that you don't know\"\"\"\n",
    "\n",
    "    context = dspy.InputField(desc=\"may contain relevant facts\")\n",
    "    question = dspy.InputField(desc=\"question that needs to be answered\")\n",
    "    answer = dspy.OutputField(desc=\"answer from the provided context\")"
   ]
  },
  {
   "cell_type": "code",
   "execution_count": 88,
   "metadata": {},
   "outputs": [
    {
     "name": "stdout",
     "output_type": "stream",
     "text": [
      "\u001b[92myes\u001b[0m\n",
      "\u001b[91mYes\u001b[0m\n",
      "----------\n",
      "\u001b[92mno\u001b[0m\n",
      "\u001b[91mYes\u001b[0m\n",
      "----------\n"
     ]
    },
    {
     "ename": "KeyboardInterrupt",
     "evalue": "",
     "output_type": "error",
     "traceback": [
      "\u001b[0;31m---------------------------------------------------------------------------\u001b[0m",
      "\u001b[0;31mHTTPStatusError\u001b[0m                           Traceback (most recent call last)",
      "File \u001b[0;32m~/.local/lib/python3.10/site-packages/openai/_base_client.py:992\u001b[0m, in \u001b[0;36mSyncAPIClient._request\u001b[0;34m(self, cast_to, options, remaining_retries, stream, stream_cls)\u001b[0m\n\u001b[1;32m    991\u001b[0m \u001b[38;5;28;01mtry\u001b[39;00m:\n\u001b[0;32m--> 992\u001b[0m     \u001b[43mresponse\u001b[49m\u001b[38;5;241;43m.\u001b[39;49m\u001b[43mraise_for_status\u001b[49m\u001b[43m(\u001b[49m\u001b[43m)\u001b[49m\n\u001b[1;32m    993\u001b[0m \u001b[38;5;28;01mexcept\u001b[39;00m httpx\u001b[38;5;241m.\u001b[39mHTTPStatusError \u001b[38;5;28;01mas\u001b[39;00m err:  \u001b[38;5;66;03m# thrown on 4xx and 5xx status code\u001b[39;00m\n",
      "File \u001b[0;32m~/.local/lib/python3.10/site-packages/httpx/_models.py:761\u001b[0m, in \u001b[0;36mResponse.raise_for_status\u001b[0;34m(self)\u001b[0m\n\u001b[1;32m    760\u001b[0m message \u001b[38;5;241m=\u001b[39m message\u001b[38;5;241m.\u001b[39mformat(\u001b[38;5;28mself\u001b[39m, error_type\u001b[38;5;241m=\u001b[39merror_type)\n\u001b[0;32m--> 761\u001b[0m \u001b[38;5;28;01mraise\u001b[39;00m HTTPStatusError(message, request\u001b[38;5;241m=\u001b[39mrequest, response\u001b[38;5;241m=\u001b[39m\u001b[38;5;28mself\u001b[39m)\n",
      "\u001b[0;31mHTTPStatusError\u001b[0m: Client error '429 Too Many Requests' for url 'https://api.openai.com/v1/chat/completions'\nFor more information check: https://developer.mozilla.org/en-US/docs/Web/HTTP/Status/429",
      "\nDuring handling of the above exception, another exception occurred:\n",
      "\u001b[0;31mKeyboardInterrupt\u001b[0m                         Traceback (most recent call last)",
      "Cell \u001b[0;32mIn[88], line 33\u001b[0m\n\u001b[1;32m     30\u001b[0m         \u001b[38;5;28;01mreturn\u001b[39;00m final_answer\n\u001b[1;32m     32\u001b[0m rag \u001b[38;5;241m=\u001b[39m RAG(\u001b[38;5;124m\"\u001b[39m\u001b[38;5;124mpubmed\u001b[39m\u001b[38;5;124m\"\u001b[39m,\u001b[38;5;124m\"\u001b[39m\u001b[38;5;124mgreedy\u001b[39m\u001b[38;5;124m\"\u001b[39m,\u001b[38;5;28;01mTrue\u001b[39;00m,\u001b[38;5;124m'\u001b[39m\u001b[38;5;124m561\u001b[39m\u001b[38;5;124m'\u001b[39m,\u001b[38;5;124m'\u001b[39m\u001b[38;5;124m32\u001b[39m\u001b[38;5;124m'\u001b[39m)\n\u001b[0;32m---> 33\u001b[0m ans \u001b[38;5;241m=\u001b[39m \u001b[43mrag\u001b[49m\u001b[43m(\u001b[49m\u001b[43m)\u001b[49m\n",
      "Cell \u001b[0;32mIn[88], line 14\u001b[0m, in \u001b[0;36mRAG.__call__\u001b[0;34m(self, *args, **kwargs)\u001b[0m\n\u001b[1;32m     13\u001b[0m \u001b[38;5;28;01mdef\u001b[39;00m \u001b[38;5;21m__call__\u001b[39m(\u001b[38;5;28mself\u001b[39m,\u001b[38;5;241m*\u001b[39margs,\u001b[38;5;241m*\u001b[39m\u001b[38;5;241m*\u001b[39mkwargs):\n\u001b[0;32m---> 14\u001b[0m     \u001b[38;5;28;01mreturn\u001b[39;00m \u001b[38;5;28;43mself\u001b[39;49m\u001b[38;5;241;43m.\u001b[39;49m\u001b[43mforward\u001b[49m\u001b[43m(\u001b[49m\u001b[38;5;241;43m*\u001b[39;49m\u001b[43margs\u001b[49m\u001b[43m,\u001b[49m\u001b[38;5;241;43m*\u001b[39;49m\u001b[38;5;241;43m*\u001b[39;49m\u001b[43mkwargs\u001b[49m\u001b[43m)\u001b[49m\n",
      "Cell \u001b[0;32mIn[88], line 25\u001b[0m, in \u001b[0;36mRAG.forward\u001b[0;34m(self)\u001b[0m\n\u001b[1;32m     23\u001b[0m \u001b[38;5;28;01mif\u001b[39;00m \u001b[38;5;28mself\u001b[39m\u001b[38;5;241m.\u001b[39mdataset_name \u001b[38;5;241m==\u001b[39m \u001b[38;5;124m'\u001b[39m\u001b[38;5;124mwikipedia\u001b[39m\u001b[38;5;124m'\u001b[39m:\n\u001b[1;32m     24\u001b[0m     ques \u001b[38;5;241m=\u001b[39m wikipedia_questions[ques_idx]\n\u001b[0;32m---> 25\u001b[0m final_answer \u001b[38;5;241m=\u001b[39m \u001b[38;5;28;43mself\u001b[39;49m\u001b[38;5;241;43m.\u001b[39;49m\u001b[43mLLManswer\u001b[49m\u001b[43m(\u001b[49m\u001b[43mcontext\u001b[49m\u001b[38;5;241;43m=\u001b[39;49m\u001b[43mcontext\u001b[49m\u001b[43m,\u001b[49m\u001b[43mquestion\u001b[49m\u001b[38;5;241;43m=\u001b[39;49m\u001b[43mques\u001b[49m\u001b[43m)\u001b[49m\n\u001b[1;32m     26\u001b[0m \u001b[38;5;28mprint\u001b[39m(\u001b[38;5;124mf\u001b[39m\u001b[38;5;124m\"\u001b[39m\u001b[38;5;130;01m\\033\u001b[39;00m\u001b[38;5;124m[92m\u001b[39m\u001b[38;5;132;01m{\u001b[39;00m\u001b[38;5;28mself\u001b[39m\u001b[38;5;241m.\u001b[39manswers_list[ques_idx]\u001b[38;5;132;01m}\u001b[39;00m\u001b[38;5;130;01m\\033\u001b[39;00m\u001b[38;5;124m[0m\u001b[39m\u001b[38;5;124m\"\u001b[39m)\n\u001b[1;32m     27\u001b[0m \u001b[38;5;28mprint\u001b[39m(\u001b[38;5;124mf\u001b[39m\u001b[38;5;124m\"\u001b[39m\u001b[38;5;130;01m\\033\u001b[39;00m\u001b[38;5;124m[91m\u001b[39m\u001b[38;5;132;01m{\u001b[39;00mfinal_answer\u001b[38;5;241m.\u001b[39mresult\u001b[38;5;132;01m}\u001b[39;00m\u001b[38;5;130;01m\\033\u001b[39;00m\u001b[38;5;124m[0m\u001b[39m\u001b[38;5;124m\"\u001b[39m)\n",
      "File \u001b[0;32m~/.local/lib/python3.10/site-packages/dspy/predict/predict.py:61\u001b[0m, in \u001b[0;36mPredict.__call__\u001b[0;34m(self, **kwargs)\u001b[0m\n\u001b[1;32m     60\u001b[0m \u001b[38;5;28;01mdef\u001b[39;00m \u001b[38;5;21m__call__\u001b[39m(\u001b[38;5;28mself\u001b[39m, \u001b[38;5;241m*\u001b[39m\u001b[38;5;241m*\u001b[39mkwargs):\n\u001b[0;32m---> 61\u001b[0m     \u001b[38;5;28;01mreturn\u001b[39;00m \u001b[38;5;28;43mself\u001b[39;49m\u001b[38;5;241;43m.\u001b[39;49m\u001b[43mforward\u001b[49m\u001b[43m(\u001b[49m\u001b[38;5;241;43m*\u001b[39;49m\u001b[38;5;241;43m*\u001b[39;49m\u001b[43mkwargs\u001b[49m\u001b[43m)\u001b[49m\n",
      "File \u001b[0;32m~/.local/lib/python3.10/site-packages/dspy/predict/predict.py:103\u001b[0m, in \u001b[0;36mPredict.forward\u001b[0;34m(self, **kwargs)\u001b[0m\n\u001b[1;32m    100\u001b[0m template \u001b[38;5;241m=\u001b[39m signature_to_template(signature)\n\u001b[1;32m    102\u001b[0m \u001b[38;5;28;01mif\u001b[39;00m \u001b[38;5;28mself\u001b[39m\u001b[38;5;241m.\u001b[39mlm \u001b[38;5;129;01mis\u001b[39;00m \u001b[38;5;28;01mNone\u001b[39;00m:\n\u001b[0;32m--> 103\u001b[0m     x, C \u001b[38;5;241m=\u001b[39m \u001b[43mdsp\u001b[49m\u001b[38;5;241;43m.\u001b[39;49m\u001b[43mgenerate\u001b[49m\u001b[43m(\u001b[49m\u001b[43mtemplate\u001b[49m\u001b[43m,\u001b[49m\u001b[43m \u001b[49m\u001b[38;5;241;43m*\u001b[39;49m\u001b[38;5;241;43m*\u001b[39;49m\u001b[43mconfig\u001b[49m\u001b[43m)\u001b[49m\u001b[43m(\u001b[49m\u001b[43mx\u001b[49m\u001b[43m,\u001b[49m\u001b[43m \u001b[49m\u001b[43mstage\u001b[49m\u001b[38;5;241;43m=\u001b[39;49m\u001b[38;5;28;43mself\u001b[39;49m\u001b[38;5;241;43m.\u001b[39;49m\u001b[43mstage\u001b[49m\u001b[43m)\u001b[49m\n\u001b[1;32m    104\u001b[0m \u001b[38;5;28;01melse\u001b[39;00m:\n\u001b[1;32m    105\u001b[0m     \u001b[38;5;66;03m# Note: query_only=True means the instructions and examples are not included.\u001b[39;00m\n\u001b[1;32m    106\u001b[0m     \u001b[38;5;66;03m# I'm not really sure why we'd want to do that, but it's there.\u001b[39;00m\n\u001b[1;32m    107\u001b[0m     \u001b[38;5;28;01mwith\u001b[39;00m dsp\u001b[38;5;241m.\u001b[39msettings\u001b[38;5;241m.\u001b[39mcontext(lm\u001b[38;5;241m=\u001b[39m\u001b[38;5;28mself\u001b[39m\u001b[38;5;241m.\u001b[39mlm, query_only\u001b[38;5;241m=\u001b[39m\u001b[38;5;28;01mTrue\u001b[39;00m):\n",
      "File \u001b[0;32m~/.local/lib/python3.10/site-packages/dsp/primitives/predict.py:120\u001b[0m, in \u001b[0;36m_generate.<locals>.do_generate\u001b[0;34m(example, stage, max_depth, original_example)\u001b[0m\n\u001b[1;32m    112\u001b[0m     new_kwargs \u001b[38;5;241m=\u001b[39m {\n\u001b[1;32m    113\u001b[0m         \u001b[38;5;241m*\u001b[39m\u001b[38;5;241m*\u001b[39mkwargs,\n\u001b[1;32m    114\u001b[0m         max_tokens_key: max_tokens,\n\u001b[1;32m    115\u001b[0m         \u001b[38;5;124m\"\u001b[39m\u001b[38;5;124mn\u001b[39m\u001b[38;5;124m\"\u001b[39m: \u001b[38;5;241m1\u001b[39m,\n\u001b[1;32m    116\u001b[0m         \u001b[38;5;124m\"\u001b[39m\u001b[38;5;124mtemperature\u001b[39m\u001b[38;5;124m\"\u001b[39m: \u001b[38;5;241m0.0\u001b[39m,\n\u001b[1;32m    117\u001b[0m     }\n\u001b[1;32m    119\u001b[0m     \u001b[38;5;28;01massert\u001b[39;00m max_depth \u001b[38;5;241m>\u001b[39m \u001b[38;5;241m0\u001b[39m\n\u001b[0;32m--> 120\u001b[0m     \u001b[38;5;28;01mreturn\u001b[39;00m \u001b[43mgenerate\u001b[49m\u001b[43m(\u001b[49m\u001b[43mtemplate\u001b[49m\u001b[43m,\u001b[49m\u001b[43m \u001b[49m\u001b[38;5;241;43m*\u001b[39;49m\u001b[38;5;241;43m*\u001b[39;49m\u001b[43mnew_kwargs\u001b[49m\u001b[43m)\u001b[49m\u001b[43m(\u001b[49m\n\u001b[1;32m    121\u001b[0m \u001b[43m        \u001b[49m\u001b[43mcompletion\u001b[49m\u001b[43m,\u001b[49m\n\u001b[1;32m    122\u001b[0m \u001b[43m        \u001b[49m\u001b[43mstage\u001b[49m\u001b[38;5;241;43m=\u001b[39;49m\u001b[43mstage\u001b[49m\u001b[43m,\u001b[49m\n\u001b[1;32m    123\u001b[0m \u001b[43m        \u001b[49m\u001b[43mmax_depth\u001b[49m\u001b[38;5;241;43m=\u001b[39;49m\u001b[43mmax_depth\u001b[49m\u001b[43m \u001b[49m\u001b[38;5;241;43m-\u001b[39;49m\u001b[43m \u001b[49m\u001b[38;5;241;43m1\u001b[39;49m\u001b[43m,\u001b[49m\n\u001b[1;32m    124\u001b[0m \u001b[43m        \u001b[49m\u001b[43moriginal_example\u001b[49m\u001b[38;5;241;43m=\u001b[39;49m\u001b[43moriginal_example\u001b[49m\u001b[43m,\u001b[49m\n\u001b[1;32m    125\u001b[0m \u001b[43m    \u001b[49m\u001b[43m)\u001b[49m\n\u001b[1;32m    127\u001b[0m completions \u001b[38;5;241m=\u001b[39m Completions(completions, template\u001b[38;5;241m=\u001b[39mtemplate)\n\u001b[1;32m    128\u001b[0m example \u001b[38;5;241m=\u001b[39m example\u001b[38;5;241m.\u001b[39mcopy(completions\u001b[38;5;241m=\u001b[39mcompletions)\n",
      "File \u001b[0;32m~/.local/lib/python3.10/site-packages/dsp/primitives/predict.py:77\u001b[0m, in \u001b[0;36m_generate.<locals>.do_generate\u001b[0;34m(example, stage, max_depth, original_example)\u001b[0m\n\u001b[1;32m     75\u001b[0m \u001b[38;5;66;03m# Generate and extract the fields.\u001b[39;00m\n\u001b[1;32m     76\u001b[0m prompt \u001b[38;5;241m=\u001b[39m template(example)\n\u001b[0;32m---> 77\u001b[0m completions: \u001b[38;5;28mlist\u001b[39m[\u001b[38;5;28mdict\u001b[39m[\u001b[38;5;28mstr\u001b[39m, Any]] \u001b[38;5;241m=\u001b[39m \u001b[43mgenerator\u001b[49m\u001b[43m(\u001b[49m\u001b[43mprompt\u001b[49m\u001b[43m,\u001b[49m\u001b[43m \u001b[49m\u001b[38;5;241;43m*\u001b[39;49m\u001b[38;5;241;43m*\u001b[39;49m\u001b[43mkwargs\u001b[49m\u001b[43m)\u001b[49m\n\u001b[1;32m     78\u001b[0m completions: \u001b[38;5;28mlist\u001b[39m[Example] \u001b[38;5;241m=\u001b[39m [template\u001b[38;5;241m.\u001b[39mextract(example, p) \u001b[38;5;28;01mfor\u001b[39;00m p \u001b[38;5;129;01min\u001b[39;00m completions]\n\u001b[1;32m     80\u001b[0m \u001b[38;5;66;03m# Find the completions that are most complete.\u001b[39;00m\n",
      "File \u001b[0;32m~/.local/lib/python3.10/site-packages/dsp/modules/gpt3.py:178\u001b[0m, in \u001b[0;36mGPT3.__call__\u001b[0;34m(self, prompt, only_completed, return_sorted, **kwargs)\u001b[0m\n\u001b[1;32m    170\u001b[0m \u001b[38;5;28;01massert\u001b[39;00m return_sorted \u001b[38;5;129;01mis\u001b[39;00m \u001b[38;5;28;01mFalse\u001b[39;00m, \u001b[38;5;124m\"\u001b[39m\u001b[38;5;124mfor now\u001b[39m\u001b[38;5;124m\"\u001b[39m\n\u001b[1;32m    172\u001b[0m \u001b[38;5;66;03m# if kwargs.get(\"n\", 1) > 1:\u001b[39;00m\n\u001b[1;32m    173\u001b[0m \u001b[38;5;66;03m#     if self.model_type == \"chat\":\u001b[39;00m\n\u001b[1;32m    174\u001b[0m \u001b[38;5;66;03m#         kwargs = {**kwargs}\u001b[39;00m\n\u001b[1;32m    175\u001b[0m \u001b[38;5;66;03m#     else:\u001b[39;00m\n\u001b[1;32m    176\u001b[0m \u001b[38;5;66;03m#         kwargs = {**kwargs, \"logprobs\": 5}\u001b[39;00m\n\u001b[0;32m--> 178\u001b[0m response \u001b[38;5;241m=\u001b[39m \u001b[38;5;28;43mself\u001b[39;49m\u001b[38;5;241;43m.\u001b[39;49m\u001b[43mrequest\u001b[49m\u001b[43m(\u001b[49m\u001b[43mprompt\u001b[49m\u001b[43m,\u001b[49m\u001b[43m \u001b[49m\u001b[38;5;241;43m*\u001b[39;49m\u001b[38;5;241;43m*\u001b[39;49m\u001b[43mkwargs\u001b[49m\u001b[43m)\u001b[49m\n\u001b[1;32m    180\u001b[0m \u001b[38;5;28mself\u001b[39m\u001b[38;5;241m.\u001b[39mlog_usage(response)\n\u001b[1;32m    181\u001b[0m choices \u001b[38;5;241m=\u001b[39m response[\u001b[38;5;124m\"\u001b[39m\u001b[38;5;124mchoices\u001b[39m\u001b[38;5;124m\"\u001b[39m]\n",
      "File \u001b[0;32m~/.local/lib/python3.10/site-packages/backoff/_sync.py:105\u001b[0m, in \u001b[0;36mretry_exception.<locals>.retry\u001b[0;34m(*args, **kwargs)\u001b[0m\n\u001b[1;32m     96\u001b[0m details \u001b[38;5;241m=\u001b[39m {\n\u001b[1;32m     97\u001b[0m     \u001b[38;5;124m\"\u001b[39m\u001b[38;5;124mtarget\u001b[39m\u001b[38;5;124m\"\u001b[39m: target,\n\u001b[1;32m     98\u001b[0m     \u001b[38;5;124m\"\u001b[39m\u001b[38;5;124margs\u001b[39m\u001b[38;5;124m\"\u001b[39m: args,\n\u001b[0;32m   (...)\u001b[0m\n\u001b[1;32m    101\u001b[0m     \u001b[38;5;124m\"\u001b[39m\u001b[38;5;124melapsed\u001b[39m\u001b[38;5;124m\"\u001b[39m: elapsed,\n\u001b[1;32m    102\u001b[0m }\n\u001b[1;32m    104\u001b[0m \u001b[38;5;28;01mtry\u001b[39;00m:\n\u001b[0;32m--> 105\u001b[0m     ret \u001b[38;5;241m=\u001b[39m \u001b[43mtarget\u001b[49m\u001b[43m(\u001b[49m\u001b[38;5;241;43m*\u001b[39;49m\u001b[43margs\u001b[49m\u001b[43m,\u001b[49m\u001b[43m \u001b[49m\u001b[38;5;241;43m*\u001b[39;49m\u001b[38;5;241;43m*\u001b[39;49m\u001b[43mkwargs\u001b[49m\u001b[43m)\u001b[49m\n\u001b[1;32m    106\u001b[0m \u001b[38;5;28;01mexcept\u001b[39;00m exception \u001b[38;5;28;01mas\u001b[39;00m e:\n\u001b[1;32m    107\u001b[0m     max_tries_exceeded \u001b[38;5;241m=\u001b[39m (tries \u001b[38;5;241m==\u001b[39m max_tries_value)\n",
      "File \u001b[0;32m~/.local/lib/python3.10/site-packages/dsp/modules/gpt3.py:144\u001b[0m, in \u001b[0;36mGPT3.request\u001b[0;34m(self, prompt, **kwargs)\u001b[0m\n\u001b[1;32m    141\u001b[0m \u001b[38;5;28;01mif\u001b[39;00m \u001b[38;5;124m\"\u001b[39m\u001b[38;5;124mmodel_type\u001b[39m\u001b[38;5;124m\"\u001b[39m \u001b[38;5;129;01min\u001b[39;00m kwargs:\n\u001b[1;32m    142\u001b[0m     \u001b[38;5;28;01mdel\u001b[39;00m kwargs[\u001b[38;5;124m\"\u001b[39m\u001b[38;5;124mmodel_type\u001b[39m\u001b[38;5;124m\"\u001b[39m]\n\u001b[0;32m--> 144\u001b[0m \u001b[38;5;28;01mreturn\u001b[39;00m \u001b[38;5;28;43mself\u001b[39;49m\u001b[38;5;241;43m.\u001b[39;49m\u001b[43mbasic_request\u001b[49m\u001b[43m(\u001b[49m\u001b[43mprompt\u001b[49m\u001b[43m,\u001b[49m\u001b[43m \u001b[49m\u001b[38;5;241;43m*\u001b[39;49m\u001b[38;5;241;43m*\u001b[39;49m\u001b[43mkwargs\u001b[49m\u001b[43m)\u001b[49m\n",
      "File \u001b[0;32m~/.local/lib/python3.10/site-packages/dsp/modules/gpt3.py:117\u001b[0m, in \u001b[0;36mGPT3.basic_request\u001b[0;34m(self, prompt, **kwargs)\u001b[0m\n\u001b[1;32m    115\u001b[0m     kwargs[\u001b[38;5;124m\"\u001b[39m\u001b[38;5;124mmessages\u001b[39m\u001b[38;5;124m\"\u001b[39m] \u001b[38;5;241m=\u001b[39m messages\n\u001b[1;32m    116\u001b[0m     kwargs \u001b[38;5;241m=\u001b[39m {\u001b[38;5;124m\"\u001b[39m\u001b[38;5;124mstringify_request\u001b[39m\u001b[38;5;124m\"\u001b[39m: json\u001b[38;5;241m.\u001b[39mdumps(kwargs)}\n\u001b[0;32m--> 117\u001b[0m     response \u001b[38;5;241m=\u001b[39m \u001b[43mchat_request\u001b[49m\u001b[43m(\u001b[49m\u001b[38;5;241;43m*\u001b[39;49m\u001b[38;5;241;43m*\u001b[39;49m\u001b[43mkwargs\u001b[49m\u001b[43m)\u001b[49m\n\u001b[1;32m    119\u001b[0m \u001b[38;5;28;01melse\u001b[39;00m:\n\u001b[1;32m    120\u001b[0m     kwargs[\u001b[38;5;124m\"\u001b[39m\u001b[38;5;124mprompt\u001b[39m\u001b[38;5;124m\"\u001b[39m] \u001b[38;5;241m=\u001b[39m prompt\n",
      "File \u001b[0;32m~/.local/lib/python3.10/site-packages/dsp/modules/gpt3.py:263\u001b[0m, in \u001b[0;36mchat_request\u001b[0;34m(**kwargs)\u001b[0m\n\u001b[1;32m    260\u001b[0m \u001b[38;5;28;01mif\u001b[39;00m OPENAI_LEGACY:\n\u001b[1;32m    261\u001b[0m     \u001b[38;5;28;01mreturn\u001b[39;00m _cached_gpt3_turbo_request_v2_wrapped(\u001b[38;5;241m*\u001b[39m\u001b[38;5;241m*\u001b[39mkwargs)\n\u001b[0;32m--> 263\u001b[0m \u001b[38;5;28;01mreturn\u001b[39;00m \u001b[43mv1_cached_gpt3_turbo_request_v2_wrapped\u001b[49m\u001b[43m(\u001b[49m\u001b[38;5;241;43m*\u001b[39;49m\u001b[38;5;241;43m*\u001b[39;49m\u001b[43mkwargs\u001b[49m\u001b[43m)\u001b[49m\u001b[38;5;241m.\u001b[39mmodel_dump()\n",
      "File \u001b[0;32m~/.local/lib/python3.10/site-packages/dsp/modules/cache_utils.py:16\u001b[0m, in \u001b[0;36mnoop_decorator.<locals>.decorator.<locals>.wrapper\u001b[0;34m(*args, **kwargs)\u001b[0m\n\u001b[1;32m     14\u001b[0m \u001b[38;5;129m@wraps\u001b[39m(func)\n\u001b[1;32m     15\u001b[0m \u001b[38;5;28;01mdef\u001b[39;00m \u001b[38;5;21mwrapper\u001b[39m(\u001b[38;5;241m*\u001b[39margs, \u001b[38;5;241m*\u001b[39m\u001b[38;5;241m*\u001b[39mkwargs):\n\u001b[0;32m---> 16\u001b[0m     \u001b[38;5;28;01mreturn\u001b[39;00m \u001b[43mfunc\u001b[49m\u001b[43m(\u001b[49m\u001b[38;5;241;43m*\u001b[39;49m\u001b[43margs\u001b[49m\u001b[43m,\u001b[49m\u001b[43m \u001b[49m\u001b[38;5;241;43m*\u001b[39;49m\u001b[38;5;241;43m*\u001b[39;49m\u001b[43mkwargs\u001b[49m\u001b[43m)\u001b[49m\n",
      "File \u001b[0;32m~/.local/lib/python3.10/site-packages/dsp/modules/gpt3.py:256\u001b[0m, in \u001b[0;36mv1_cached_gpt3_turbo_request_v2_wrapped\u001b[0;34m(**kwargs)\u001b[0m\n\u001b[1;32m    253\u001b[0m \u001b[38;5;129m@functools\u001b[39m\u001b[38;5;241m.\u001b[39mlru_cache(maxsize\u001b[38;5;241m=\u001b[39m\u001b[38;5;28;01mNone\u001b[39;00m \u001b[38;5;28;01mif\u001b[39;00m cache_turn_on \u001b[38;5;28;01melse\u001b[39;00m \u001b[38;5;241m0\u001b[39m)\n\u001b[1;32m    254\u001b[0m \u001b[38;5;129m@NotebookCacheMemory\u001b[39m\u001b[38;5;241m.\u001b[39mcache\n\u001b[1;32m    255\u001b[0m \u001b[38;5;28;01mdef\u001b[39;00m \u001b[38;5;21mv1_cached_gpt3_turbo_request_v2_wrapped\u001b[39m(\u001b[38;5;241m*\u001b[39m\u001b[38;5;241m*\u001b[39mkwargs):\n\u001b[0;32m--> 256\u001b[0m     \u001b[38;5;28;01mreturn\u001b[39;00m \u001b[43mv1_cached_gpt3_turbo_request_v2\u001b[49m\u001b[43m(\u001b[49m\u001b[38;5;241;43m*\u001b[39;49m\u001b[38;5;241;43m*\u001b[39;49m\u001b[43mkwargs\u001b[49m\u001b[43m)\u001b[49m\n",
      "File \u001b[0;32m~/.local/lib/python3.10/site-packages/joblib/memory.py:655\u001b[0m, in \u001b[0;36mMemorizedFunc.__call__\u001b[0;34m(self, *args, **kwargs)\u001b[0m\n\u001b[1;32m    654\u001b[0m \u001b[38;5;28;01mdef\u001b[39;00m \u001b[38;5;21m__call__\u001b[39m(\u001b[38;5;28mself\u001b[39m, \u001b[38;5;241m*\u001b[39margs, \u001b[38;5;241m*\u001b[39m\u001b[38;5;241m*\u001b[39mkwargs):\n\u001b[0;32m--> 655\u001b[0m     \u001b[38;5;28;01mreturn\u001b[39;00m \u001b[38;5;28;43mself\u001b[39;49m\u001b[38;5;241;43m.\u001b[39;49m\u001b[43m_cached_call\u001b[49m\u001b[43m(\u001b[49m\u001b[43margs\u001b[49m\u001b[43m,\u001b[49m\u001b[43m \u001b[49m\u001b[43mkwargs\u001b[49m\u001b[43m)\u001b[49m[\u001b[38;5;241m0\u001b[39m]\n",
      "File \u001b[0;32m~/.local/lib/python3.10/site-packages/joblib/memory.py:598\u001b[0m, in \u001b[0;36mMemorizedFunc._cached_call\u001b[0;34m(self, args, kwargs, shelving)\u001b[0m\n\u001b[1;32m    595\u001b[0m     must_call \u001b[38;5;241m=\u001b[39m \u001b[38;5;28;01mTrue\u001b[39;00m\n\u001b[1;32m    597\u001b[0m \u001b[38;5;28;01mif\u001b[39;00m must_call:\n\u001b[0;32m--> 598\u001b[0m     out, metadata \u001b[38;5;241m=\u001b[39m \u001b[38;5;28;43mself\u001b[39;49m\u001b[38;5;241;43m.\u001b[39;49m\u001b[43mcall\u001b[49m\u001b[43m(\u001b[49m\u001b[38;5;241;43m*\u001b[39;49m\u001b[43margs\u001b[49m\u001b[43m,\u001b[49m\u001b[43m \u001b[49m\u001b[38;5;241;43m*\u001b[39;49m\u001b[38;5;241;43m*\u001b[39;49m\u001b[43mkwargs\u001b[49m\u001b[43m)\u001b[49m\n\u001b[1;32m    599\u001b[0m     \u001b[38;5;28;01mif\u001b[39;00m \u001b[38;5;28mself\u001b[39m\u001b[38;5;241m.\u001b[39mmmap_mode \u001b[38;5;129;01mis\u001b[39;00m \u001b[38;5;129;01mnot\u001b[39;00m \u001b[38;5;28;01mNone\u001b[39;00m:\n\u001b[1;32m    600\u001b[0m         \u001b[38;5;66;03m# Memmap the output at the first call to be consistent with\u001b[39;00m\n\u001b[1;32m    601\u001b[0m         \u001b[38;5;66;03m# later calls\u001b[39;00m\n\u001b[1;32m    602\u001b[0m         \u001b[38;5;28;01mif\u001b[39;00m \u001b[38;5;28mself\u001b[39m\u001b[38;5;241m.\u001b[39m_verbose:\n",
      "File \u001b[0;32m~/.local/lib/python3.10/site-packages/joblib/memory.py:856\u001b[0m, in \u001b[0;36mMemorizedFunc.call\u001b[0;34m(self, *args, **kwargs)\u001b[0m\n\u001b[1;32m    854\u001b[0m \u001b[38;5;28;01mif\u001b[39;00m \u001b[38;5;28mself\u001b[39m\u001b[38;5;241m.\u001b[39m_verbose \u001b[38;5;241m>\u001b[39m \u001b[38;5;241m0\u001b[39m:\n\u001b[1;32m    855\u001b[0m     \u001b[38;5;28mprint\u001b[39m(format_call(\u001b[38;5;28mself\u001b[39m\u001b[38;5;241m.\u001b[39mfunc, args, kwargs))\n\u001b[0;32m--> 856\u001b[0m output \u001b[38;5;241m=\u001b[39m \u001b[38;5;28;43mself\u001b[39;49m\u001b[38;5;241;43m.\u001b[39;49m\u001b[43mfunc\u001b[49m\u001b[43m(\u001b[49m\u001b[38;5;241;43m*\u001b[39;49m\u001b[43margs\u001b[49m\u001b[43m,\u001b[49m\u001b[43m \u001b[49m\u001b[38;5;241;43m*\u001b[39;49m\u001b[38;5;241;43m*\u001b[39;49m\u001b[43mkwargs\u001b[49m\u001b[43m)\u001b[49m\n\u001b[1;32m    857\u001b[0m \u001b[38;5;28mself\u001b[39m\u001b[38;5;241m.\u001b[39mstore_backend\u001b[38;5;241m.\u001b[39mdump_item(\n\u001b[1;32m    858\u001b[0m     [func_id, args_id], output, verbose\u001b[38;5;241m=\u001b[39m\u001b[38;5;28mself\u001b[39m\u001b[38;5;241m.\u001b[39m_verbose)\n\u001b[1;32m    860\u001b[0m duration \u001b[38;5;241m=\u001b[39m time\u001b[38;5;241m.\u001b[39mtime() \u001b[38;5;241m-\u001b[39m start_time\n",
      "File \u001b[0;32m~/.local/lib/python3.10/site-packages/dsp/modules/gpt3.py:250\u001b[0m, in \u001b[0;36mv1_cached_gpt3_turbo_request_v2\u001b[0;34m(**kwargs)\u001b[0m\n\u001b[1;32m    248\u001b[0m \u001b[38;5;28;01mif\u001b[39;00m \u001b[38;5;124m\"\u001b[39m\u001b[38;5;124mstringify_request\u001b[39m\u001b[38;5;124m\"\u001b[39m \u001b[38;5;129;01min\u001b[39;00m kwargs:\n\u001b[1;32m    249\u001b[0m     kwargs \u001b[38;5;241m=\u001b[39m json\u001b[38;5;241m.\u001b[39mloads(kwargs[\u001b[38;5;124m\"\u001b[39m\u001b[38;5;124mstringify_request\u001b[39m\u001b[38;5;124m\"\u001b[39m])\n\u001b[0;32m--> 250\u001b[0m \u001b[38;5;28;01mreturn\u001b[39;00m \u001b[43mopenai\u001b[49m\u001b[38;5;241;43m.\u001b[39;49m\u001b[43mchat\u001b[49m\u001b[38;5;241;43m.\u001b[39;49m\u001b[43mcompletions\u001b[49m\u001b[38;5;241;43m.\u001b[39;49m\u001b[43mcreate\u001b[49m\u001b[43m(\u001b[49m\u001b[38;5;241;43m*\u001b[39;49m\u001b[38;5;241;43m*\u001b[39;49m\u001b[43mkwargs\u001b[49m\u001b[43m)\u001b[49m\n",
      "File \u001b[0;32m~/.local/lib/python3.10/site-packages/openai/_utils/_utils.py:275\u001b[0m, in \u001b[0;36mrequired_args.<locals>.inner.<locals>.wrapper\u001b[0;34m(*args, **kwargs)\u001b[0m\n\u001b[1;32m    273\u001b[0m             msg \u001b[38;5;241m=\u001b[39m \u001b[38;5;124mf\u001b[39m\u001b[38;5;124m\"\u001b[39m\u001b[38;5;124mMissing required argument: \u001b[39m\u001b[38;5;132;01m{\u001b[39;00mquote(missing[\u001b[38;5;241m0\u001b[39m])\u001b[38;5;132;01m}\u001b[39;00m\u001b[38;5;124m\"\u001b[39m\n\u001b[1;32m    274\u001b[0m     \u001b[38;5;28;01mraise\u001b[39;00m \u001b[38;5;167;01mTypeError\u001b[39;00m(msg)\n\u001b[0;32m--> 275\u001b[0m \u001b[38;5;28;01mreturn\u001b[39;00m \u001b[43mfunc\u001b[49m\u001b[43m(\u001b[49m\u001b[38;5;241;43m*\u001b[39;49m\u001b[43margs\u001b[49m\u001b[43m,\u001b[49m\u001b[43m \u001b[49m\u001b[38;5;241;43m*\u001b[39;49m\u001b[38;5;241;43m*\u001b[39;49m\u001b[43mkwargs\u001b[49m\u001b[43m)\u001b[49m\n",
      "File \u001b[0;32m~/.local/lib/python3.10/site-packages/openai/resources/chat/completions.py:667\u001b[0m, in \u001b[0;36mCompletions.create\u001b[0;34m(self, messages, model, frequency_penalty, function_call, functions, logit_bias, logprobs, max_tokens, n, presence_penalty, response_format, seed, stop, stream, temperature, tool_choice, tools, top_logprobs, top_p, user, extra_headers, extra_query, extra_body, timeout)\u001b[0m\n\u001b[1;32m    615\u001b[0m \u001b[38;5;129m@required_args\u001b[39m([\u001b[38;5;124m\"\u001b[39m\u001b[38;5;124mmessages\u001b[39m\u001b[38;5;124m\"\u001b[39m, \u001b[38;5;124m\"\u001b[39m\u001b[38;5;124mmodel\u001b[39m\u001b[38;5;124m\"\u001b[39m], [\u001b[38;5;124m\"\u001b[39m\u001b[38;5;124mmessages\u001b[39m\u001b[38;5;124m\"\u001b[39m, \u001b[38;5;124m\"\u001b[39m\u001b[38;5;124mmodel\u001b[39m\u001b[38;5;124m\"\u001b[39m, \u001b[38;5;124m\"\u001b[39m\u001b[38;5;124mstream\u001b[39m\u001b[38;5;124m\"\u001b[39m])\n\u001b[1;32m    616\u001b[0m \u001b[38;5;28;01mdef\u001b[39;00m \u001b[38;5;21mcreate\u001b[39m(\n\u001b[1;32m    617\u001b[0m     \u001b[38;5;28mself\u001b[39m,\n\u001b[0;32m   (...)\u001b[0m\n\u001b[1;32m    665\u001b[0m     timeout: \u001b[38;5;28mfloat\u001b[39m \u001b[38;5;241m|\u001b[39m httpx\u001b[38;5;241m.\u001b[39mTimeout \u001b[38;5;241m|\u001b[39m \u001b[38;5;28;01mNone\u001b[39;00m \u001b[38;5;241m|\u001b[39m NotGiven \u001b[38;5;241m=\u001b[39m NOT_GIVEN,\n\u001b[1;32m    666\u001b[0m ) \u001b[38;5;241m-\u001b[39m\u001b[38;5;241m>\u001b[39m ChatCompletion \u001b[38;5;241m|\u001b[39m Stream[ChatCompletionChunk]:\n\u001b[0;32m--> 667\u001b[0m     \u001b[38;5;28;01mreturn\u001b[39;00m \u001b[38;5;28;43mself\u001b[39;49m\u001b[38;5;241;43m.\u001b[39;49m\u001b[43m_post\u001b[49m\u001b[43m(\u001b[49m\n\u001b[1;32m    668\u001b[0m \u001b[43m        \u001b[49m\u001b[38;5;124;43m\"\u001b[39;49m\u001b[38;5;124;43m/chat/completions\u001b[39;49m\u001b[38;5;124;43m\"\u001b[39;49m\u001b[43m,\u001b[49m\n\u001b[1;32m    669\u001b[0m \u001b[43m        \u001b[49m\u001b[43mbody\u001b[49m\u001b[38;5;241;43m=\u001b[39;49m\u001b[43mmaybe_transform\u001b[49m\u001b[43m(\u001b[49m\n\u001b[1;32m    670\u001b[0m \u001b[43m            \u001b[49m\u001b[43m{\u001b[49m\n\u001b[1;32m    671\u001b[0m \u001b[43m                \u001b[49m\u001b[38;5;124;43m\"\u001b[39;49m\u001b[38;5;124;43mmessages\u001b[39;49m\u001b[38;5;124;43m\"\u001b[39;49m\u001b[43m:\u001b[49m\u001b[43m \u001b[49m\u001b[43mmessages\u001b[49m\u001b[43m,\u001b[49m\n\u001b[1;32m    672\u001b[0m \u001b[43m                \u001b[49m\u001b[38;5;124;43m\"\u001b[39;49m\u001b[38;5;124;43mmodel\u001b[39;49m\u001b[38;5;124;43m\"\u001b[39;49m\u001b[43m:\u001b[49m\u001b[43m \u001b[49m\u001b[43mmodel\u001b[49m\u001b[43m,\u001b[49m\n\u001b[1;32m    673\u001b[0m \u001b[43m                \u001b[49m\u001b[38;5;124;43m\"\u001b[39;49m\u001b[38;5;124;43mfrequency_penalty\u001b[39;49m\u001b[38;5;124;43m\"\u001b[39;49m\u001b[43m:\u001b[49m\u001b[43m \u001b[49m\u001b[43mfrequency_penalty\u001b[49m\u001b[43m,\u001b[49m\n\u001b[1;32m    674\u001b[0m \u001b[43m                \u001b[49m\u001b[38;5;124;43m\"\u001b[39;49m\u001b[38;5;124;43mfunction_call\u001b[39;49m\u001b[38;5;124;43m\"\u001b[39;49m\u001b[43m:\u001b[49m\u001b[43m \u001b[49m\u001b[43mfunction_call\u001b[49m\u001b[43m,\u001b[49m\n\u001b[1;32m    675\u001b[0m \u001b[43m                \u001b[49m\u001b[38;5;124;43m\"\u001b[39;49m\u001b[38;5;124;43mfunctions\u001b[39;49m\u001b[38;5;124;43m\"\u001b[39;49m\u001b[43m:\u001b[49m\u001b[43m \u001b[49m\u001b[43mfunctions\u001b[49m\u001b[43m,\u001b[49m\n\u001b[1;32m    676\u001b[0m \u001b[43m                \u001b[49m\u001b[38;5;124;43m\"\u001b[39;49m\u001b[38;5;124;43mlogit_bias\u001b[39;49m\u001b[38;5;124;43m\"\u001b[39;49m\u001b[43m:\u001b[49m\u001b[43m \u001b[49m\u001b[43mlogit_bias\u001b[49m\u001b[43m,\u001b[49m\n\u001b[1;32m    677\u001b[0m \u001b[43m                \u001b[49m\u001b[38;5;124;43m\"\u001b[39;49m\u001b[38;5;124;43mlogprobs\u001b[39;49m\u001b[38;5;124;43m\"\u001b[39;49m\u001b[43m:\u001b[49m\u001b[43m \u001b[49m\u001b[43mlogprobs\u001b[49m\u001b[43m,\u001b[49m\n\u001b[1;32m    678\u001b[0m \u001b[43m                \u001b[49m\u001b[38;5;124;43m\"\u001b[39;49m\u001b[38;5;124;43mmax_tokens\u001b[39;49m\u001b[38;5;124;43m\"\u001b[39;49m\u001b[43m:\u001b[49m\u001b[43m \u001b[49m\u001b[43mmax_tokens\u001b[49m\u001b[43m,\u001b[49m\n\u001b[1;32m    679\u001b[0m \u001b[43m                \u001b[49m\u001b[38;5;124;43m\"\u001b[39;49m\u001b[38;5;124;43mn\u001b[39;49m\u001b[38;5;124;43m\"\u001b[39;49m\u001b[43m:\u001b[49m\u001b[43m \u001b[49m\u001b[43mn\u001b[49m\u001b[43m,\u001b[49m\n\u001b[1;32m    680\u001b[0m \u001b[43m                \u001b[49m\u001b[38;5;124;43m\"\u001b[39;49m\u001b[38;5;124;43mpresence_penalty\u001b[39;49m\u001b[38;5;124;43m\"\u001b[39;49m\u001b[43m:\u001b[49m\u001b[43m \u001b[49m\u001b[43mpresence_penalty\u001b[49m\u001b[43m,\u001b[49m\n\u001b[1;32m    681\u001b[0m \u001b[43m                \u001b[49m\u001b[38;5;124;43m\"\u001b[39;49m\u001b[38;5;124;43mresponse_format\u001b[39;49m\u001b[38;5;124;43m\"\u001b[39;49m\u001b[43m:\u001b[49m\u001b[43m \u001b[49m\u001b[43mresponse_format\u001b[49m\u001b[43m,\u001b[49m\n\u001b[1;32m    682\u001b[0m \u001b[43m                \u001b[49m\u001b[38;5;124;43m\"\u001b[39;49m\u001b[38;5;124;43mseed\u001b[39;49m\u001b[38;5;124;43m\"\u001b[39;49m\u001b[43m:\u001b[49m\u001b[43m \u001b[49m\u001b[43mseed\u001b[49m\u001b[43m,\u001b[49m\n\u001b[1;32m    683\u001b[0m \u001b[43m                \u001b[49m\u001b[38;5;124;43m\"\u001b[39;49m\u001b[38;5;124;43mstop\u001b[39;49m\u001b[38;5;124;43m\"\u001b[39;49m\u001b[43m:\u001b[49m\u001b[43m \u001b[49m\u001b[43mstop\u001b[49m\u001b[43m,\u001b[49m\n\u001b[1;32m    684\u001b[0m \u001b[43m                \u001b[49m\u001b[38;5;124;43m\"\u001b[39;49m\u001b[38;5;124;43mstream\u001b[39;49m\u001b[38;5;124;43m\"\u001b[39;49m\u001b[43m:\u001b[49m\u001b[43m \u001b[49m\u001b[43mstream\u001b[49m\u001b[43m,\u001b[49m\n\u001b[1;32m    685\u001b[0m \u001b[43m                \u001b[49m\u001b[38;5;124;43m\"\u001b[39;49m\u001b[38;5;124;43mtemperature\u001b[39;49m\u001b[38;5;124;43m\"\u001b[39;49m\u001b[43m:\u001b[49m\u001b[43m \u001b[49m\u001b[43mtemperature\u001b[49m\u001b[43m,\u001b[49m\n\u001b[1;32m    686\u001b[0m \u001b[43m                \u001b[49m\u001b[38;5;124;43m\"\u001b[39;49m\u001b[38;5;124;43mtool_choice\u001b[39;49m\u001b[38;5;124;43m\"\u001b[39;49m\u001b[43m:\u001b[49m\u001b[43m \u001b[49m\u001b[43mtool_choice\u001b[49m\u001b[43m,\u001b[49m\n\u001b[1;32m    687\u001b[0m \u001b[43m                \u001b[49m\u001b[38;5;124;43m\"\u001b[39;49m\u001b[38;5;124;43mtools\u001b[39;49m\u001b[38;5;124;43m\"\u001b[39;49m\u001b[43m:\u001b[49m\u001b[43m \u001b[49m\u001b[43mtools\u001b[49m\u001b[43m,\u001b[49m\n\u001b[1;32m    688\u001b[0m \u001b[43m                \u001b[49m\u001b[38;5;124;43m\"\u001b[39;49m\u001b[38;5;124;43mtop_logprobs\u001b[39;49m\u001b[38;5;124;43m\"\u001b[39;49m\u001b[43m:\u001b[49m\u001b[43m \u001b[49m\u001b[43mtop_logprobs\u001b[49m\u001b[43m,\u001b[49m\n\u001b[1;32m    689\u001b[0m \u001b[43m                \u001b[49m\u001b[38;5;124;43m\"\u001b[39;49m\u001b[38;5;124;43mtop_p\u001b[39;49m\u001b[38;5;124;43m\"\u001b[39;49m\u001b[43m:\u001b[49m\u001b[43m \u001b[49m\u001b[43mtop_p\u001b[49m\u001b[43m,\u001b[49m\n\u001b[1;32m    690\u001b[0m \u001b[43m                \u001b[49m\u001b[38;5;124;43m\"\u001b[39;49m\u001b[38;5;124;43muser\u001b[39;49m\u001b[38;5;124;43m\"\u001b[39;49m\u001b[43m:\u001b[49m\u001b[43m \u001b[49m\u001b[43muser\u001b[49m\u001b[43m,\u001b[49m\n\u001b[1;32m    691\u001b[0m \u001b[43m            \u001b[49m\u001b[43m}\u001b[49m\u001b[43m,\u001b[49m\n\u001b[1;32m    692\u001b[0m \u001b[43m            \u001b[49m\u001b[43mcompletion_create_params\u001b[49m\u001b[38;5;241;43m.\u001b[39;49m\u001b[43mCompletionCreateParams\u001b[49m\u001b[43m,\u001b[49m\n\u001b[1;32m    693\u001b[0m \u001b[43m        \u001b[49m\u001b[43m)\u001b[49m\u001b[43m,\u001b[49m\n\u001b[1;32m    694\u001b[0m \u001b[43m        \u001b[49m\u001b[43moptions\u001b[49m\u001b[38;5;241;43m=\u001b[39;49m\u001b[43mmake_request_options\u001b[49m\u001b[43m(\u001b[49m\n\u001b[1;32m    695\u001b[0m \u001b[43m            \u001b[49m\u001b[43mextra_headers\u001b[49m\u001b[38;5;241;43m=\u001b[39;49m\u001b[43mextra_headers\u001b[49m\u001b[43m,\u001b[49m\u001b[43m \u001b[49m\u001b[43mextra_query\u001b[49m\u001b[38;5;241;43m=\u001b[39;49m\u001b[43mextra_query\u001b[49m\u001b[43m,\u001b[49m\u001b[43m \u001b[49m\u001b[43mextra_body\u001b[49m\u001b[38;5;241;43m=\u001b[39;49m\u001b[43mextra_body\u001b[49m\u001b[43m,\u001b[49m\u001b[43m \u001b[49m\u001b[43mtimeout\u001b[49m\u001b[38;5;241;43m=\u001b[39;49m\u001b[43mtimeout\u001b[49m\n\u001b[1;32m    696\u001b[0m \u001b[43m        \u001b[49m\u001b[43m)\u001b[49m\u001b[43m,\u001b[49m\n\u001b[1;32m    697\u001b[0m \u001b[43m        \u001b[49m\u001b[43mcast_to\u001b[49m\u001b[38;5;241;43m=\u001b[39;49m\u001b[43mChatCompletion\u001b[49m\u001b[43m,\u001b[49m\n\u001b[1;32m    698\u001b[0m \u001b[43m        \u001b[49m\u001b[43mstream\u001b[49m\u001b[38;5;241;43m=\u001b[39;49m\u001b[43mstream\u001b[49m\u001b[43m \u001b[49m\u001b[38;5;129;43;01mor\u001b[39;49;00m\u001b[43m \u001b[49m\u001b[38;5;28;43;01mFalse\u001b[39;49;00m\u001b[43m,\u001b[49m\n\u001b[1;32m    699\u001b[0m \u001b[43m        \u001b[49m\u001b[43mstream_cls\u001b[49m\u001b[38;5;241;43m=\u001b[39;49m\u001b[43mStream\u001b[49m\u001b[43m[\u001b[49m\u001b[43mChatCompletionChunk\u001b[49m\u001b[43m]\u001b[49m\u001b[43m,\u001b[49m\n\u001b[1;32m    700\u001b[0m \u001b[43m    \u001b[49m\u001b[43m)\u001b[49m\n",
      "File \u001b[0;32m~/.local/lib/python3.10/site-packages/openai/_base_client.py:1233\u001b[0m, in \u001b[0;36mSyncAPIClient.post\u001b[0;34m(self, path, cast_to, body, options, files, stream, stream_cls)\u001b[0m\n\u001b[1;32m   1219\u001b[0m \u001b[38;5;28;01mdef\u001b[39;00m \u001b[38;5;21mpost\u001b[39m(\n\u001b[1;32m   1220\u001b[0m     \u001b[38;5;28mself\u001b[39m,\n\u001b[1;32m   1221\u001b[0m     path: \u001b[38;5;28mstr\u001b[39m,\n\u001b[0;32m   (...)\u001b[0m\n\u001b[1;32m   1228\u001b[0m     stream_cls: \u001b[38;5;28mtype\u001b[39m[_StreamT] \u001b[38;5;241m|\u001b[39m \u001b[38;5;28;01mNone\u001b[39;00m \u001b[38;5;241m=\u001b[39m \u001b[38;5;28;01mNone\u001b[39;00m,\n\u001b[1;32m   1229\u001b[0m ) \u001b[38;5;241m-\u001b[39m\u001b[38;5;241m>\u001b[39m ResponseT \u001b[38;5;241m|\u001b[39m _StreamT:\n\u001b[1;32m   1230\u001b[0m     opts \u001b[38;5;241m=\u001b[39m FinalRequestOptions\u001b[38;5;241m.\u001b[39mconstruct(\n\u001b[1;32m   1231\u001b[0m         method\u001b[38;5;241m=\u001b[39m\u001b[38;5;124m\"\u001b[39m\u001b[38;5;124mpost\u001b[39m\u001b[38;5;124m\"\u001b[39m, url\u001b[38;5;241m=\u001b[39mpath, json_data\u001b[38;5;241m=\u001b[39mbody, files\u001b[38;5;241m=\u001b[39mto_httpx_files(files), \u001b[38;5;241m*\u001b[39m\u001b[38;5;241m*\u001b[39moptions\n\u001b[1;32m   1232\u001b[0m     )\n\u001b[0;32m-> 1233\u001b[0m     \u001b[38;5;28;01mreturn\u001b[39;00m cast(ResponseT, \u001b[38;5;28;43mself\u001b[39;49m\u001b[38;5;241;43m.\u001b[39;49m\u001b[43mrequest\u001b[49m\u001b[43m(\u001b[49m\u001b[43mcast_to\u001b[49m\u001b[43m,\u001b[49m\u001b[43m \u001b[49m\u001b[43mopts\u001b[49m\u001b[43m,\u001b[49m\u001b[43m \u001b[49m\u001b[43mstream\u001b[49m\u001b[38;5;241;43m=\u001b[39;49m\u001b[43mstream\u001b[49m\u001b[43m,\u001b[49m\u001b[43m \u001b[49m\u001b[43mstream_cls\u001b[49m\u001b[38;5;241;43m=\u001b[39;49m\u001b[43mstream_cls\u001b[49m\u001b[43m)\u001b[49m)\n",
      "File \u001b[0;32m~/.local/lib/python3.10/site-packages/openai/_base_client.py:922\u001b[0m, in \u001b[0;36mSyncAPIClient.request\u001b[0;34m(self, cast_to, options, remaining_retries, stream, stream_cls)\u001b[0m\n\u001b[1;32m    913\u001b[0m \u001b[38;5;28;01mdef\u001b[39;00m \u001b[38;5;21mrequest\u001b[39m(\n\u001b[1;32m    914\u001b[0m     \u001b[38;5;28mself\u001b[39m,\n\u001b[1;32m    915\u001b[0m     cast_to: Type[ResponseT],\n\u001b[0;32m   (...)\u001b[0m\n\u001b[1;32m    920\u001b[0m     stream_cls: \u001b[38;5;28mtype\u001b[39m[_StreamT] \u001b[38;5;241m|\u001b[39m \u001b[38;5;28;01mNone\u001b[39;00m \u001b[38;5;241m=\u001b[39m \u001b[38;5;28;01mNone\u001b[39;00m,\n\u001b[1;32m    921\u001b[0m ) \u001b[38;5;241m-\u001b[39m\u001b[38;5;241m>\u001b[39m ResponseT \u001b[38;5;241m|\u001b[39m _StreamT:\n\u001b[0;32m--> 922\u001b[0m     \u001b[38;5;28;01mreturn\u001b[39;00m \u001b[38;5;28;43mself\u001b[39;49m\u001b[38;5;241;43m.\u001b[39;49m\u001b[43m_request\u001b[49m\u001b[43m(\u001b[49m\n\u001b[1;32m    923\u001b[0m \u001b[43m        \u001b[49m\u001b[43mcast_to\u001b[49m\u001b[38;5;241;43m=\u001b[39;49m\u001b[43mcast_to\u001b[49m\u001b[43m,\u001b[49m\n\u001b[1;32m    924\u001b[0m \u001b[43m        \u001b[49m\u001b[43moptions\u001b[49m\u001b[38;5;241;43m=\u001b[39;49m\u001b[43moptions\u001b[49m\u001b[43m,\u001b[49m\n\u001b[1;32m    925\u001b[0m \u001b[43m        \u001b[49m\u001b[43mstream\u001b[49m\u001b[38;5;241;43m=\u001b[39;49m\u001b[43mstream\u001b[49m\u001b[43m,\u001b[49m\n\u001b[1;32m    926\u001b[0m \u001b[43m        \u001b[49m\u001b[43mstream_cls\u001b[49m\u001b[38;5;241;43m=\u001b[39;49m\u001b[43mstream_cls\u001b[49m\u001b[43m,\u001b[49m\n\u001b[1;32m    927\u001b[0m \u001b[43m        \u001b[49m\u001b[43mremaining_retries\u001b[49m\u001b[38;5;241;43m=\u001b[39;49m\u001b[43mremaining_retries\u001b[49m\u001b[43m,\u001b[49m\n\u001b[1;32m    928\u001b[0m \u001b[43m    \u001b[49m\u001b[43m)\u001b[49m\n",
      "File \u001b[0;32m~/.local/lib/python3.10/site-packages/openai/_base_client.py:998\u001b[0m, in \u001b[0;36mSyncAPIClient._request\u001b[0;34m(self, cast_to, options, remaining_retries, stream, stream_cls)\u001b[0m\n\u001b[1;32m    996\u001b[0m \u001b[38;5;28;01mif\u001b[39;00m retries \u001b[38;5;241m>\u001b[39m \u001b[38;5;241m0\u001b[39m \u001b[38;5;129;01mand\u001b[39;00m \u001b[38;5;28mself\u001b[39m\u001b[38;5;241m.\u001b[39m_should_retry(err\u001b[38;5;241m.\u001b[39mresponse):\n\u001b[1;32m    997\u001b[0m     err\u001b[38;5;241m.\u001b[39mresponse\u001b[38;5;241m.\u001b[39mclose()\n\u001b[0;32m--> 998\u001b[0m     \u001b[38;5;28;01mreturn\u001b[39;00m \u001b[38;5;28;43mself\u001b[39;49m\u001b[38;5;241;43m.\u001b[39;49m\u001b[43m_retry_request\u001b[49m\u001b[43m(\u001b[49m\n\u001b[1;32m    999\u001b[0m \u001b[43m        \u001b[49m\u001b[43moptions\u001b[49m\u001b[43m,\u001b[49m\n\u001b[1;32m   1000\u001b[0m \u001b[43m        \u001b[49m\u001b[43mcast_to\u001b[49m\u001b[43m,\u001b[49m\n\u001b[1;32m   1001\u001b[0m \u001b[43m        \u001b[49m\u001b[43mretries\u001b[49m\u001b[43m,\u001b[49m\n\u001b[1;32m   1002\u001b[0m \u001b[43m        \u001b[49m\u001b[43merr\u001b[49m\u001b[38;5;241;43m.\u001b[39;49m\u001b[43mresponse\u001b[49m\u001b[38;5;241;43m.\u001b[39;49m\u001b[43mheaders\u001b[49m\u001b[43m,\u001b[49m\n\u001b[1;32m   1003\u001b[0m \u001b[43m        \u001b[49m\u001b[43mstream\u001b[49m\u001b[38;5;241;43m=\u001b[39;49m\u001b[43mstream\u001b[49m\u001b[43m,\u001b[49m\n\u001b[1;32m   1004\u001b[0m \u001b[43m        \u001b[49m\u001b[43mstream_cls\u001b[49m\u001b[38;5;241;43m=\u001b[39;49m\u001b[43mstream_cls\u001b[49m\u001b[43m,\u001b[49m\n\u001b[1;32m   1005\u001b[0m \u001b[43m    \u001b[49m\u001b[43m)\u001b[49m\n\u001b[1;32m   1007\u001b[0m \u001b[38;5;66;03m# If the response is streamed then we need to explicitly read the response\u001b[39;00m\n\u001b[1;32m   1008\u001b[0m \u001b[38;5;66;03m# to completion before attempting to access the response text.\u001b[39;00m\n\u001b[1;32m   1009\u001b[0m \u001b[38;5;28;01mif\u001b[39;00m \u001b[38;5;129;01mnot\u001b[39;00m err\u001b[38;5;241m.\u001b[39mresponse\u001b[38;5;241m.\u001b[39mis_closed:\n",
      "File \u001b[0;32m~/.local/lib/python3.10/site-packages/openai/_base_client.py:1044\u001b[0m, in \u001b[0;36mSyncAPIClient._retry_request\u001b[0;34m(self, options, cast_to, remaining_retries, response_headers, stream, stream_cls)\u001b[0m\n\u001b[1;32m   1040\u001b[0m log\u001b[38;5;241m.\u001b[39minfo(\u001b[38;5;124m\"\u001b[39m\u001b[38;5;124mRetrying request to \u001b[39m\u001b[38;5;132;01m%s\u001b[39;00m\u001b[38;5;124m in \u001b[39m\u001b[38;5;132;01m%f\u001b[39;00m\u001b[38;5;124m seconds\u001b[39m\u001b[38;5;124m\"\u001b[39m, options\u001b[38;5;241m.\u001b[39murl, timeout)\n\u001b[1;32m   1042\u001b[0m \u001b[38;5;66;03m# In a synchronous context we are blocking the entire thread. Up to the library user to run the client in a\u001b[39;00m\n\u001b[1;32m   1043\u001b[0m \u001b[38;5;66;03m# different thread if necessary.\u001b[39;00m\n\u001b[0;32m-> 1044\u001b[0m \u001b[43mtime\u001b[49m\u001b[38;5;241;43m.\u001b[39;49m\u001b[43msleep\u001b[49m\u001b[43m(\u001b[49m\u001b[43mtimeout\u001b[49m\u001b[43m)\u001b[49m\n\u001b[1;32m   1046\u001b[0m \u001b[38;5;28;01mreturn\u001b[39;00m \u001b[38;5;28mself\u001b[39m\u001b[38;5;241m.\u001b[39m_request(\n\u001b[1;32m   1047\u001b[0m     options\u001b[38;5;241m=\u001b[39moptions,\n\u001b[1;32m   1048\u001b[0m     cast_to\u001b[38;5;241m=\u001b[39mcast_to,\n\u001b[0;32m   (...)\u001b[0m\n\u001b[1;32m   1051\u001b[0m     stream_cls\u001b[38;5;241m=\u001b[39mstream_cls,\n\u001b[1;32m   1052\u001b[0m )\n",
      "\u001b[0;31mKeyboardInterrupt\u001b[0m: "
     ]
    }
   ],
   "source": [
    "class RAG:\n",
    "    def __init__(self,dataset_name:str,decoding_type:str,format_or_not,checkpoint,rank) -> None:\n",
    "        self.zipped_elem = question_answer_pair(dataset_name,decoding_type,format_or_not,checkpoint,rank)\n",
    "        if dataset_name == \"pubmed\":\n",
    "            self.retriever = pubmed_bm25_retriever\n",
    "            self.LLManswer = dspy.Predict(PubMedGenerateAnswer)\n",
    "            self.question_list = pubmed_questions\n",
    "            self.answers_list = pubmed_final_decision\n",
    "        elif dataset_name == \"wikipedia\":\n",
    "            self.retriever = wiki_bm25_retriever\n",
    "            self.LLManswer = dspy.Predict(WikipediaGenerateAnswer)\n",
    "            self.question_list = wikipedia_questions\n",
    "            self.answers_list = wikipedia_answers_list\n",
    "        self.format_or_not = format_or_not\n",
    "    def __call__(self,*args,**kwargs):\n",
    "        return self.forward(*args,**kwargs)\n",
    "    \n",
    "    def forward(self):\n",
    "        ques_idx = 0\n",
    "        for ques,mod_hyde_ans in self.zipped_elem:\n",
    "            # print(ques)\n",
    "            # print(mod_hyde_ans)\n",
    "            bm25_docs = self.retriever.invoke(mod_hyde_ans)\n",
    "            context = \" \".join([ctx.page_content for ctx in bm25_docs])\n",
    "            if self.format_or_not:\n",
    "                ques = self.question_list[ques_idx]\n",
    "            final_answer = self.LLManswer(context=context,question=ques)\n",
    "            print(f\"\\033[92m{self.answers_list[ques_idx]}\\033[0m\")\n",
    "            print(f\"\\033[91m{final_answer.result}\\033[0m\")\n",
    "            print('-'*10)\n",
    "            ques_idx+=1\n",
    "        return final_answer\n",
    "\n",
    "rag = RAG(\"pubmed\",\"greedy\",True,'561','32')\n",
    "ans = rag()"
   ]
  },
  {
   "cell_type": "code",
   "execution_count": 89,
   "metadata": {},
   "outputs": [
    {
     "name": "stdout",
     "output_type": "stream",
     "text": [
      "\n",
      "\n",
      "\n",
      "Answer questions in detail based on the context. If the context does not answer the question, then say that you don't know\n",
      "\n",
      "---\n",
      "\n",
      "Follow the following format.\n",
      "\n",
      "Relevant facts: may contain relevant facts\n",
      "\n",
      "Question: ${question}\n",
      "\n",
      "Result: Answer to the question from either yes, no or maybe.\n",
      "\n",
      "Answer answer in detail from the provided context\n",
      "\n",
      "---\n",
      "\n",
      "Relevant facts:\n",
      "\n",
      "Assessment of visual acuity depends on the optotypes used for measurement. The ability to recognize different optotypes differs even if their critical details appear under the same visual angle. Since optotypes are evaluated on individuals with good visual acuity and without eye disorders, differences in the lower visual acuity range cannot be excluded. In this study, visual acuity measured with the Snellen E was compared to the Landolt C acuity. 100 patients (age 8 - 90 years, median 60.5 years) with various eye disorders, among them 39 with amblyopia due to strabismus, and 13 healthy volunteers were tested. Charts with the Snellen E and the Landolt C (Precision Vision) which mimic the ETDRS charts were used to assess visual acuity. Three out of 5 optotypes per line had to be correctly identified, while wrong answers were monitored. In the group of patients, the eyes with the lower visual acuity, and the right eyes of the healthy subjects, were evaluated. Differences between Landolt C acuity (LR) and Snellen E acuity (SE) were small. The mean decimal values for LR and SE were 0.25 and 0.29 in the entire group and 0.14 and 0.16 for the eyes with strabismus amblyopia. The mean difference between LR and SE was 0.55 lines in the entire group and 0.55 lines for the eyes with strabismus amblyopia, with higher values of SE in both groups. The results of the other groups were similar with only small differences between LR and SE. Using the charts described, there was only a slight overestimation of visual acuity by the Snellen E compared to the Landolt C, even in strabismus amblyopia. Small differences in the lower visual acuity range have to be considered.\n",
      " \n",
      "Previous studies have indicated that propofol anaesthesia may reduce the incidence of postoperative nausea and vomiting after strabismus surgery in children. This study was designed to investigate the incidence of vomiting after strabismus surgery at two different levels of propofol anaesthesia compared to thiopental/isoflurane anaesthesia. Ninety ASA class I or II children, aged 5-14 yrs were randomly assigned to one of three groups There were no differences between study groups with respect to age, weight, history of previous anaesthesia or emesis after previous anaesthesia, duration of anaesthesia, surgery or sleep after anaesthesia, or number of muscles operated. The incidence of vomiting was 37%, 29% and 28% in groups T/I, P5 and P10, respectively. There were no statistically significant differences between the three groups in the incidence of vomiting. The median age of patients who vomited was 7.5 (range 5.0-13.7) yrs while the median age of the patients who did not vomit was 9.1 (range 5.0-14.0) yrs (P < 0.01). In the present study, propofol anaesthesia compared to thiopental/isoflurane anaesthesia did not reduce the incidence of vomiting following strabismus surgery in children.\n",
      "\n",
      "\n",
      "Question: Landolt C and snellen e acuity: differences in strabismus amblyopia\n",
      "\n",
      "Result:\u001b[32m Yes\n",
      "\n",
      "Answer: In the study comparing visual acuity measured with the Landolt C and Snellen E optotypes in patients with strabismus amblyopia, it was found that there were small differences between the two. The mean decimal values for Landolt C acuity (LR) and Snellen E acuity (SE) were 0.14 and 0.16, respectively, for the eyes with strabismus amblyopia. The mean difference between LR and SE was 0.55 lines in the group with strabismus amblyopia, with higher values of SE. Overall, there was only a slight overestimation of visual acuity by the Snellen E compared to the Landolt C in patients with strabismus amblyopia.\u001b[0m\n",
      "\n",
      "\n",
      "\n",
      "\n",
      "\n",
      "Answer questions in detail based on the context. If the context does not answer the question, then say that you don't know\n",
      "\n",
      "---\n",
      "\n",
      "Follow the following format.\n",
      "\n",
      "Relevant facts: may contain relevant facts\n",
      "\n",
      "Question: ${question}\n",
      "\n",
      "Result: Answer to the question from either yes, no or maybe.\n",
      "\n",
      "Answer answer in detail from the provided context\n",
      "\n",
      "---\n",
      "\n",
      "Relevant facts:\n",
      "\n",
      "The guidelines for asthma recommend that the use of anti-inflammatory therapy should be adapted to the severity of the disease. However, few data are available to assess the adequacy of the use of drugs and its influence on the control of asthma in 'real life'. The adequacy of the current use of anti-asthmatic medication according to the Global Initiative for Asthma (GINA) guidelines was assessed in a random sample of 400 asthmatics identified in the frame of the Italian Study on Asthma in Young Adults. Asthma severity was assessed using the GINA criteria; accordingly, a patient was classified as receiving inadequate treatment if his/her current use of drugs was lower than that suggested by the guidelines for the corresponding severity level. The absence of asthma attacks in the last 3 months was used as an indicator of the disease control. Fifty-five percent of the patients had persistent asthma. Overall, 48% (95% CI 41.2-54.8) of persistent asthmatics were receiving inadequate treatment, and 66% (95% CI 59.5-72.4) had not used their medication daily over the past 3 months. Persistent asthmatics who were inadequately treated had a significantly greater frequency of asthma attacks (geometric mean ratio 3.7; 95% CI 2.1-6.6) than those using an adequate dose of medication. Mild and moderate persistent asthmatics using an adequate medication regimen reported a low number of asthma attacks (median 0). At the multivariate analysis, a good control of the disease was positively associated with an adequate dose of anti-inflammatory medication (OR = 2.2; 95% CI 1.1-4.5) and was negatively associated with a later onset of asthma (OR = 0.96; 95% CI 0.93-0.99) and severe asthma (OR = 0.37; 95% CI 0.17-0.81). Despite the increase in the use of inhaled corticosteroids, half of the persistent asthmatics from the general population are using a medication regimen below their severity level. When the use of drugs follows the GINA guideline recommendations, a good control of asthma is also achievable in the daily management of the disease, particularly in the case of mild and moderate asthmatics.\n",
      " \n",
      "Passive smoking is a major cause of respiratory morbidity in children. However, few studies give accurate estimates of the health effects of passive smoking in children with asthma using an objective measure of exposure. The effects of passive smoking using salivary cotinine levels to measure exposure were investigated. A sample of 438 children aged 2-12 years with asthma who had a parent who smoked were recruited in Tayside and Fife, Scotland. Health service contacts for asthma, assessed from GP case records, were used as a proxy for morbidity. A weak U-shaped relationship was found between the salivary cotinine level and health service contacts for asthma High levels of parental smoking in the home are associated with a reduction in health care contacts for asthma. This could be due to a lack of awareness of asthma symptoms among heavy smokers or a reluctance to visit the GP. Children with asthma who have parents who smoke heavily may not be receiving adequate management.\n",
      "\n",
      "\n",
      "Question: Syncope during bathing in infants, a pediatric form of water-induced urticaria\n",
      "\n",
      "Result:\u001b[32m Maybe\n",
      "\n",
      "Answer: The context provided does not directly address the question of syncope during bathing in infants, so it is not possible to give a definitive answer. The context focuses on asthma management and passive smoking effects on children with asthma. Therefore, without relevant information on syncope during bathing in infants, it is unclear if this pediatric form of water-induced urticaria is discussed or addressed in the context.\u001b[0m\n",
      "\n",
      "\n",
      "\n",
      "\n",
      "\n",
      "Answer questions in detail based on the context. If the context does not answer the question, then say that you don't know\n",
      "\n",
      "---\n",
      "\n",
      "Follow the following format.\n",
      "\n",
      "Relevant facts: may contain relevant facts\n",
      "\n",
      "Question: ${question}\n",
      "\n",
      "Result: Answer to the question from either yes, no, maybe or don't know.\n",
      "\n",
      "Answer answer in detail from the provided context\n",
      "\n",
      "---\n",
      "\n",
      "Relevant facts:\n",
      "Programmed cell death (PCD) is the regulated death of cells within an organism. The lace plant (Aponogeton madagascariensis) produces perforations in its leaves through PCD. The leaves of the plant consist of a latticework of longitudinal and transverse veins enclosing areoles. PCD occurs in the cells at the center of these areoles and progresses outwards, stopping approximately five cells from the vasculature. The role of mitochondria during PCD has been recognized in animals; however, it has been less studied during PCD in plants. The following paper elucidates the role of mitochondrial dynamics during developmentally regulated PCD in vivo in A. madagascariensis. A single areole within a window stage leaf (PCD is occurring) was divided into three areas based on the progression of PCD; cells that will not undergo PCD (NPCD), cells in early stages of PCD (EPCD), and cells in late stages of PCD (LPCD). Window stage leaves were stained with the mitochondrial dye MitoTracker Red CMXRos and examined. Mitochondrial dynamics were delineated into four categories (M1-M4) based on characteristics including distribution, motility, and membrane potential (ΔΨm). A TUNEL assay showed fragmented nDNA in a gradient over these mitochondrial stages. Chloroplasts and transvacuolar strands were also examined using live cell imaging. The possible importance of mitochondrial permeability transition pore (PTP) formation during PCD was indirectly examined via in vivo cyclosporine A (CsA) treatment. This treatment resulted in lace plant leaves with a significantly lower number of perforations compared to controls, and that displayed mitochondrial dynamics similar to that of non-PCD cells. Results depicted mitochondrial dynamics in vivo as PCD progresses within the lace plant, and highlight the correlation of this organelle with other organelles during developmental PCD. To the best of our knowledge, this is the first report of mitochondria and chloroplasts moving on transvacuolar strands to form a ring structure surrounding the nucleus during developmental PCD. Also, for the first time, we have shown the feasibility for the use of CsA in a whole plant system. Overall, our findings implicate the mitochondria as playing a critical and early role in developmentally regulated PCD in the lace plant.\n",
      " \n",
      "The hypothesis was tested that pectin content and methylation degree participate in regulation of cell wall mechanical properties and in this way may affect tissue growth and freezing resistance over the course of plant cold acclimation and de-acclimation. Experiments were carried on the leaves of two double-haploid lines of winter oil-seed rape (Brassica napus subsp. oleifera), differing in winter survival and resistance to blackleg fungus (Leptosphaeria maculans). Plant acclimation in the cold (2 degrees C) brought about retardation of leaf expansion, concomitant with development of freezing resistance. These effects were associated with the increases in leaf tensile stiffness, cell wall and pectin contents, pectin methylesterase (EC 3.1.1.11) activity and the low-methylated pectin content, independently of the genotype studied. However, the cold-induced modifications in the cell wall properties were more pronounced in the leaves of the more pathogen-resistant genotype. De-acclimation promoted leaf expansion and reversed most of the cold-induced effects, with the exception of pectin methylesterase activity. The results show that the temperature-dependent modifications in pectin content and their methyl esterification degree correlate with changes in tensile strength of a leaf tissue, and in this way affect leaf expansion ability and its resistance to freezing and to fungus pathogens.\n",
      "\n",
      "\n",
      "Question: mitochondria play a role in remodelling lace plant leaves during programmed cell death\n",
      "\n",
      "Result:\u001b[32m Yes\n",
      "\n",
      "Answer: Yes, mitochondria play a crucial role in remodelling lace plant leaves during programmed cell death (PCD). The study mentioned in the context specifically focused on elucidating the role of mitochondrial dynamics during developmentally regulated PCD in the lace plant. Mitochondrial dynamics were examined in different stages of PCD within the plant leaves, and the results highlighted the correlation of mitochondria with other organelles during this process. Additionally, the study indirectly examined the importance of mitochondrial permeability transition pore (PTP) formation during PCD by treating lace plant leaves with cyclosporine A (CsA), which resulted in leaves with a significantly lower number of perforations and altered mitochondrial dynamics. Overall, the findings implicate mitochondria as playing a critical and early role in developmentally regulated PCD in the lace plant.\u001b[0m\n",
      "\n",
      "\n",
      "\n",
      "\n",
      "\n",
      "Answer questions in detail based on the context. If the context does not answer the question, then say that you don't know\n",
      "\n",
      "---\n",
      "\n",
      "Follow the following format.\n",
      "\n",
      "Relevant facts: may contain relevant facts\n",
      "\n",
      "Question: ${question}\n",
      "\n",
      "Result: Answer to the question from either yes, no, maybe or don't know.\n",
      "\n",
      "Answer answer in detail from the provided context\n",
      "\n",
      "---\n",
      "\n",
      "Relevant facts:\n",
      "\n",
      "Assessment of visual acuity depends on the optotypes used for measurement. The ability to recognize different optotypes differs even if their critical details appear under the same visual angle. Since optotypes are evaluated on individuals with good visual acuity and without eye disorders, differences in the lower visual acuity range cannot be excluded. In this study, visual acuity measured with the Snellen E was compared to the Landolt C acuity. 100 patients (age 8 - 90 years, median 60.5 years) with various eye disorders, among them 39 with amblyopia due to strabismus, and 13 healthy volunteers were tested. Charts with the Snellen E and the Landolt C (Precision Vision) which mimic the ETDRS charts were used to assess visual acuity. Three out of 5 optotypes per line had to be correctly identified, while wrong answers were monitored. In the group of patients, the eyes with the lower visual acuity, and the right eyes of the healthy subjects, were evaluated. Differences between Landolt C acuity (LR) and Snellen E acuity (SE) were small. The mean decimal values for LR and SE were 0.25 and 0.29 in the entire group and 0.14 and 0.16 for the eyes with strabismus amblyopia. The mean difference between LR and SE was 0.55 lines in the entire group and 0.55 lines for the eyes with strabismus amblyopia, with higher values of SE in both groups. The results of the other groups were similar with only small differences between LR and SE. Using the charts described, there was only a slight overestimation of visual acuity by the Snellen E compared to the Landolt C, even in strabismus amblyopia. Small differences in the lower visual acuity range have to be considered.\n",
      " \n",
      "Previous studies have indicated that propofol anaesthesia may reduce the incidence of postoperative nausea and vomiting after strabismus surgery in children. This study was designed to investigate the incidence of vomiting after strabismus surgery at two different levels of propofol anaesthesia compared to thiopental/isoflurane anaesthesia. Ninety ASA class I or II children, aged 5-14 yrs were randomly assigned to one of three groups There were no differences between study groups with respect to age, weight, history of previous anaesthesia or emesis after previous anaesthesia, duration of anaesthesia, surgery or sleep after anaesthesia, or number of muscles operated. The incidence of vomiting was 37%, 29% and 28% in groups T/I, P5 and P10, respectively. There were no statistically significant differences between the three groups in the incidence of vomiting. The median age of patients who vomited was 7.5 (range 5.0-13.7) yrs while the median age of the patients who did not vomit was 9.1 (range 5.0-14.0) yrs (P < 0.01). In the present study, propofol anaesthesia compared to thiopental/isoflurane anaesthesia did not reduce the incidence of vomiting following strabismus surgery in children.\n",
      "\n",
      "\n",
      "Question: Landolt C and snellen e acuity: differences in strabismus amblyopia\n",
      "\n",
      "Result:\u001b[32m Yes\n",
      "\n",
      "Answer: Yes, there were differences in visual acuity measured with the Landolt C and Snellen E charts in patients with strabismus amblyopia. The mean decimal values for Landolt C acuity (LR) and Snellen E acuity (SE) were 0.14 and 0.16, respectively, for the eyes with strabismus amblyopia. The mean difference between LR and SE was 0.55 lines in the group with strabismus amblyopia, with higher values of SE. This indicates that there was a slight overestimation of visual acuity by the Snellen E compared to the Landolt C even in patients with strabismus amblyopia.\u001b[0m\n",
      "\n",
      "\n",
      "\n",
      "\n",
      "\n",
      "Answer questions in detail based on the context. If the context does not answer the question, then say that you don't know\n",
      "\n",
      "---\n",
      "\n",
      "Follow the following format.\n",
      "\n",
      "Relevant facts: may contain relevant facts\n",
      "\n",
      "Question: ${question}\n",
      "\n",
      "Result: Answer to the question from either yes, no, maybe or don't know.\n",
      "\n",
      "Answer answer in detail from the provided context\n",
      "\n",
      "---\n",
      "\n",
      "Relevant facts:\n",
      "\n",
      "The guidelines for asthma recommend that the use of anti-inflammatory therapy should be adapted to the severity of the disease. However, few data are available to assess the adequacy of the use of drugs and its influence on the control of asthma in 'real life'. The adequacy of the current use of anti-asthmatic medication according to the Global Initiative for Asthma (GINA) guidelines was assessed in a random sample of 400 asthmatics identified in the frame of the Italian Study on Asthma in Young Adults. Asthma severity was assessed using the GINA criteria; accordingly, a patient was classified as receiving inadequate treatment if his/her current use of drugs was lower than that suggested by the guidelines for the corresponding severity level. The absence of asthma attacks in the last 3 months was used as an indicator of the disease control. Fifty-five percent of the patients had persistent asthma. Overall, 48% (95% CI 41.2-54.8) of persistent asthmatics were receiving inadequate treatment, and 66% (95% CI 59.5-72.4) had not used their medication daily over the past 3 months. Persistent asthmatics who were inadequately treated had a significantly greater frequency of asthma attacks (geometric mean ratio 3.7; 95% CI 2.1-6.6) than those using an adequate dose of medication. Mild and moderate persistent asthmatics using an adequate medication regimen reported a low number of asthma attacks (median 0). At the multivariate analysis, a good control of the disease was positively associated with an adequate dose of anti-inflammatory medication (OR = 2.2; 95% CI 1.1-4.5) and was negatively associated with a later onset of asthma (OR = 0.96; 95% CI 0.93-0.99) and severe asthma (OR = 0.37; 95% CI 0.17-0.81). Despite the increase in the use of inhaled corticosteroids, half of the persistent asthmatics from the general population are using a medication regimen below their severity level. When the use of drugs follows the GINA guideline recommendations, a good control of asthma is also achievable in the daily management of the disease, particularly in the case of mild and moderate asthmatics.\n",
      " \n",
      "Passive smoking is a major cause of respiratory morbidity in children. However, few studies give accurate estimates of the health effects of passive smoking in children with asthma using an objective measure of exposure. The effects of passive smoking using salivary cotinine levels to measure exposure were investigated. A sample of 438 children aged 2-12 years with asthma who had a parent who smoked were recruited in Tayside and Fife, Scotland. Health service contacts for asthma, assessed from GP case records, were used as a proxy for morbidity. A weak U-shaped relationship was found between the salivary cotinine level and health service contacts for asthma High levels of parental smoking in the home are associated with a reduction in health care contacts for asthma. This could be due to a lack of awareness of asthma symptoms among heavy smokers or a reluctance to visit the GP. Children with asthma who have parents who smoke heavily may not be receiving adequate management.\n",
      "\n",
      "\n",
      "Question: Syncope during bathing in infants, a pediatric form of water-induced urticaria\n",
      "\n",
      "Result:\u001b[32m Don't know\n",
      "\n",
      "I'm sorry, but the context provided does not contain any information related to syncope during bathing in infants or pediatric water-induced urticaria.\u001b[0m\n",
      "\n",
      "\n",
      "\n"
     ]
    },
    {
     "data": {
      "text/plain": [
       "\"\\n\\n\\nAnswer questions in detail based on the context. If the context does not answer the question, then say that you don't know\\n\\n---\\n\\nFollow the following format.\\n\\nRelevant facts: may contain relevant facts\\n\\nQuestion: ${question}\\n\\nResult: Answer to the question from either yes, no or maybe.\\n\\nAnswer answer in detail from the provided context\\n\\n---\\n\\nRelevant facts:\\n\\nAssessment of visual acuity depends on the optotypes used for measurement. The ability to recognize different optotypes differs even if their critical details appear under the same visual angle. Since optotypes are evaluated on individuals with good visual acuity and without eye disorders, differences in the lower visual acuity range cannot be excluded. In this study, visual acuity measured with the Snellen E was compared to the Landolt C acuity. 100 patients (age 8 - 90 years, median 60.5 years) with various eye disorders, among them 39 with amblyopia due to strabismus, and 13 healthy volunteers were tested. Charts with the Snellen E and the Landolt C (Precision Vision) which mimic the ETDRS charts were used to assess visual acuity. Three out of 5 optotypes per line had to be correctly identified, while wrong answers were monitored. In the group of patients, the eyes with the lower visual acuity, and the right eyes of the healthy subjects, were evaluated. Differences between Landolt C acuity (LR) and Snellen E acuity (SE) were small. The mean decimal values for LR and SE were 0.25 and 0.29 in the entire group and 0.14 and 0.16 for the eyes with strabismus amblyopia. The mean difference between LR and SE was 0.55 lines in the entire group and 0.55 lines for the eyes with strabismus amblyopia, with higher values of SE in both groups. The results of the other groups were similar with only small differences between LR and SE. Using the charts described, there was only a slight overestimation of visual acuity by the Snellen E compared to the Landolt C, even in strabismus amblyopia. Small differences in the lower visual acuity range have to be considered.\\n \\nPrevious studies have indicated that propofol anaesthesia may reduce the incidence of postoperative nausea and vomiting after strabismus surgery in children. This study was designed to investigate the incidence of vomiting after strabismus surgery at two different levels of propofol anaesthesia compared to thiopental/isoflurane anaesthesia. Ninety ASA class I or II children, aged 5-14 yrs were randomly assigned to one of three groups There were no differences between study groups with respect to age, weight, history of previous anaesthesia or emesis after previous anaesthesia, duration of anaesthesia, surgery or sleep after anaesthesia, or number of muscles operated. The incidence of vomiting was 37%, 29% and 28% in groups T/I, P5 and P10, respectively. There were no statistically significant differences between the three groups in the incidence of vomiting. The median age of patients who vomited was 7.5 (range 5.0-13.7) yrs while the median age of the patients who did not vomit was 9.1 (range 5.0-14.0) yrs (P < 0.01). In the present study, propofol anaesthesia compared to thiopental/isoflurane anaesthesia did not reduce the incidence of vomiting following strabismus surgery in children.\\n\\n\\nQuestion: Landolt C and snellen e acuity: differences in strabismus amblyopia\\n\\nResult:\\x1b[32m Yes\\n\\nAnswer: In the study comparing visual acuity measured with the Landolt C and Snellen E optotypes in patients with strabismus amblyopia, it was found that there were small differences between the two. The mean decimal values for Landolt C acuity (LR) and Snellen E acuity (SE) were 0.14 and 0.16, respectively, for the eyes with strabismus amblyopia. The mean difference between LR and SE was 0.55 lines in the group with strabismus amblyopia, with higher values of SE. Overall, there was only a slight overestimation of visual acuity by the Snellen E compared to the Landolt C in patients with strabismus amblyopia.\\x1b[0m\\n\\n\\n\\n\\n\\nAnswer questions in detail based on the context. If the context does not answer the question, then say that you don't know\\n\\n---\\n\\nFollow the following format.\\n\\nRelevant facts: may contain relevant facts\\n\\nQuestion: ${question}\\n\\nResult: Answer to the question from either yes, no or maybe.\\n\\nAnswer answer in detail from the provided context\\n\\n---\\n\\nRelevant facts:\\n\\nThe guidelines for asthma recommend that the use of anti-inflammatory therapy should be adapted to the severity of the disease. However, few data are available to assess the adequacy of the use of drugs and its influence on the control of asthma in 'real life'. The adequacy of the current use of anti-asthmatic medication according to the Global Initiative for Asthma (GINA) guidelines was assessed in a random sample of 400 asthmatics identified in the frame of the Italian Study on Asthma in Young Adults. Asthma severity was assessed using the GINA criteria; accordingly, a patient was classified as receiving inadequate treatment if his/her current use of drugs was lower than that suggested by the guidelines for the corresponding severity level. The absence of asthma attacks in the last 3 months was used as an indicator of the disease control. Fifty-five percent of the patients had persistent asthma. Overall, 48% (95% CI 41.2-54.8) of persistent asthmatics were receiving inadequate treatment, and 66% (95% CI 59.5-72.4) had not used their medication daily over the past 3 months. Persistent asthmatics who were inadequately treated had a significantly greater frequency of asthma attacks (geometric mean ratio 3.7; 95% CI 2.1-6.6) than those using an adequate dose of medication. Mild and moderate persistent asthmatics using an adequate medication regimen reported a low number of asthma attacks (median 0). At the multivariate analysis, a good control of the disease was positively associated with an adequate dose of anti-inflammatory medication (OR = 2.2; 95% CI 1.1-4.5) and was negatively associated with a later onset of asthma (OR = 0.96; 95% CI 0.93-0.99) and severe asthma (OR = 0.37; 95% CI 0.17-0.81). Despite the increase in the use of inhaled corticosteroids, half of the persistent asthmatics from the general population are using a medication regimen below their severity level. When the use of drugs follows the GINA guideline recommendations, a good control of asthma is also achievable in the daily management of the disease, particularly in the case of mild and moderate asthmatics.\\n \\nPassive smoking is a major cause of respiratory morbidity in children. However, few studies give accurate estimates of the health effects of passive smoking in children with asthma using an objective measure of exposure. The effects of passive smoking using salivary cotinine levels to measure exposure were investigated. A sample of 438 children aged 2-12 years with asthma who had a parent who smoked were recruited in Tayside and Fife, Scotland. Health service contacts for asthma, assessed from GP case records, were used as a proxy for morbidity. A weak U-shaped relationship was found between the salivary cotinine level and health service contacts for asthma High levels of parental smoking in the home are associated with a reduction in health care contacts for asthma. This could be due to a lack of awareness of asthma symptoms among heavy smokers or a reluctance to visit the GP. Children with asthma who have parents who smoke heavily may not be receiving adequate management.\\n\\n\\nQuestion: Syncope during bathing in infants, a pediatric form of water-induced urticaria\\n\\nResult:\\x1b[32m Maybe\\n\\nAnswer: The context provided does not directly address the question of syncope during bathing in infants, so it is not possible to give a definitive answer. The context focuses on asthma management and passive smoking effects on children with asthma. Therefore, without relevant information on syncope during bathing in infants, it is unclear if this pediatric form of water-induced urticaria is discussed or addressed in the context.\\x1b[0m\\n\\n\\n\\n\\n\\nAnswer questions in detail based on the context. If the context does not answer the question, then say that you don't know\\n\\n---\\n\\nFollow the following format.\\n\\nRelevant facts: may contain relevant facts\\n\\nQuestion: ${question}\\n\\nResult: Answer to the question from either yes, no, maybe or don't know.\\n\\nAnswer answer in detail from the provided context\\n\\n---\\n\\nRelevant facts:\\nProgrammed cell death (PCD) is the regulated death of cells within an organism. The lace plant (Aponogeton madagascariensis) produces perforations in its leaves through PCD. The leaves of the plant consist of a latticework of longitudinal and transverse veins enclosing areoles. PCD occurs in the cells at the center of these areoles and progresses outwards, stopping approximately five cells from the vasculature. The role of mitochondria during PCD has been recognized in animals; however, it has been less studied during PCD in plants. The following paper elucidates the role of mitochondrial dynamics during developmentally regulated PCD in vivo in A. madagascariensis. A single areole within a window stage leaf (PCD is occurring) was divided into three areas based on the progression of PCD; cells that will not undergo PCD (NPCD), cells in early stages of PCD (EPCD), and cells in late stages of PCD (LPCD). Window stage leaves were stained with the mitochondrial dye MitoTracker Red CMXRos and examined. Mitochondrial dynamics were delineated into four categories (M1-M4) based on characteristics including distribution, motility, and membrane potential (ΔΨm). A TUNEL assay showed fragmented nDNA in a gradient over these mitochondrial stages. Chloroplasts and transvacuolar strands were also examined using live cell imaging. The possible importance of mitochondrial permeability transition pore (PTP) formation during PCD was indirectly examined via in vivo cyclosporine A (CsA) treatment. This treatment resulted in lace plant leaves with a significantly lower number of perforations compared to controls, and that displayed mitochondrial dynamics similar to that of non-PCD cells. Results depicted mitochondrial dynamics in vivo as PCD progresses within the lace plant, and highlight the correlation of this organelle with other organelles during developmental PCD. To the best of our knowledge, this is the first report of mitochondria and chloroplasts moving on transvacuolar strands to form a ring structure surrounding the nucleus during developmental PCD. Also, for the first time, we have shown the feasibility for the use of CsA in a whole plant system. Overall, our findings implicate the mitochondria as playing a critical and early role in developmentally regulated PCD in the lace plant.\\n \\nThe hypothesis was tested that pectin content and methylation degree participate in regulation of cell wall mechanical properties and in this way may affect tissue growth and freezing resistance over the course of plant cold acclimation and de-acclimation. Experiments were carried on the leaves of two double-haploid lines of winter oil-seed rape (Brassica napus subsp. oleifera), differing in winter survival and resistance to blackleg fungus (Leptosphaeria maculans). Plant acclimation in the cold (2 degrees C) brought about retardation of leaf expansion, concomitant with development of freezing resistance. These effects were associated with the increases in leaf tensile stiffness, cell wall and pectin contents, pectin methylesterase (EC 3.1.1.11) activity and the low-methylated pectin content, independently of the genotype studied. However, the cold-induced modifications in the cell wall properties were more pronounced in the leaves of the more pathogen-resistant genotype. De-acclimation promoted leaf expansion and reversed most of the cold-induced effects, with the exception of pectin methylesterase activity. The results show that the temperature-dependent modifications in pectin content and their methyl esterification degree correlate with changes in tensile strength of a leaf tissue, and in this way affect leaf expansion ability and its resistance to freezing and to fungus pathogens.\\n\\n\\nQuestion: mitochondria play a role in remodelling lace plant leaves during programmed cell death\\n\\nResult:\\x1b[32m Yes\\n\\nAnswer: Yes, mitochondria play a crucial role in remodelling lace plant leaves during programmed cell death (PCD). The study mentioned in the context specifically focused on elucidating the role of mitochondrial dynamics during developmentally regulated PCD in the lace plant. Mitochondrial dynamics were examined in different stages of PCD within the plant leaves, and the results highlighted the correlation of mitochondria with other organelles during this process. Additionally, the study indirectly examined the importance of mitochondrial permeability transition pore (PTP) formation during PCD by treating lace plant leaves with cyclosporine A (CsA), which resulted in leaves with a significantly lower number of perforations and altered mitochondrial dynamics. Overall, the findings implicate mitochondria as playing a critical and early role in developmentally regulated PCD in the lace plant.\\x1b[0m\\n\\n\\n\\n\\n\\nAnswer questions in detail based on the context. If the context does not answer the question, then say that you don't know\\n\\n---\\n\\nFollow the following format.\\n\\nRelevant facts: may contain relevant facts\\n\\nQuestion: ${question}\\n\\nResult: Answer to the question from either yes, no, maybe or don't know.\\n\\nAnswer answer in detail from the provided context\\n\\n---\\n\\nRelevant facts:\\n\\nAssessment of visual acuity depends on the optotypes used for measurement. The ability to recognize different optotypes differs even if their critical details appear under the same visual angle. Since optotypes are evaluated on individuals with good visual acuity and without eye disorders, differences in the lower visual acuity range cannot be excluded. In this study, visual acuity measured with the Snellen E was compared to the Landolt C acuity. 100 patients (age 8 - 90 years, median 60.5 years) with various eye disorders, among them 39 with amblyopia due to strabismus, and 13 healthy volunteers were tested. Charts with the Snellen E and the Landolt C (Precision Vision) which mimic the ETDRS charts were used to assess visual acuity. Three out of 5 optotypes per line had to be correctly identified, while wrong answers were monitored. In the group of patients, the eyes with the lower visual acuity, and the right eyes of the healthy subjects, were evaluated. Differences between Landolt C acuity (LR) and Snellen E acuity (SE) were small. The mean decimal values for LR and SE were 0.25 and 0.29 in the entire group and 0.14 and 0.16 for the eyes with strabismus amblyopia. The mean difference between LR and SE was 0.55 lines in the entire group and 0.55 lines for the eyes with strabismus amblyopia, with higher values of SE in both groups. The results of the other groups were similar with only small differences between LR and SE. Using the charts described, there was only a slight overestimation of visual acuity by the Snellen E compared to the Landolt C, even in strabismus amblyopia. Small differences in the lower visual acuity range have to be considered.\\n \\nPrevious studies have indicated that propofol anaesthesia may reduce the incidence of postoperative nausea and vomiting after strabismus surgery in children. This study was designed to investigate the incidence of vomiting after strabismus surgery at two different levels of propofol anaesthesia compared to thiopental/isoflurane anaesthesia. Ninety ASA class I or II children, aged 5-14 yrs were randomly assigned to one of three groups There were no differences between study groups with respect to age, weight, history of previous anaesthesia or emesis after previous anaesthesia, duration of anaesthesia, surgery or sleep after anaesthesia, or number of muscles operated. The incidence of vomiting was 37%, 29% and 28% in groups T/I, P5 and P10, respectively. There were no statistically significant differences between the three groups in the incidence of vomiting. The median age of patients who vomited was 7.5 (range 5.0-13.7) yrs while the median age of the patients who did not vomit was 9.1 (range 5.0-14.0) yrs (P < 0.01). In the present study, propofol anaesthesia compared to thiopental/isoflurane anaesthesia did not reduce the incidence of vomiting following strabismus surgery in children.\\n\\n\\nQuestion: Landolt C and snellen e acuity: differences in strabismus amblyopia\\n\\nResult:\\x1b[32m Yes\\n\\nAnswer: Yes, there were differences in visual acuity measured with the Landolt C and Snellen E charts in patients with strabismus amblyopia. The mean decimal values for Landolt C acuity (LR) and Snellen E acuity (SE) were 0.14 and 0.16, respectively, for the eyes with strabismus amblyopia. The mean difference between LR and SE was 0.55 lines in the group with strabismus amblyopia, with higher values of SE. This indicates that there was a slight overestimation of visual acuity by the Snellen E compared to the Landolt C even in patients with strabismus amblyopia.\\x1b[0m\\n\\n\\n\\n\\n\\nAnswer questions in detail based on the context. If the context does not answer the question, then say that you don't know\\n\\n---\\n\\nFollow the following format.\\n\\nRelevant facts: may contain relevant facts\\n\\nQuestion: ${question}\\n\\nResult: Answer to the question from either yes, no, maybe or don't know.\\n\\nAnswer answer in detail from the provided context\\n\\n---\\n\\nRelevant facts:\\n\\nThe guidelines for asthma recommend that the use of anti-inflammatory therapy should be adapted to the severity of the disease. However, few data are available to assess the adequacy of the use of drugs and its influence on the control of asthma in 'real life'. The adequacy of the current use of anti-asthmatic medication according to the Global Initiative for Asthma (GINA) guidelines was assessed in a random sample of 400 asthmatics identified in the frame of the Italian Study on Asthma in Young Adults. Asthma severity was assessed using the GINA criteria; accordingly, a patient was classified as receiving inadequate treatment if his/her current use of drugs was lower than that suggested by the guidelines for the corresponding severity level. The absence of asthma attacks in the last 3 months was used as an indicator of the disease control. Fifty-five percent of the patients had persistent asthma. Overall, 48% (95% CI 41.2-54.8) of persistent asthmatics were receiving inadequate treatment, and 66% (95% CI 59.5-72.4) had not used their medication daily over the past 3 months. Persistent asthmatics who were inadequately treated had a significantly greater frequency of asthma attacks (geometric mean ratio 3.7; 95% CI 2.1-6.6) than those using an adequate dose of medication. Mild and moderate persistent asthmatics using an adequate medication regimen reported a low number of asthma attacks (median 0). At the multivariate analysis, a good control of the disease was positively associated with an adequate dose of anti-inflammatory medication (OR = 2.2; 95% CI 1.1-4.5) and was negatively associated with a later onset of asthma (OR = 0.96; 95% CI 0.93-0.99) and severe asthma (OR = 0.37; 95% CI 0.17-0.81). Despite the increase in the use of inhaled corticosteroids, half of the persistent asthmatics from the general population are using a medication regimen below their severity level. When the use of drugs follows the GINA guideline recommendations, a good control of asthma is also achievable in the daily management of the disease, particularly in the case of mild and moderate asthmatics.\\n \\nPassive smoking is a major cause of respiratory morbidity in children. However, few studies give accurate estimates of the health effects of passive smoking in children with asthma using an objective measure of exposure. The effects of passive smoking using salivary cotinine levels to measure exposure were investigated. A sample of 438 children aged 2-12 years with asthma who had a parent who smoked were recruited in Tayside and Fife, Scotland. Health service contacts for asthma, assessed from GP case records, were used as a proxy for morbidity. A weak U-shaped relationship was found between the salivary cotinine level and health service contacts for asthma High levels of parental smoking in the home are associated with a reduction in health care contacts for asthma. This could be due to a lack of awareness of asthma symptoms among heavy smokers or a reluctance to visit the GP. Children with asthma who have parents who smoke heavily may not be receiving adequate management.\\n\\n\\nQuestion: Syncope during bathing in infants, a pediatric form of water-induced urticaria\\n\\nResult:\\x1b[32m Don't know\\n\\nI'm sorry, but the context provided does not contain any information related to syncope during bathing in infants or pediatric water-induced urticaria.\\x1b[0m\\n\\n\\n\""
      ]
     },
     "execution_count": 89,
     "metadata": {},
     "output_type": "execute_result"
    }
   ],
   "source": [
    "llm.inspect_history(n=5)"
   ]
  },
  {
   "cell_type": "code",
   "execution_count": 79,
   "metadata": {},
   "outputs": [],
   "source": [
    "import ast\n",
    "d = {\"duration\": 0.889585018157959, \"input_args\": {\"**\": \"{'stringify_request': '{\\\"temperature\\\": 0.0, \\\"max_tokens\\\": 1000, \\\"top_p\\\": 1, \\\"frequency_penalty\\\": 0, \\\"presence_penalty\\\": 0, \\\"n\\\": 1, \\\"model\\\": \\\"gpt-3.5-turbo-0125\\\", \\\"messages\\\": [{\\\"role\\\": \\\"user\\\", \\\"content\\\": \\\"Answer the factual questions based on the context.\\\\\\\\n    Don\\\\'t output anything else, just output the answer.\\\\\\\\n    If the context does not answer the question, then say that you don\\\\'t know\\\\\\\\n\\\\\\\\n---\\\\\\\\n\\\\\\\\nFollow the following format.\\\\\\\\n\\\\\\\\nContext: may contain relevant facts\\\\\\\\nQuestion: question that needs to be answered\\\\\\\\nAnswer: answer from the provided context\\\\\\\\n\\\\\\\\n---\\\\\\\\n\\\\\\\\nContext:\\\\\\\\nWith the increasing numbers of differing species in England plant breeders began to immediately develop hybrids to develop more desirable garden plants. The first recorded experiments date to 1825 as F. arborescens \\\\\\\\u03a7 F. macrostemma and F. arborescens X F. coccinea where the quality of the resultant plants was unrecorded.\\\\\\\\nBetween 1835 and 1850 there was a tremendous influx to England of both hybrids and varieties, the majority of which have been lost.\\\\\\\\nIn 1848 Felix Porcher published the second edition of his book Le Fuchsia son Histoire et sa Culture. This described 520 cultivars. In 1871 in later editions of M. Porchers book reference is made to James Lye who was to become famous as a breeder of fuchsias in England. In 1883 the first book of English fuchsias was published.\\\\\\\\nBetween 1900 and 1914 many of the famous cultivated varieties were produced which were grown extensively for Covent Garden market by many growers just outside London. During the period between the world wars, fuchsia-growing slowed as efforts were made toward crop production until after 1949, when plant and hybrid production resumed on a large scale. While still in her teens, Hinton became a household name as the author of The Outsiders, her first and most popular novel, set in Oklahoma in the 1960s. She began writing it in 1965. The book was inspired by two rival gangs at her school, Will Rogers High School, the Greasers and the Socs, and her desire to empathize with the Greasers by writing from their point of view. She wrote the novel when she was 16 and it was published in 1967. Since then, the book has sold more than 14 million copies. In 2017, Viking Press stated the book sells over 500,000 copies a year.\\\\\\\\nHinton\\\\'s publisher suggested she use her initials instead of her feminine given names so that the very first male book reviewers would not dismiss the novel because its author was female. After the success of The Outsiders, Hinton chose to continue writing and publishing using her initials because she did not want to lose what she had made famous and to allow her to keep her private and public lives separate.\\\\\\\\nIn interviews, Hinton has said that she is a private person and an introvert who no longer does public appearances. She enjoys reading (Jane Austen, Mary Renault, and F. Scott Fitzgerald), taking classes at the local university, and horseback riding. Hinton also revealed to Vulture that she enjoys writing fan fiction.\\\\\\\\nShe resides in Tulsa, Oklahoma, with her husband David Inhofe, a software engineer she met in her freshman biology class at college. He is a cousin of former Oklahoma Senator Jim Inhofe.\\\\\\\\nQuestion: Were both Gabriela Mistral and G. K. Chesterton authors?\\\\\\\\nAnswer:\\\"}]}'}\"}, \"time\": 1715190153.1438334}\n",
    "s = ast.literal_eval(ast.literal_eval(d['input_args'][\"**\"])['stringify_request'])['messages']"
   ]
  },
  {
   "cell_type": "code",
   "execution_count": 94,
   "metadata": {},
   "outputs": [
    {
     "data": {
      "text/plain": [
       "{'temperature': 0.0,\n",
       " 'max_tokens': 1000,\n",
       " 'top_p': 1,\n",
       " 'frequency_penalty': 0,\n",
       " 'presence_penalty': 0,\n",
       " 'n': 1,\n",
       " 'model': 'gpt-3.5-turbo-0125',\n",
       " 'messages': [{'role': 'user',\n",
       "   'content': \"Answer the factual questions based on the context.\\n    Don't output anything else, just output the answer.\\n    If the context does not answer the question, then say that you don't know\\n\\n---\\n\\nFollow the following format.\\n\\nContext: may contain relevant facts\\nQuestion: question that needs to be answered\\nAnswer: answer from the provided context\\n\\n---\\n\\nContext:\\nWith the increasing numbers of differing species in England plant breeders began to immediately develop hybrids to develop more desirable garden plants. The first recorded experiments date to 1825 as F. arborescens Χ F. macrostemma and F. arborescens X F. coccinea where the quality of the resultant plants was unrecorded.\\nBetween 1835 and 1850 there was a tremendous influx to England of both hybrids and varieties, the majority of which have been lost.\\nIn 1848 Felix Porcher published the second edition of his book Le Fuchsia son Histoire et sa Culture. This described 520 cultivars. In 1871 in later editions of M. Porchers book reference is made to James Lye who was to become famous as a breeder of fuchsias in England. In 1883 the first book of English fuchsias was published.\\nBetween 1900 and 1914 many of the famous cultivated varieties were produced which were grown extensively for Covent Garden market by many growers just outside London. During the period between the world wars, fuchsia-growing slowed as efforts were made toward crop production until after 1949, when plant and hybrid production resumed on a large scale. While still in her teens, Hinton became a household name as the author of The Outsiders, her first and most popular novel, set in Oklahoma in the 1960s. She began writing it in 1965. The book was inspired by two rival gangs at her school, Will Rogers High School, the Greasers and the Socs, and her desire to empathize with the Greasers by writing from their point of view. She wrote the novel when she was 16 and it was published in 1967. Since then, the book has sold more than 14 million copies. In 2017, Viking Press stated the book sells over 500,000 copies a year.\\nHinton's publisher suggested she use her initials instead of her feminine given names so that the very first male book reviewers would not dismiss the novel because its author was female. After the success of The Outsiders, Hinton chose to continue writing and publishing using her initials because she did not want to lose what she had made famous and to allow her to keep her private and public lives separate.\\nIn interviews, Hinton has said that she is a private person and an introvert who no longer does public appearances. She enjoys reading (Jane Austen, Mary Renault, and F. Scott Fitzgerald), taking classes at the local university, and horseback riding. Hinton also revealed to Vulture that she enjoys writing fan fiction.\\nShe resides in Tulsa, Oklahoma, with her husband David Inhofe, a software engineer she met in her freshman biology class at college. He is a cousin of former Oklahoma Senator Jim Inhofe.\\nQuestion: Were both Gabriela Mistral and G. K. Chesterton authors?\\nAnswer:\"}]}"
      ]
     },
     "execution_count": 94,
     "metadata": {},
     "output_type": "execute_result"
    }
   ],
   "source": [
    "ast.literal_eval(ast.literal_eval(d['input_args'][\"**\"])['stringify_request'])"
   ]
  },
  {
   "cell_type": "code",
   "execution_count": null,
   "metadata": {},
   "outputs": [],
   "source": [
    "{\"custom_id\": \"request-1\", \"method\": \"POST\", \"url\": \"/v1/chat/completions\", \"body\": {\"model\": \"gpt-3.5-turbo-0125\", \"messages\": [{\"role\": \"system\", \"content\": \"You are a helpful assistant.\"},{\"role\": \"user\", \"content\": \"Hello world!\"}],\"max_tokens\": 1000}}\n"
   ]
  },
  {
   "cell_type": "markdown",
   "metadata": {},
   "source": [
    "## BATCH FILE FOR PUBMED"
   ]
  },
  {
   "cell_type": "code",
   "execution_count": null,
   "metadata": {},
   "outputs": [],
   "source": [
    "pubmed_prompt = '''\n",
    "Answer questions in detail based on the context. If the context does not answer the question, then say that you don't know\n",
    "\n",
    "---\n",
    "\n",
    "Follow the following format.\n",
    "\n",
    "Relevant facts: may contain relevant facts\n",
    "\n",
    "Question: ${question}\n",
    "\n",
    "Result: Answer to the question from either yes, no or maybe.\n",
    "\n",
    "Answer answer in detail from the provided context\n",
    "\n",
    "---\n",
    "\n",
    "Relevant facts:\n",
    "\n",
    "\n",
    "Question: ${question}\n",
    "\n",
    "\n",
    "'''\n"
   ]
  },
  {
   "cell_type": "code",
   "execution_count": 104,
   "metadata": {},
   "outputs": [],
   "source": [
    "from typing import List\n",
    "from tqdm import tqdm\n",
    "pubmed_prompt = '''\n",
    "Answer the factual questions based on the context. Don't output anything else, just output the answer.\n",
    "If the context does not answer the question, then say that you don't know\n",
    "You will be provided with relevant facts, and you will output a json object containing the following information:\n",
    "\n",
    "{\n",
    "    answer: string // answer to the question from the provided context   \n",
    "    result: string // answer to the question from either yes, no, maybe or don't know based on the context\n",
    "}\n",
    "\n",
    "'''\n",
    "wikipedia_prompt = '''\n",
    "Answer the factual questions based on the context.\n",
    "Don't output anything else, just output the answer.\n",
    "If the context does not answer the question, then say that you don't know\n",
    "You will be provided with relevant facts, and you will output a json object containing the following information:\n",
    "\n",
    "{\n",
    "    answer: string // answer to the question from the provided context   \n",
    "}\n",
    "\n",
    "'''\n",
    "\n",
    "# Creating an array of json tasks\n",
    "\n",
    "def get_tasks(dataset_name,decoding_type,format_or_not,checkpoint,rank):\n",
    "    zipped_elem = question_answer_pair(dataset_name,decoding_type,format_or_not,checkpoint,rank)\n",
    "    if format_or_not:\n",
    "        task_name = f\"{dataset_name}-{checkpoint}-{rank}-true\"\n",
    "    else:\n",
    "        task_name = f\"{dataset_name}-{checkpoint}-{rank}-false\"\n",
    "    tasks = []\n",
    "    if dataset_name == \"pubmed\":\n",
    "        retriever = pubmed_bm25_retriever\n",
    "        question_list = pubmed_questions\n",
    "        system_prompt = pubmed_prompt\n",
    "    elif dataset_name == \"wikipedia\":\n",
    "        retriever = wiki_bm25_retriever\n",
    "        system_prompt = wikipedia_prompt\n",
    "        question_list = wikipedia_questions\n",
    "    index = 0\n",
    "    pbar = tqdm(total=len(question_list),desc=f\"For {task_name}\")\n",
    "    for question,mod_hyde_ans in zipped_elem:\n",
    "        bm25_docs = retriever.invoke(mod_hyde_ans)\n",
    "        if format_or_not:\n",
    "            question = question_list[index]\n",
    "        context = \" \".join([ctx.page_content for ctx in bm25_docs])\n",
    "        \n",
    "        task = {\n",
    "            \"custom_id\": f\"task-{task_name}-{index}\",\n",
    "            \"method\": \"POST\",\n",
    "            \"url\": \"/v1/chat/completions\",\n",
    "            \"body\": {\n",
    "                # This is what you would have in your Chat Completions API call\n",
    "                \"model\": \"gpt-3.5-turbo\",\n",
    "                \"temperature\": 0.0,\n",
    "                \"max_tokens\": 1000,\n",
    "                \"messages\": [\n",
    "                    {\n",
    "                        \"role\": \"system\",\n",
    "                        \"content\": system_prompt\n",
    "                    },\n",
    "                    {\n",
    "                        \"role\": \"user\",\n",
    "                        \"content\": [\n",
    "                            {\n",
    "                                \"type\": \"text\",\n",
    "                                \"text\": question\n",
    "                            },\n",
    "                            {\n",
    "                                \"type\": \"text\",\n",
    "                                \"text\": context\n",
    "                            }\n",
    "                        ],\n",
    "                    }\n",
    "                ]            \n",
    "            }\n",
    "        }\n",
    "        \n",
    "        tasks.append(task)\n",
    "        index+=1\n",
    "        pbar.update(1)\n",
    "    return tasks"
   ]
  },
  {
   "cell_type": "code",
   "execution_count": 105,
   "metadata": {},
   "outputs": [
    {
     "name": "stderr",
     "output_type": "stream",
     "text": [
      "For pubmed-561-32-true: 100%|██████████| 1000/1000 [01:50<00:00,  9.03it/s]\n"
     ]
    }
   ],
   "source": [
    "tasks = get_tasks(\"pubmed\",\"greedy\",True,'561','32')"
   ]
  },
  {
   "cell_type": "code",
   "execution_count": 106,
   "metadata": {},
   "outputs": [
    {
     "data": {
      "text/plain": [
       "{'custom_id': 'task-pubmed-561-32-true-0',\n",
       " 'method': 'POST',\n",
       " 'url': '/v1/chat/completions',\n",
       " 'body': {'model': 'gpt-3.5-turbo',\n",
       "  'temperature': 0.0,\n",
       "  'max_tokens': 1000,\n",
       "  'messages': [{'role': 'system',\n",
       "    'content': \"\\nAnswer the factual questions based on the context. Don't output anything else, just output the answer.\\nIf the context does not answer the question, then say that you don't know\\nYou will be provided with relevant facts, and you will output a json object containing the following information:\\n\\n{\\n    answer: string // answer to the question from the provided context   \\n    result: string // answer to the question from either yes, no, maybe or don't know based on the context\\n}\\n\\n\"},\n",
       "   {'role': 'user',\n",
       "    'content': [{'type': 'text',\n",
       "      'text': 'Do mitochondria play a role in remodelling lace plant leaves during programmed cell death?\\n'},\n",
       "     {'type': 'text',\n",
       "      'text': 'Programmed cell death (PCD) is the regulated death of cells within an organism. The lace plant (Aponogeton madagascariensis) produces perforations in its leaves through PCD. The leaves of the plant consist of a latticework of longitudinal and transverse veins enclosing areoles. PCD occurs in the cells at the center of these areoles and progresses outwards, stopping approximately five cells from the vasculature. The role of mitochondria during PCD has been recognized in animals; however, it has been less studied during PCD in plants. The following paper elucidates the role of mitochondrial dynamics during developmentally regulated PCD in vivo in A. madagascariensis. A single areole within a window stage leaf (PCD is occurring) was divided into three areas based on the progression of PCD; cells that will not undergo PCD (NPCD), cells in early stages of PCD (EPCD), and cells in late stages of PCD (LPCD). Window stage leaves were stained with the mitochondrial dye MitoTracker Red CMXRos and examined. Mitochondrial dynamics were delineated into four categories (M1-M4) based on characteristics including distribution, motility, and membrane potential (ΔΨm). A TUNEL assay showed fragmented nDNA in a gradient over these mitochondrial stages. Chloroplasts and transvacuolar strands were also examined using live cell imaging. The possible importance of mitochondrial permeability transition pore (PTP) formation during PCD was indirectly examined via in vivo cyclosporine A (CsA) treatment. This treatment resulted in lace plant leaves with a significantly lower number of perforations compared to controls, and that displayed mitochondrial dynamics similar to that of non-PCD cells. Results depicted mitochondrial dynamics in vivo as PCD progresses within the lace plant, and highlight the correlation of this organelle with other organelles during developmental PCD. To the best of our knowledge, this is the first report of mitochondria and chloroplasts moving on transvacuolar strands to form a ring structure surrounding the nucleus during developmental PCD. Also, for the first time, we have shown the feasibility for the use of CsA in a whole plant system. Overall, our findings implicate the mitochondria as playing a critical and early role in developmentally regulated PCD in the lace plant.\\n \\nThe hypothesis was tested that pectin content and methylation degree participate in regulation of cell wall mechanical properties and in this way may affect tissue growth and freezing resistance over the course of plant cold acclimation and de-acclimation. Experiments were carried on the leaves of two double-haploid lines of winter oil-seed rape (Brassica napus subsp. oleifera), differing in winter survival and resistance to blackleg fungus (Leptosphaeria maculans). Plant acclimation in the cold (2 degrees C) brought about retardation of leaf expansion, concomitant with development of freezing resistance. These effects were associated with the increases in leaf tensile stiffness, cell wall and pectin contents, pectin methylesterase (EC 3.1.1.11) activity and the low-methylated pectin content, independently of the genotype studied. However, the cold-induced modifications in the cell wall properties were more pronounced in the leaves of the more pathogen-resistant genotype. De-acclimation promoted leaf expansion and reversed most of the cold-induced effects, with the exception of pectin methylesterase activity. The results show that the temperature-dependent modifications in pectin content and their methyl esterification degree correlate with changes in tensile strength of a leaf tissue, and in this way affect leaf expansion ability and its resistance to freezing and to fungus pathogens.\\n'}]}]}}"
      ]
     },
     "execution_count": 106,
     "metadata": {},
     "output_type": "execute_result"
    }
   ],
   "source": [
    "tasks[0]"
   ]
  },
  {
   "cell_type": "code",
   "execution_count": 107,
   "metadata": {},
   "outputs": [],
   "source": [
    "with open(\"batch.jsonl\", 'w') as file:\n",
    "    for obj in tasks:\n",
    "        file.write(json.dumps(obj) + '\\n')"
   ]
  },
  {
   "cell_type": "code",
   "execution_count": null,
   "metadata": {},
   "outputs": [],
   "source": []
  }
 ],
 "metadata": {
  "kernelspec": {
   "display_name": "Python 3",
   "language": "python",
   "name": "python3"
  },
  "language_info": {
   "codemirror_mode": {
    "name": "ipython",
    "version": 3
   },
   "file_extension": ".py",
   "mimetype": "text/x-python",
   "name": "python",
   "nbconvert_exporter": "python",
   "pygments_lexer": "ipython3",
   "version": "3.10.12"
  }
 },
 "nbformat": 4,
 "nbformat_minor": 2
}
