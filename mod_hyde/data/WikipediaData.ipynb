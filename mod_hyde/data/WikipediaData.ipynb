{
 "cells": [
  {
   "cell_type": "code",
   "execution_count": 1,
   "metadata": {},
   "outputs": [
    {
     "name": "stderr",
     "output_type": "stream",
     "text": [
      "/home/athekunal/.local/lib/python3.10/site-packages/tqdm/auto.py:21: TqdmWarning: IProgress not found. Please update jupyter and ipywidgets. See https://ipywidgets.readthedocs.io/en/stable/user_install.html\n",
      "  from .autonotebook import tqdm as notebook_tqdm\n"
     ]
    }
   ],
   "source": [
    "from datasets import load_dataset\n",
    "hotpot_qa = load_dataset(\"hotpot_qa\",\"distractor\")"
   ]
  },
  {
   "cell_type": "code",
   "execution_count": 2,
   "metadata": {},
   "outputs": [],
   "source": [
    "hp = hotpot_qa['train'][0]"
   ]
  },
  {
   "cell_type": "code",
   "execution_count": 4,
   "metadata": {},
   "outputs": [],
   "source": [
    "shuffled_dataset = hotpot_qa['train'].shuffle(42)"
   ]
  },
  {
   "cell_type": "code",
   "execution_count": 5,
   "metadata": {},
   "outputs": [],
   "source": [
    "subset_data = shuffled_dataset[0:5000]"
   ]
  },
  {
   "cell_type": "code",
   "execution_count": 28,
   "metadata": {},
   "outputs": [],
   "source": [
    "titles = [sd['title'] for sd in subset_data['context']]"
   ]
  },
  {
   "cell_type": "code",
   "execution_count": 6,
   "metadata": {},
   "outputs": [],
   "source": [
    "titles = []\n",
    "for sd in subset_data['context']:\n",
    "    titles.extend(sd['title'])"
   ]
  },
  {
   "cell_type": "code",
   "execution_count": 7,
   "metadata": {},
   "outputs": [],
   "source": [
    "from langchain_community.document_loaders import WikipediaLoader\n",
    "import wikipediaapi\n",
    "\n",
    "wikipedia_module = wikipediaapi.Wikipedia(\"HyDE-Project (athecolab@gmail.com)\", \"en\")\n",
    "# page_py = wikipedia_module.page(titles[1])"
   ]
  },
  {
   "cell_type": "code",
   "execution_count": 9,
   "metadata": {},
   "outputs": [
    {
     "name": "stderr",
     "output_type": "stream",
     "text": [
      "100%|██████████| 49772/49772 [1:16:24<00:00, 10.86it/s]  \n"
     ]
    }
   ],
   "source": [
    "import backoff\n",
    "import requests\n",
    "@backoff.on_exception(backoff.expo,requests.exceptions.Timeout,max_tries=5,max_time=30)\n",
    "def get_wikipedia(title):\n",
    "    page_py = wikipedia_module.page(title)\n",
    "    title_text = \"\"\n",
    "    for st in page_py.sections:\n",
    "        if st.title.lower() == 'references' or st.title.lower() == 'external links': continue\n",
    "        title_text += st.text + \"\\n\"\n",
    "    return title_text\n",
    "\n",
    "from tqdm import tqdm\n",
    "import os\n",
    "import pandas as pd\n",
    "\n",
    "def is_file_empty(file_path):\n",
    "    return os.path.getsize(file_path) == 0\n",
    "\n",
    "if not os.path.exists(f\"wikipedia_data.csv\"):\n",
    "    df = pd.DataFrame(columns=[\"title\",\"text\"],index=None)\n",
    "    df.to_csv(f\"wikipedia_data.csv\",index=False,header=True)\n",
    "else:\n",
    "    df = pd.read_csv(f\"wikipedia_data.csv\",index_col=False)\n",
    "\n",
    "if not os.path.exists(f\"done_wikipedia.txt\"):\n",
    "    os.mknod(f\"done_wikipedia.txt\")\n",
    "\n",
    "for title in tqdm(titles):\n",
    "    # docs = WikipediaLoader(\n",
    "    #         query=title, load_max_docs=1, doc_content_chars_max=1\n",
    "    #     ).load()\n",
    "    # wikipedia_title = docs[0].metadata[\"title\"]\n",
    "    if not is_file_empty(f\"done_wikipedia.txt\"):\n",
    "        with open(f\"done_wikipedia.txt\",\"r\") as f:\n",
    "            done_titles = [x for x in f.read().splitlines()]\n",
    "        # print(done_pids)\n",
    "        if title in done_titles: \n",
    "            continue\n",
    "    title_text = get_wikipedia(title)\n",
    "    df_dict = {\n",
    "        \"title\":[title],\n",
    "        \"text\":[title_text]\n",
    "    }\n",
    "    df = pd.DataFrame(df_dict)\n",
    "    \n",
    "    df.to_csv(f\"wikipedia_data.csv\", mode='a',index=False,header=False)\n",
    "    with open(f\"done_wikipedia.txt\", \"a\") as f:\n",
    "        f.write(f\"{title}\\n\")"
   ]
  },
  {
   "cell_type": "code",
   "execution_count": null,
   "metadata": {},
   "outputs": [],
   "source": []
  }
 ],
 "metadata": {
  "kernelspec": {
   "display_name": "Python 3",
   "language": "python",
   "name": "python3"
  },
  "language_info": {
   "codemirror_mode": {
    "name": "ipython",
    "version": 3
   },
   "file_extension": ".py",
   "mimetype": "text/x-python",
   "name": "python",
   "nbconvert_exporter": "python",
   "pygments_lexer": "ipython3",
   "version": "3.10.12"
  }
 },
 "nbformat": 4,
 "nbformat_minor": 2
}
