{
 "cells": [
  {
   "cell_type": "code",
   "execution_count": 1,
   "metadata": {},
   "outputs": [],
   "source": [
    "import pandas as pd\n",
    "\n",
    "final_df = pd.read_csv(\"pubmed_abstract_data.csv\",index_col=False)"
   ]
  },
  {
   "cell_type": "code",
   "execution_count": 16,
   "metadata": {},
   "outputs": [],
   "source": [
    "final_df.to_csv(\"pubmed_abstract_data.csv\",index=False)"
   ]
  },
  {
   "cell_type": "code",
   "execution_count": 2,
   "metadata": {},
   "outputs": [
    {
     "name": "stdout",
     "output_type": "stream",
     "text": [
      "UNLABELLED: What's known on the subject? and What does the study add? Previous reports, with small numbers of patients, have described the problem of incomplete testosterone suppression (>1.1 or 1.7 nmol/L) with LHRH agonists. Various predisposing factors have been suggested: different drug agents and patient factors such as age, pretreatment testosterone levels and weight. Such incomplete testosterone suppression has been shown in one small report to be associated with increased PSA failure rates and in another report in those with metastases, with worse survival. This study used testosterone assays that are more accurate at low levels than those used in most previous reports in a large dataset of 2196 men, and confirmed incomplete testosterone suppression (breakthrough) rates >1.7 nmol/L of 3.4% and >1.1 nmol/L of 6.6%. We showed that younger age was strongly associated with the risk of breakthrough, with a minor effect of increasing body mass index. Repeated breakthroughs were more common (16%) in those who had already had one breakthrough. Interim measures of cancer control (PSA kinetics during LHRH therapy) were inferior in those with a breakthrough, and those with breakthroughs between 1.1 and 1.7 nmol/L had worse long-term biochemical control rates.\n",
      "OBJECTIVES: • To describe breakthrough rates above castrate levels of testosterone, in a population-based series of men undergoing adjuvant luteinizing hormone-releasing hormone (LHRH) agonist therapy with curative radiation therapy. • To explore the predisposing factors for such breakthroughs and their impact on subsequent outcomes.\n",
      "PATIENTS AND METHODS: • All men treated for prostate cancer between 1998 and 2007 with curative radiation in the province of British Columbia, Canada were potentially eligible (n= 11752). Of these, 2196 fulfilled the eligibility criteria. • Serial testosterone measurements were obtained during continuous LHRH therapy. • Breakthrough rates >1.1 nmol/L and >1.7 nmol/L were calculated for each LHRH injection and for each patient course. • Predisposing factors were identified, and early surrogates of oncological outcome (neoadjuvant nadir and post-treatment nadir) were determined.\n",
      "RESULTS: • The risk of a breakthrough >1.1 nmol/L was 6.6%, and >1.7 nmol/L was 3.4% per patient course and 5.4% and 2.2% per LHRH injection (inclusive ranges). • Repeated breakthroughs occurred in 16% of patients. • Younger men were more liable to breakthroughs (P < 0.001). • Early PSA kinetic surrogates of cancer control were inferior in those with breakthroughs. • Neither overall biochemical non-evidence of disease (bNED) nor survival were compromised, although subgroup analysis showed inferior 5-year bNED in those with breakthroughs of 1.1-1.7 nmol/L vs those without (58% vs 73%, respectively; P= 0.048).\n",
      "CONCLUSIONS: • Breakthroughs with LHRH agonists occur occasionally per injection, but occur commonly per patient course of treatment, and adversely affect early surrogate measures of outcome. • The monitoring of testosterone levels during therapy is therefore advised.\n"
     ]
    }
   ],
   "source": [
    "print(final_df['abstract'].values[100])"
   ]
  },
  {
   "cell_type": "code",
   "execution_count": 3,
   "metadata": {},
   "outputs": [
    {
     "data": {
      "text/plain": [
       "\"What's known on the subject? and What does the study add? Previous reports, with small numbers of patients, have described the problem of incomplete testosterone suppression (>1.1 or 1.7 nmol/L) with LHRH agonists. Various predisposing factors have been suggested\""
      ]
     },
     "execution_count": 3,
     "metadata": {},
     "output_type": "execute_result"
    }
   ],
   "source": [
    "final_df['abstract'].values[100].split(\"\\n\")[0].split(\": \")[1]"
   ]
  },
  {
   "cell_type": "code",
   "execution_count": 8,
   "metadata": {},
   "outputs": [
    {
     "data": {
      "text/html": [
       "<div>\n",
       "<style scoped>\n",
       "    .dataframe tbody tr th:only-of-type {\n",
       "        vertical-align: middle;\n",
       "    }\n",
       "\n",
       "    .dataframe tbody tr th {\n",
       "        vertical-align: top;\n",
       "    }\n",
       "\n",
       "    .dataframe thead th {\n",
       "        text-align: right;\n",
       "    }\n",
       "</style>\n",
       "<table border=\"1\" class=\"dataframe\">\n",
       "  <thead>\n",
       "    <tr style=\"text-align: right;\">\n",
       "      <th></th>\n",
       "      <th>url</th>\n",
       "      <th>pid</th>\n",
       "      <th>abstract</th>\n",
       "      <th>label</th>\n",
       "    </tr>\n",
       "  </thead>\n",
       "  <tbody>\n",
       "    <tr>\n",
       "      <th>27000</th>\n",
       "      <td>https://pubmed.ncbi.nlm.nih.gov/21645374/</td>\n",
       "      <td>21645374</td>\n",
       "      <td>BACKGROUND: Programmed cell death (PCD) is the...</td>\n",
       "      <td>True</td>\n",
       "    </tr>\n",
       "    <tr>\n",
       "      <th>27001</th>\n",
       "      <td>https://pubmed.ncbi.nlm.nih.gov/16418930/</td>\n",
       "      <td>16418930</td>\n",
       "      <td>BACKGROUND: Assessment of visual acuity depend...</td>\n",
       "      <td>True</td>\n",
       "    </tr>\n",
       "    <tr>\n",
       "      <th>27002</th>\n",
       "      <td>https://pubmed.ncbi.nlm.nih.gov/9488747/</td>\n",
       "      <td>9488747</td>\n",
       "      <td>BACKGROUND: Apparent life-threatening events i...</td>\n",
       "      <td>True</td>\n",
       "    </tr>\n",
       "    <tr>\n",
       "      <th>27003</th>\n",
       "      <td>https://pubmed.ncbi.nlm.nih.gov/17208539/</td>\n",
       "      <td>17208539</td>\n",
       "      <td>PURPOSE: The transanal endorectal pull-through...</td>\n",
       "      <td>True</td>\n",
       "    </tr>\n",
       "    <tr>\n",
       "      <th>27004</th>\n",
       "      <td>https://pubmed.ncbi.nlm.nih.gov/10808977/</td>\n",
       "      <td>10808977</td>\n",
       "      <td>BACKGROUND: Telephone counseling and tailored ...</td>\n",
       "      <td>True</td>\n",
       "    </tr>\n",
       "    <tr>\n",
       "      <th>...</th>\n",
       "      <td>...</td>\n",
       "      <td>...</td>\n",
       "      <td>...</td>\n",
       "      <td>...</td>\n",
       "    </tr>\n",
       "    <tr>\n",
       "      <th>27995</th>\n",
       "      <td>https://pubmed.ncbi.nlm.nih.gov/8921484/</td>\n",
       "      <td>8921484</td>\n",
       "      <td>BACKGROUND: After 34 weeks gestation, summary ...</td>\n",
       "      <td>True</td>\n",
       "    </tr>\n",
       "    <tr>\n",
       "      <th>27996</th>\n",
       "      <td>https://pubmed.ncbi.nlm.nih.gov/16564683/</td>\n",
       "      <td>16564683</td>\n",
       "      <td>OBJECTIVE: To evaluate the accuracy of ultraso...</td>\n",
       "      <td>True</td>\n",
       "    </tr>\n",
       "    <tr>\n",
       "      <th>27997</th>\n",
       "      <td>https://pubmed.ncbi.nlm.nih.gov/23147106/</td>\n",
       "      <td>23147106</td>\n",
       "      <td>BACKGROUND: We analyzed the pharmacokinetic-ph...</td>\n",
       "      <td>True</td>\n",
       "    </tr>\n",
       "    <tr>\n",
       "      <th>27998</th>\n",
       "      <td>https://pubmed.ncbi.nlm.nih.gov/21550158/</td>\n",
       "      <td>21550158</td>\n",
       "      <td>PURPOSE: This investigation assesses the effec...</td>\n",
       "      <td>True</td>\n",
       "    </tr>\n",
       "    <tr>\n",
       "      <th>27999</th>\n",
       "      <td>https://pubmed.ncbi.nlm.nih.gov/17559449/</td>\n",
       "      <td>17559449</td>\n",
       "      <td>OBJECTIVE: The reduced use of sugars-containin...</td>\n",
       "      <td>True</td>\n",
       "    </tr>\n",
       "  </tbody>\n",
       "</table>\n",
       "<p>1000 rows × 4 columns</p>\n",
       "</div>"
      ],
      "text/plain": [
       "                                             url       pid  \\\n",
       "27000  https://pubmed.ncbi.nlm.nih.gov/21645374/  21645374   \n",
       "27001  https://pubmed.ncbi.nlm.nih.gov/16418930/  16418930   \n",
       "27002   https://pubmed.ncbi.nlm.nih.gov/9488747/   9488747   \n",
       "27003  https://pubmed.ncbi.nlm.nih.gov/17208539/  17208539   \n",
       "27004  https://pubmed.ncbi.nlm.nih.gov/10808977/  10808977   \n",
       "...                                          ...       ...   \n",
       "27995   https://pubmed.ncbi.nlm.nih.gov/8921484/   8921484   \n",
       "27996  https://pubmed.ncbi.nlm.nih.gov/16564683/  16564683   \n",
       "27997  https://pubmed.ncbi.nlm.nih.gov/23147106/  23147106   \n",
       "27998  https://pubmed.ncbi.nlm.nih.gov/21550158/  21550158   \n",
       "27999  https://pubmed.ncbi.nlm.nih.gov/17559449/  17559449   \n",
       "\n",
       "                                                abstract  label  \n",
       "27000  BACKGROUND: Programmed cell death (PCD) is the...   True  \n",
       "27001  BACKGROUND: Assessment of visual acuity depend...   True  \n",
       "27002  BACKGROUND: Apparent life-threatening events i...   True  \n",
       "27003  PURPOSE: The transanal endorectal pull-through...   True  \n",
       "27004  BACKGROUND: Telephone counseling and tailored ...   True  \n",
       "...                                                  ...    ...  \n",
       "27995  BACKGROUND: After 34 weeks gestation, summary ...   True  \n",
       "27996  OBJECTIVE: To evaluate the accuracy of ultraso...   True  \n",
       "27997  BACKGROUND: We analyzed the pharmacokinetic-ph...   True  \n",
       "27998  PURPOSE: This investigation assesses the effec...   True  \n",
       "27999  OBJECTIVE: The reduced use of sugars-containin...   True  \n",
       "\n",
       "[1000 rows x 4 columns]"
      ]
     },
     "execution_count": 8,
     "metadata": {},
     "output_type": "execute_result"
    }
   ],
   "source": [
    "true_df = final_df[final_df['label']==True]"
   ]
  },
  {
   "cell_type": "code",
   "execution_count": 11,
   "metadata": {},
   "outputs": [
    {
     "data": {
      "text/html": [
       "<div>\n",
       "<style scoped>\n",
       "    .dataframe tbody tr th:only-of-type {\n",
       "        vertical-align: middle;\n",
       "    }\n",
       "\n",
       "    .dataframe tbody tr th {\n",
       "        vertical-align: top;\n",
       "    }\n",
       "\n",
       "    .dataframe thead th {\n",
       "        text-align: right;\n",
       "    }\n",
       "</style>\n",
       "<table border=\"1\" class=\"dataframe\">\n",
       "  <thead>\n",
       "    <tr style=\"text-align: right;\">\n",
       "      <th></th>\n",
       "      <th>url</th>\n",
       "      <th>pid</th>\n",
       "      <th>abstract</th>\n",
       "      <th>label</th>\n",
       "    </tr>\n",
       "  </thead>\n",
       "  <tbody>\n",
       "    <tr>\n",
       "      <th>27000</th>\n",
       "      <td>https://pubmed.ncbi.nlm.nih.gov/21645374/</td>\n",
       "      <td>21645374</td>\n",
       "      <td>BACKGROUND: Programmed cell death (PCD) is the...</td>\n",
       "      <td>True</td>\n",
       "    </tr>\n",
       "    <tr>\n",
       "      <th>27001</th>\n",
       "      <td>https://pubmed.ncbi.nlm.nih.gov/16418930/</td>\n",
       "      <td>16418930</td>\n",
       "      <td>BACKGROUND: Assessment of visual acuity depend...</td>\n",
       "      <td>True</td>\n",
       "    </tr>\n",
       "    <tr>\n",
       "      <th>27002</th>\n",
       "      <td>https://pubmed.ncbi.nlm.nih.gov/9488747/</td>\n",
       "      <td>9488747</td>\n",
       "      <td>BACKGROUND: Apparent life-threatening events i...</td>\n",
       "      <td>True</td>\n",
       "    </tr>\n",
       "    <tr>\n",
       "      <th>27003</th>\n",
       "      <td>https://pubmed.ncbi.nlm.nih.gov/17208539/</td>\n",
       "      <td>17208539</td>\n",
       "      <td>PURPOSE: The transanal endorectal pull-through...</td>\n",
       "      <td>True</td>\n",
       "    </tr>\n",
       "    <tr>\n",
       "      <th>27004</th>\n",
       "      <td>https://pubmed.ncbi.nlm.nih.gov/10808977/</td>\n",
       "      <td>10808977</td>\n",
       "      <td>BACKGROUND: Telephone counseling and tailored ...</td>\n",
       "      <td>True</td>\n",
       "    </tr>\n",
       "    <tr>\n",
       "      <th>...</th>\n",
       "      <td>...</td>\n",
       "      <td>...</td>\n",
       "      <td>...</td>\n",
       "      <td>...</td>\n",
       "    </tr>\n",
       "    <tr>\n",
       "      <th>31995</th>\n",
       "      <td>16148658</td>\n",
       "      <td>https://pubmed.ncbi.nlm.nih.gov/16148658/</td>\n",
       "      <td>PURPOSE: We review the outcome of stopping pro...</td>\n",
       "      <td>False</td>\n",
       "    </tr>\n",
       "    <tr>\n",
       "      <th>31996</th>\n",
       "      <td>16148659</td>\n",
       "      <td>https://pubmed.ncbi.nlm.nih.gov/16148659/</td>\n",
       "      <td>PURPOSE: The presence of congenital para-urete...</td>\n",
       "      <td>False</td>\n",
       "    </tr>\n",
       "    <tr>\n",
       "      <th>31997</th>\n",
       "      <td>16148665</td>\n",
       "      <td>https://pubmed.ncbi.nlm.nih.gov/16148665/</td>\n",
       "      <td>PURPOSE: Traditional treatment of dysfunctiona...</td>\n",
       "      <td>False</td>\n",
       "    </tr>\n",
       "    <tr>\n",
       "      <th>31998</th>\n",
       "      <td>16148667</td>\n",
       "      <td>https://pubmed.ncbi.nlm.nih.gov/16148667/</td>\n",
       "      <td>PURPOSE: It has been suggested that in childre...</td>\n",
       "      <td>False</td>\n",
       "    </tr>\n",
       "    <tr>\n",
       "      <th>31999</th>\n",
       "      <td>16148675</td>\n",
       "      <td>https://pubmed.ncbi.nlm.nih.gov/16148675/</td>\n",
       "      <td>PURPOSE: With the constant advances in technol...</td>\n",
       "      <td>False</td>\n",
       "    </tr>\n",
       "  </tbody>\n",
       "</table>\n",
       "<p>5000 rows × 4 columns</p>\n",
       "</div>"
      ],
      "text/plain": [
       "                                             url  \\\n",
       "27000  https://pubmed.ncbi.nlm.nih.gov/21645374/   \n",
       "27001  https://pubmed.ncbi.nlm.nih.gov/16418930/   \n",
       "27002   https://pubmed.ncbi.nlm.nih.gov/9488747/   \n",
       "27003  https://pubmed.ncbi.nlm.nih.gov/17208539/   \n",
       "27004  https://pubmed.ncbi.nlm.nih.gov/10808977/   \n",
       "...                                          ...   \n",
       "31995                                   16148658   \n",
       "31996                                   16148659   \n",
       "31997                                   16148665   \n",
       "31998                                   16148667   \n",
       "31999                                   16148675   \n",
       "\n",
       "                                             pid  \\\n",
       "27000                                   21645374   \n",
       "27001                                   16418930   \n",
       "27002                                    9488747   \n",
       "27003                                   17208539   \n",
       "27004                                   10808977   \n",
       "...                                          ...   \n",
       "31995  https://pubmed.ncbi.nlm.nih.gov/16148658/   \n",
       "31996  https://pubmed.ncbi.nlm.nih.gov/16148659/   \n",
       "31997  https://pubmed.ncbi.nlm.nih.gov/16148665/   \n",
       "31998  https://pubmed.ncbi.nlm.nih.gov/16148667/   \n",
       "31999  https://pubmed.ncbi.nlm.nih.gov/16148675/   \n",
       "\n",
       "                                                abstract  label  \n",
       "27000  BACKGROUND: Programmed cell death (PCD) is the...   True  \n",
       "27001  BACKGROUND: Assessment of visual acuity depend...   True  \n",
       "27002  BACKGROUND: Apparent life-threatening events i...   True  \n",
       "27003  PURPOSE: The transanal endorectal pull-through...   True  \n",
       "27004  BACKGROUND: Telephone counseling and tailored ...   True  \n",
       "...                                                  ...    ...  \n",
       "31995  PURPOSE: We review the outcome of stopping pro...  False  \n",
       "31996  PURPOSE: The presence of congenital para-urete...  False  \n",
       "31997  PURPOSE: Traditional treatment of dysfunctiona...  False  \n",
       "31998  PURPOSE: It has been suggested that in childre...  False  \n",
       "31999  PURPOSE: With the constant advances in technol...  False  \n",
       "\n",
       "[5000 rows x 4 columns]"
      ]
     },
     "execution_count": 11,
     "metadata": {},
     "output_type": "execute_result"
    }
   ],
   "source": [
    "final_df[27000:32000]"
   ]
  },
  {
   "cell_type": "code",
   "execution_count": 12,
   "metadata": {},
   "outputs": [],
   "source": [
    "pubmed_texts = []\n",
    "faulty = []\n",
    "for idx,i in enumerate(final_df[27000:32000].iterrows()):\n",
    "    abstract_list = i[1]['abstract'].split(\"\\n\")\n",
    "    try:\n",
    "        abstract_list = [al.split(\": \")[1] for al in abstract_list if len(al.split(\": \"))>0]\n",
    "        pubmed_texts.append(\" \".join(abstract_list))\n",
    "    except:\n",
    "        print(idx)\n",
    "        faulty.append(i[1])\n",
    "        print(abstract_list)"
   ]
  },
  {
   "cell_type": "code",
   "execution_count": 13,
   "metadata": {},
   "outputs": [
    {
     "data": {
      "text/plain": [
       "5000"
      ]
     },
     "execution_count": 13,
     "metadata": {},
     "output_type": "execute_result"
    }
   ],
   "source": [
    "len(pubmed_texts)"
   ]
  },
  {
   "cell_type": "code",
   "execution_count": 14,
   "metadata": {},
   "outputs": [],
   "source": [
    "# pubmed_texts.append(\"The association between differentiated thyroid carcinoma (DTC) and chronic lymphocytic thyroiditis (CLT) has been reported in literature.  To evaluate the incidence of this association and to determine whether the CLT may influence on the early initial staging of DTC when associated with other variable risks.  Historical (retrospective) cohort.  Fifty two patients with DTC were evaluated from 1999 to 2009. They were divided into two groups. The first group had 35 patients with DTC without DLT; the second had 17 patients with CLT. Total thyroidectomy was the treatment chosen for all patients. Similarities shared in both groups such as age, gender, histological tumor type, tumor diameter, regional only or with distant metastases, extrathyroidal invasion, multifocality and presence of tumor capsule were considered. T-Student tests and Chi-square tests were applied to analyze the data.  The incidence of DTC without CLT was higher that of DTC+CLT (p=0.0126). We noticed no statistic differences between the common variables analyzed.  CLT occurred in 33% of the patients with DCT. All cases of DTC were in the early stages.\")\n",
    "# pubmed_texts.append(\"Abnormalities in craniofacial morphology are associated with Eustachian tube dysfunction and otitis media with effusion (OME).  to evaluate the relationship between facial pattern and craniofacial growth direction, and OME in children with enlarged tonsils and adenoids (ETA).  Clinical prospective survey in 79 children (41 male and 38 female), ranging from 4 to 10 years of age, with tonsil and adenoid enlargement (Brodsky's grades III and IV). Forty children presented with OME (study group) and 39 did not (control group). Cephalometric analysis was used to determine the facial pattern.  There was no correlation observed between facial pattern and OME (c 2 = 0.25  = 0.88). Facial Axis was larger in the OME group (F(1.75) = 3.68  = 0.05) and the Lower Anterior Facial height was smaller (F(1. 75) = 3.99  = 0.05) in children with otitis media with effusion.  There was no correlation between OME and facial pattern in children with ETA although a more horizontal facial growth direction, and a smaller lower anterior facial height was observed consistently among subjects in this group. This suggests that abnormal positioning of the eustachian tube influences the development of OME in children with ETA.\")"
   ]
  },
  {
   "cell_type": "code",
   "execution_count": 18,
   "metadata": {},
   "outputs": [],
   "source": [
    "with open(\"pubmed_subset.txt\",'w') as f:\n",
    "    for txt in pubmed_texts:\n",
    "        f.write(txt)\n",
    "        f.write(\"\\n<END>\\n\")"
   ]
  },
  {
   "cell_type": "code",
   "execution_count": 19,
   "metadata": {},
   "outputs": [],
   "source": [
    "with open(\"pubmed_subset.txt\",'r') as f:\n",
    "    all_text = f.read()"
   ]
  },
  {
   "cell_type": "code",
   "execution_count": 21,
   "metadata": {},
   "outputs": [
    {
     "data": {
      "text/plain": [
       "5000"
      ]
     },
     "execution_count": 21,
     "metadata": {},
     "output_type": "execute_result"
    }
   ],
   "source": [
    "len(all_text.split(\"<END>\")[:-1])"
   ]
  },
  {
   "cell_type": "code",
   "execution_count": 22,
   "metadata": {},
   "outputs": [
    {
     "data": {
      "text/plain": [
       "'\\nWith the constant advances in technology and expertise of prenatal diagnosis, necessity of early counseling in cases of bilateral obstructive uropathy has become of paramount importance. To better evaluate fetal renal function new biochemical (serum and urine) fetal markers have been introduced in the literature. However, they are only available at select centers and always requiring an invasive approach. Furthermore, paucity of normal controls sometimes makes interpretation of results difficult. Owing to this growing interest towards biochemical evaluation of fetal renal function, assessment of amniotic fluid, which is mostly expression of fetal urination, has progressively fallen into disrepute, and studies comparing the amount of amniotic fluid with renal function are scant. In a 3-year period 28 cases of bilateral obstructive uropathy were seen prenatally at the Artemisia Medical Center. All cases were initially reviewed at 17 to 20 weeks of gestation when a distended fetal bladder with thickened wall and enlarged kidneys were visualized. At the same time ultrasonographic assessment of amniotic fluid was performed by calculating the amniotic fluid index. An amniotic fluid index less than the 25th percentile was considered below average and an index less below the 5th percentile was considered oligohydramnios, whereas an index between 50th and 75th percentiles was considered normal. All cases were subsequently evaluated for renal function up to age 1 year. Impaired renal function was defined as a serum creatinine greater than 1.2 mg/dl before age 1 year. Of the 28 cases 18 had an index of oligohydramnios (group 1) and 10 had a normal index (group 2). No significant variations were observed in amniotic fluid index at repeated consultations throughout pregnancy. Two cases in group 1 and 1 case in group 2 were lost to followup while in the other group 1 cases intrauterine death occurred. Bilateral obstructive uropathy was confirmed in all instances after birth as valves in 18 cases and urethral atresia in 3. Of the 12 surviving group 1 cases there were 3 neonatal deaths from severe lung hypoplasia, and in the remaining 9 cases mean serum creatinine at each evaluation before age 1 year was 1.3 +/- 0.2 mg/dl. All patients in group 2 survived with a mean serum creatinine at each evaluation of 0.6 +/- 0.1 mg/dl (p <0.05). Despite widespread use of prenatal biochemistry, evaluation of amniotic fluid by the amniotic fluid index remains a reproducible and inexpensive method to predict renal function in cases of bilateral obstructive uropathy of any origin. It retains its validity not only in severe, but also in milder reductions. Conversely, intact amniotic fluid mostly invariably predicts normal renal function at long-term evaluation. For a better understanding of the disease such information is to be promptly conveyed to the prospective parents at each prenatal consultation.\\n'"
      ]
     },
     "execution_count": 22,
     "metadata": {},
     "output_type": "execute_result"
    }
   ],
   "source": [
    "all_text.split(\"<END>\")[-2]"
   ]
  },
  {
   "cell_type": "code",
   "execution_count": null,
   "metadata": {},
   "outputs": [],
   "source": []
  }
 ],
 "metadata": {
  "kernelspec": {
   "display_name": "Python 3",
   "language": "python",
   "name": "python3"
  },
  "language_info": {
   "codemirror_mode": {
    "name": "ipython",
    "version": 3
   },
   "file_extension": ".py",
   "mimetype": "text/x-python",
   "name": "python",
   "nbconvert_exporter": "python",
   "pygments_lexer": "ipython3",
   "version": "3.10.12"
  }
 },
 "nbformat": 4,
 "nbformat_minor": 2
}
