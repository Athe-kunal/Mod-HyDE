{
 "cells": [
  {
   "cell_type": "code",
   "execution_count": 5,
   "metadata": {},
   "outputs": [],
   "source": [
    "import pandas as pd\n",
    "\n",
    "final_df = pd.read_csv(\"pubmed_abstract_data.csv\",index_col=False)"
   ]
  },
  {
   "cell_type": "code",
   "execution_count": 16,
   "metadata": {},
   "outputs": [],
   "source": [
    "final_df.to_csv(\"pubmed_abstract_data.csv\",index=False)"
   ]
  },
  {
   "cell_type": "code",
   "execution_count": 20,
   "metadata": {},
   "outputs": [
    {
     "name": "stdout",
     "output_type": "stream",
     "text": [
      "UNLABELLED: What's known on the subject? and What does the study add? Previous reports, with small numbers of patients, have described the problem of incomplete testosterone suppression (>1.1 or 1.7 nmol/L) with LHRH agonists. Various predisposing factors have been suggested: different drug agents and patient factors such as age, pretreatment testosterone levels and weight. Such incomplete testosterone suppression has been shown in one small report to be associated with increased PSA failure rates and in another report in those with metastases, with worse survival. This study used testosterone assays that are more accurate at low levels than those used in most previous reports in a large dataset of 2196 men, and confirmed incomplete testosterone suppression (breakthrough) rates >1.7 nmol/L of 3.4% and >1.1 nmol/L of 6.6%. We showed that younger age was strongly associated with the risk of breakthrough, with a minor effect of increasing body mass index. Repeated breakthroughs were more common (16%) in those who had already had one breakthrough. Interim measures of cancer control (PSA kinetics during LHRH therapy) were inferior in those with a breakthrough, and those with breakthroughs between 1.1 and 1.7 nmol/L had worse long-term biochemical control rates.\n",
      "OBJECTIVES: • To describe breakthrough rates above castrate levels of testosterone, in a population-based series of men undergoing adjuvant luteinizing hormone-releasing hormone (LHRH) agonist therapy with curative radiation therapy. • To explore the predisposing factors for such breakthroughs and their impact on subsequent outcomes.\n",
      "PATIENTS AND METHODS: • All men treated for prostate cancer between 1998 and 2007 with curative radiation in the province of British Columbia, Canada were potentially eligible (n= 11752). Of these, 2196 fulfilled the eligibility criteria. • Serial testosterone measurements were obtained during continuous LHRH therapy. • Breakthrough rates >1.1 nmol/L and >1.7 nmol/L were calculated for each LHRH injection and for each patient course. • Predisposing factors were identified, and early surrogates of oncological outcome (neoadjuvant nadir and post-treatment nadir) were determined.\n",
      "RESULTS: • The risk of a breakthrough >1.1 nmol/L was 6.6%, and >1.7 nmol/L was 3.4% per patient course and 5.4% and 2.2% per LHRH injection (inclusive ranges). • Repeated breakthroughs occurred in 16% of patients. • Younger men were more liable to breakthroughs (P < 0.001). • Early PSA kinetic surrogates of cancer control were inferior in those with breakthroughs. • Neither overall biochemical non-evidence of disease (bNED) nor survival were compromised, although subgroup analysis showed inferior 5-year bNED in those with breakthroughs of 1.1-1.7 nmol/L vs those without (58% vs 73%, respectively; P= 0.048).\n",
      "CONCLUSIONS: • Breakthroughs with LHRH agonists occur occasionally per injection, but occur commonly per patient course of treatment, and adversely affect early surrogate measures of outcome. • The monitoring of testosterone levels during therapy is therefore advised.\n"
     ]
    }
   ],
   "source": [
    "print(final_df['abstract'].values[100])"
   ]
  },
  {
   "cell_type": "code",
   "execution_count": 23,
   "metadata": {},
   "outputs": [
    {
     "data": {
      "text/plain": [
       "\"What's known on the subject? and What does the study add? Previous reports, with small numbers of patients, have described the problem of incomplete testosterone suppression (>1.1 or 1.7 nmol/L) with LHRH agonists. Various predisposing factors have been suggested\""
      ]
     },
     "execution_count": 23,
     "metadata": {},
     "output_type": "execute_result"
    }
   ],
   "source": [
    "final_df['abstract'].values[100].split(\"\\n\")[0].split(\": \")[1]"
   ]
  },
  {
   "cell_type": "code",
   "execution_count": 42,
   "metadata": {},
   "outputs": [
    {
     "name": "stdout",
     "output_type": "stream",
     "text": [
      "[\"['Aim:', 'Study design:', 'Materials and Methods:', 'Results:', 'Conclusions:']\", 'The association between differentiated thyroid carcinoma (DTC) and chronic lymphocytic thyroiditis (CLT) has been reported in literature.  To evaluate the incidence of this association and to determine whether the CLT may influence on the early initial staging of DTC when associated with other variable risks.  Historical (retrospective) cohort.  Fifty two patients with DTC were evaluated from 1999 to 2009. They were divided into two groups. The first group had 35 patients with DTC without DLT; the second had 17 patients with CLT. Total thyroidectomy was the treatment chosen for all patients. Similarities shared in both groups such as age, gender, histological tumor type, tumor diameter, regional only or with distant metastases, extrathyroidal invasion, multifocality and presence of tumor capsule were considered. T-Student tests and Chi-square tests were applied to analyze the data.  The incidence of DTC without CLT was higher that of DTC+CLT (p=0.0126). We noticed no statistic differences between the common variables analyzed.  CLT occurred in 33% of the patients with DCT. All cases of DTC were in the early stages.']\n",
      "[\"['Aim:', 'Methods:', 'Results:', 'Conclusions:']\", \"['p', 'p', 'p']\", \"Abnormalities in craniofacial morphology are associated with Eustachian tube dysfunction and otitis media with effusion (OME).  to evaluate the relationship between facial pattern and craniofacial growth direction, and OME in children with enlarged tonsils and adenoids (ETA).  Clinical prospective survey in 79 children (41 male and 38 female), ranging from 4 to 10 years of age, with tonsil and adenoid enlargement (Brodsky's grades III and IV). Forty children presented with OME (study group) and 39 did not (control group). Cephalometric analysis was used to determine the facial pattern.  There was no correlation observed between facial pattern and OME (c 2 = 0.25  = 0.88). Facial Axis was larger in the OME group (F(1.75) = 3.68  = 0.05) and the Lower Anterior Facial height was smaller (F(1. 75) = 3.99  = 0.05) in children with otitis media with effusion.  There was no correlation between OME and facial pattern in children with ETA although a more horizontal facial growth direction, and a smaller lower anterior facial height was observed consistently among subjects in this group. This suggests that abnormal positioning of the eustachian tube influences the development of OME in children with ETA.\"]\n"
     ]
    }
   ],
   "source": [
    "pubmed_texts = []\n",
    "faulty = []\n",
    "for i in final_df.iterrows():\n",
    "    abstract_list = i[1]['abstract'].split(\"\\n\")\n",
    "    try:\n",
    "        abstract_list = [al.split(\": \")[1] for al in abstract_list if len(al.split(\": \"))>0]\n",
    "        pubmed_texts.append(\" \".join(abstract_list))\n",
    "    except:\n",
    "        faulty.append(i[1])\n",
    "        print(abstract_list)"
   ]
  },
  {
   "cell_type": "code",
   "execution_count": 46,
   "metadata": {},
   "outputs": [],
   "source": [
    "pubmed_texts.append(\"The association between differentiated thyroid carcinoma (DTC) and chronic lymphocytic thyroiditis (CLT) has been reported in literature.  To evaluate the incidence of this association and to determine whether the CLT may influence on the early initial staging of DTC when associated with other variable risks.  Historical (retrospective) cohort.  Fifty two patients with DTC were evaluated from 1999 to 2009. They were divided into two groups. The first group had 35 patients with DTC without DLT; the second had 17 patients with CLT. Total thyroidectomy was the treatment chosen for all patients. Similarities shared in both groups such as age, gender, histological tumor type, tumor diameter, regional only or with distant metastases, extrathyroidal invasion, multifocality and presence of tumor capsule were considered. T-Student tests and Chi-square tests were applied to analyze the data.  The incidence of DTC without CLT was higher that of DTC+CLT (p=0.0126). We noticed no statistic differences between the common variables analyzed.  CLT occurred in 33% of the patients with DCT. All cases of DTC were in the early stages.\")\n",
    "pubmed_texts.append(\"Abnormalities in craniofacial morphology are associated with Eustachian tube dysfunction and otitis media with effusion (OME).  to evaluate the relationship between facial pattern and craniofacial growth direction, and OME in children with enlarged tonsils and adenoids (ETA).  Clinical prospective survey in 79 children (41 male and 38 female), ranging from 4 to 10 years of age, with tonsil and adenoid enlargement (Brodsky's grades III and IV). Forty children presented with OME (study group) and 39 did not (control group). Cephalometric analysis was used to determine the facial pattern.  There was no correlation observed between facial pattern and OME (c 2 = 0.25  = 0.88). Facial Axis was larger in the OME group (F(1.75) = 3.68  = 0.05) and the Lower Anterior Facial height was smaller (F(1. 75) = 3.99  = 0.05) in children with otitis media with effusion.  There was no correlation between OME and facial pattern in children with ETA although a more horizontal facial growth direction, and a smaller lower anterior facial height was observed consistently among subjects in this group. This suggests that abnormal positioning of the eustachian tube influences the development of OME in children with ETA.\")"
   ]
  },
  {
   "cell_type": "code",
   "execution_count": 47,
   "metadata": {},
   "outputs": [
    {
     "data": {
      "text/plain": [
       "36000"
      ]
     },
     "execution_count": 47,
     "metadata": {},
     "output_type": "execute_result"
    }
   ],
   "source": [
    "len(pubmed_texts)"
   ]
  }
 ],
 "metadata": {
  "kernelspec": {
   "display_name": "Python 3",
   "language": "python",
   "name": "python3"
  },
  "language_info": {
   "codemirror_mode": {
    "name": "ipython",
    "version": 3
   },
   "file_extension": ".py",
   "mimetype": "text/x-python",
   "name": "python",
   "nbconvert_exporter": "python",
   "pygments_lexer": "ipython3",
   "version": "3.10.12"
  }
 },
 "nbformat": 4,
 "nbformat_minor": 2
}
