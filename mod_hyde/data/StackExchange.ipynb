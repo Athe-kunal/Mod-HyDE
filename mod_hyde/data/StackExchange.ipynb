{
 "cells": [
  {
   "cell_type": "code",
   "execution_count": 20,
   "metadata": {},
   "outputs": [],
   "source": [
    "from datasets import load_dataset\n",
    "\n",
    "stack_exchange_data = load_dataset(\"HuggingFaceH4/stack-exchange-preferences\",split=\"train\",streaming=True)\n",
    "stackexchange_subset_data = stack_exchange_data.take(1000_000)"
   ]
  },
  {
   "cell_type": "code",
   "execution_count": 21,
   "metadata": {},
   "outputs": [],
   "source": [
    "stack_exchange_data_list = list(stackexchange_subset_data)"
   ]
  },
  {
   "cell_type": "code",
   "execution_count": 30,
   "metadata": {},
   "outputs": [],
   "source": [
    "sd = stack_exchange_data_list[10050]"
   ]
  },
  {
   "cell_type": "code",
   "execution_count": 31,
   "metadata": {},
   "outputs": [
    {
     "data": {
      "text/plain": [
       "{'qid': 74880,\n",
       " 'question': '<p>Conceptually, I would like to accomplish the following but have had trouble understand how to code it properly in C#:</p>\\n\\n<pre><code>\\nSomeMethod { // Member of AClass{}\\n    DoSomething;\\n    Start WorkerMethod() from BClass in another thread;\\n    DoSomethingElse;\\n}\\n</code></pre>\\n\\n<p>Then, when WorkerMethod() is complete, run this:</p>\\n\\n<p><pre><code>\\nvoid SomeOtherMethod()  // Also member of AClass{}\\n{ ... }\\n</pre></code></p>\\n\\n<p>Can anyone please give an example of that? </p>\\n',\n",
       " 'answers': [{'answer_id': 74917,\n",
       "   'author': 'MagicKat',\n",
       "   'author_id': 8505,\n",
       "   'author_profile': 'https://Stackoverflow.com/users/8505',\n",
       "   'pm_score': 1,\n",
       "   'selected': False,\n",
       "   'text': '<p>Check out BackgroundWorker.</p>\\n'},\n",
       "  {'answer_id': 74948,\n",
       "   'author': 'Isak Savo',\n",
       "   'author_id': 8521,\n",
       "   'author_profile': 'https://Stackoverflow.com/users/8521',\n",
       "   'pm_score': 5,\n",
       "   'selected': True,\n",
       "   'text': '<p>The <a href=\"http://msdn.microsoft.com/en-us/library/system.componentmodel.backgroundworker.aspx\" rel=\"noreferrer\">BackgroundWorker</a> class was added to .NET 2.0 for this exact purpose.</p>\\n\\n<p>In a nutshell you do:</p>\\n\\n<pre><code>BackgroundWorker worker = new BackgroundWorker();\\nworker.DoWork += delegate { myBClass.DoHardWork(); }\\nworker.RunWorkerCompleted += new RunWorkerCompletedEventHandler(SomeOtherMethod);\\nworker.RunWorkerAsync();\\n</code></pre>\\n\\n<p>You can also add fancy stuff like cancellation and progress reporting if you want :)</p>\\n'},\n",
       "  {'answer_id': 75050,\n",
       "   'author': 'Randolpho',\n",
       "   'author_id': 12716,\n",
       "   'author_profile': 'https://Stackoverflow.com/users/12716',\n",
       "   'pm_score': 0,\n",
       "   'selected': False,\n",
       "   'text': \"<p>Ok, I'm unsure of how you want to go about this. From your example, it looks like WorkerMethod does not create its own thread to execute under, but you want to call that method on another thread. </p>\\n\\n<p>In that case, create a short worker method that calls WorkerMethod then calls SomeOtherMethod, and queue that method up on another thread. Then when WorkerMethod completes, SomeOtherMethod is called. For example:</p>\\n\\n<pre><code>public class AClass\\n{\\n    public void SomeMethod()\\n    {\\n        DoSomething();\\n\\n        ThreadPool.QueueUserWorkItem(delegate(object state)\\n        {\\n            BClass.WorkerMethod();\\n            SomeOtherMethod();\\n        });\\n\\n        DoSomethingElse();\\n    }\\n\\n    private void SomeOtherMethod()\\n    {\\n        // handle the fact that WorkerMethod has completed. \\n        // Note that this is called on the Worker Thread, not\\n        // the main thread.\\n    }\\n}\\n</code></pre>\\n\"},\n",
       "  {'answer_id': 75164,\n",
       "   'author': 'Vivek',\n",
       "   'author_id': 7418,\n",
       "   'author_profile': 'https://Stackoverflow.com/users/7418',\n",
       "   'pm_score': 1,\n",
       "   'selected': False,\n",
       "   'text': '<p>Use Async Delegates:</p>\\n\\n<pre><code>// Method that does the real work\\npublic int SomeMethod(int someInput)\\n{\\nThread.Sleep(20);\\nConsole.WriteLine(”Processed input : {0}”,someInput);\\nreturn someInput+1;\\n} \\n\\n\\n// Method that will be called after work is complete\\npublic void EndSomeOtherMethod(IAsyncResult result)\\n{\\nSomeMethodDelegate myDelegate = result.AsyncState as SomeMethodDelegate;\\n// obtain the result\\nint resultVal = myDelegate.EndInvoke(result);\\nConsole.WriteLine(”Returned output : {0}”,resultVal);\\n}\\n\\n// Define a delegate\\ndelegate int SomeMethodDelegate(int someInput);\\nSomeMethodDelegate someMethodDelegate = SomeMethod;\\n\\n// Call the method that does the real work\\n// Give the method name that must be called once the work is completed.\\nsomeMethodDelegate.BeginInvoke(10, // Input parameter to SomeMethod()\\nEndSomeOtherMethod, // Callback Method\\nsomeMethodDelegate); // AsyncState\\n</code></pre>\\n'},\n",
       "  {'answer_id': 75513,\n",
       "   'author': 'ashwnacharya',\n",
       "   'author_id': 1909,\n",
       "   'author_profile': 'https://Stackoverflow.com/users/1909',\n",
       "   'pm_score': 2,\n",
       "   'selected': False,\n",
       "   'text': '<p>You have to use AsyncCallBacks. You can use AsyncCallBacks to specify a delegate to a method, and then specify CallBack Methods that get called once the execution of the target method completes.</p>\\n\\n<p>Here is a small Example, run and see it for yourself.</p>\\n\\n<p>class Program\\n    {</p>\\n\\n<pre><code>    public delegate void AsyncMethodCaller();\\n\\n\\n    public static void WorkerMethod()\\n    {\\n        Console.WriteLine(\"I am the first method that is called.\");\\n        Thread.Sleep(5000);\\n        Console.WriteLine(\"Exiting from WorkerMethod.\");\\n    }\\n\\n    public static void SomeOtherMethod(IAsyncResult result)\\n    {\\n        Console.WriteLine(\"I am called after the Worker Method completes.\");\\n    }\\n\\n\\n\\n    static void Main(string[] args)\\n    {\\n        AsyncMethodCaller asyncCaller = new AsyncMethodCaller(WorkerMethod);\\n        AsyncCallback callBack = new AsyncCallback(SomeOtherMethod);\\n        IAsyncResult result = asyncCaller.BeginInvoke(callBack, null);\\n        Console.WriteLine(\"Worker method has been called.\");\\n        Console.WriteLine(\"Waiting for all invocations to complete.\");\\n        Console.Read();\\n\\n    }\\n}\\n</code></pre>\\n'},\n",
       "  {'answer_id': 75743,\n",
       "   'author': 'Keith',\n",
       "   'author_id': 905,\n",
       "   'author_profile': 'https://Stackoverflow.com/users/905',\n",
       "   'pm_score': 3,\n",
       "   'selected': False,\n",
       "   'text': \"<p>In .Net 2 the BackgroundWorker was introduced, this makes running async operations really easy:</p>\\n\\n<pre><code>BackgroundWorker bw = new BackgroundWorker { WorkerReportsProgress = true };\\n\\nbw.DoWork += (sender, e) =&gt; \\n   {\\n       //what happens here must not touch the form\\n       //as it's in a different thread\\n   };\\n\\nbw.ProgressChanged += ( sender, e ) =&gt;\\n   {\\n       //update progress bars here\\n   };\\n\\nbw.RunWorkerCompleted += (sender, e) =&gt; \\n   {\\n       //now you're back in the UI thread you can update the form\\n       //remember to dispose of bw now\\n   };\\n\\nworker.RunWorkerAsync();\\n</code></pre>\\n\\n<p>In .Net 1 you have to use threads.</p>\\n\"},\n",
       "  {'answer_id': 77113,\n",
       "   'author': 'Romain Verdier',\n",
       "   'author_id': 4687,\n",
       "   'author_profile': 'https://Stackoverflow.com/users/4687',\n",
       "   'pm_score': 2,\n",
       "   'selected': False,\n",
       "   'text': '<p>Although there are several possibilities here, I would use a delegate, asynchronously called using <code>BeginInvoke</code> method.</p>\\n\\n<p><strong>Warning</strong> : don\\'t forget to always call <code>EndInvoke</code> on the <code>IAsyncResult</code> to avoid eventual memory leaks, as described in <a href=\"http://www.ondotnet.com/pub/a/dotnet/2003/02/24/asyncdelegates.html?page=2\" rel=\"nofollow noreferrer\">this article</a>.</p>\\n'}],\n",
       " 'date': '2008/09/16',\n",
       " 'metadata': ['https://Stackoverflow.com/questions/74880',\n",
       "  'https://Stackoverflow.com',\n",
       "  'https://Stackoverflow.com/users/10505/']}"
      ]
     },
     "execution_count": 31,
     "metadata": {},
     "output_type": "execute_result"
    }
   ],
   "source": [
    "sd"
   ]
  },
  {
   "cell_type": "code",
   "execution_count": 24,
   "metadata": {},
   "outputs": [],
   "source": [
    "from bs4 import BeautifulSoup\n",
    "import pandas as pd\n",
    "from tqdm import tqdm\n",
    "def get_text_html(html_text):\n",
    "    soup = BeautifulSoup(html_text, 'html.parser')\n",
    "\n",
    "    all_text = soup.get_text()\n",
    "    return all_text\n",
    "\n",
    "columns = ['date','qid','question','answer_text','selected_answer_text','stack_exchange']\n",
    "df = pd.DataFrame(columns=columns)\n",
    "\n",
    "qids = []\n",
    "dates = []\n",
    "question_list = []\n",
    "answer_text_list = []\n",
    "selected_answer_text_list = []\n",
    "stack_exchange_list = []\n",
    "for sd in tqdm(stack_exchange_data_list):\n",
    "    best_answer_pm_score_list = [s['pm_score'] for s in sd['answers']]\n",
    "    if len(list(set(best_answer_pm_score_list))) < len(best_answer_pm_score_list): continue\n",
    "    if \"meta\" in sd['metadata'][0]:continue\n",
    "\n",
    "    qids.append(sd['qid'])\n",
    "    dates.append(sd['date'])\n",
    "    link = sd['metadata'][1]\n",
    "    stack_exchange_list.append(link[link.find(\"//\"):link.find(\".\")][2:])\n",
    "    question_list.append(get_text_html(sd['question']))\n",
    "    answer_text = \"\"\n",
    "    best_answer = \"\"\n",
    "    best_answer_pm_score = 0\n",
    "    for idx,ans in enumerate(sd['answers']):\n",
    "        answer_text += get_text_html(ans['text']) + \"\\n\\n\\n\\n\"\n",
    "        if ans['pm_score'] > best_answer_pm_score:\n",
    "            best_answer = answer_text.split(\"\\n\\n\\n\\n\")[0]\n",
    "\n",
    "    answer_text_list.append(answer_text)\n",
    "    selected_answer_text_list.append(best_answer)"
   ]
  },
  {
   "cell_type": "code",
   "execution_count": 25,
   "metadata": {},
   "outputs": [
    {
     "data": {
      "text/html": [
       "<div>\n",
       "<style scoped>\n",
       "    .dataframe tbody tr th:only-of-type {\n",
       "        vertical-align: middle;\n",
       "    }\n",
       "\n",
       "    .dataframe tbody tr th {\n",
       "        vertical-align: top;\n",
       "    }\n",
       "\n",
       "    .dataframe thead th {\n",
       "        text-align: right;\n",
       "    }\n",
       "</style>\n",
       "<table border=\"1\" class=\"dataframe\">\n",
       "  <thead>\n",
       "    <tr style=\"text-align: right;\">\n",
       "      <th></th>\n",
       "      <th>date</th>\n",
       "      <th>qid</th>\n",
       "      <th>question</th>\n",
       "      <th>answer_text</th>\n",
       "      <th>selected_answer_text</th>\n",
       "      <th>stack_exchange</th>\n",
       "    </tr>\n",
       "  </thead>\n",
       "  <tbody>\n",
       "    <tr>\n",
       "      <th>0</th>\n",
       "      <td>2016/01/12</td>\n",
       "      <td>1</td>\n",
       "      <td>When I've printed an object I've had to choose...</td>\n",
       "      <td>You could experiment with slicing. For example...</td>\n",
       "      <td>You could experiment with slicing. For example...</td>\n",
       "      <td>3dprinting</td>\n",
       "    </tr>\n",
       "    <tr>\n",
       "      <th>1</th>\n",
       "      <td>2016/01/12</td>\n",
       "      <td>3</td>\n",
       "      <td>I know the minimum layer height will effect ho...</td>\n",
       "      <td>As with any manufacturing process, you'll need...</td>\n",
       "      <td>As with any manufacturing process, you'll need...</td>\n",
       "      <td>3dprinting</td>\n",
       "    </tr>\n",
       "    <tr>\n",
       "      <th>2</th>\n",
       "      <td>2016/01/12</td>\n",
       "      <td>19</td>\n",
       "      <td>My printed parts consist rafts, supports and o...</td>\n",
       "      <td>The best way to get rid of them is to change t...</td>\n",
       "      <td>The best way to get rid of them is to change t...</td>\n",
       "      <td>3dprinting</td>\n",
       "    </tr>\n",
       "    <tr>\n",
       "      <th>3</th>\n",
       "      <td>2016/01/12</td>\n",
       "      <td>20</td>\n",
       "      <td>I would like to understand the differences bet...</td>\n",
       "      <td>All three of these features are used to improv...</td>\n",
       "      <td>All three of these features are used to improv...</td>\n",
       "      <td>3dprinting</td>\n",
       "    </tr>\n",
       "    <tr>\n",
       "      <th>4</th>\n",
       "      <td>2016/01/12</td>\n",
       "      <td>22</td>\n",
       "      <td>I've acquired all the parts to build a Reprap ...</td>\n",
       "      <td>Generally speaking, MDF will weather OK. In ar...</td>\n",
       "      <td>Generally speaking, MDF will weather OK. In ar...</td>\n",
       "      <td>3dprinting</td>\n",
       "    </tr>\n",
       "  </tbody>\n",
       "</table>\n",
       "</div>"
      ],
      "text/plain": [
       "         date  qid                                           question  \\\n",
       "0  2016/01/12    1  When I've printed an object I've had to choose...   \n",
       "1  2016/01/12    3  I know the minimum layer height will effect ho...   \n",
       "2  2016/01/12   19  My printed parts consist rafts, supports and o...   \n",
       "3  2016/01/12   20  I would like to understand the differences bet...   \n",
       "4  2016/01/12   22  I've acquired all the parts to build a Reprap ...   \n",
       "\n",
       "                                         answer_text  \\\n",
       "0  You could experiment with slicing. For example...   \n",
       "1  As with any manufacturing process, you'll need...   \n",
       "2  The best way to get rid of them is to change t...   \n",
       "3  All three of these features are used to improv...   \n",
       "4  Generally speaking, MDF will weather OK. In ar...   \n",
       "\n",
       "                                selected_answer_text stack_exchange  \n",
       "0  You could experiment with slicing. For example...     3dprinting  \n",
       "1  As with any manufacturing process, you'll need...     3dprinting  \n",
       "2  The best way to get rid of them is to change t...     3dprinting  \n",
       "3  All three of these features are used to improv...     3dprinting  \n",
       "4  Generally speaking, MDF will weather OK. In ar...     3dprinting  "
      ]
     },
     "execution_count": 25,
     "metadata": {},
     "output_type": "execute_result"
    }
   ],
   "source": [
    "\n",
    "df['qid'] = qids\n",
    "df['date'] = dates\n",
    "df['question'] = question_list\n",
    "df['answer_text'] = answer_text_list\n",
    "df['selected_answer_text'] = selected_answer_text_list\n",
    "df['stack_exchange'] = stack_exchange_list\n",
    "df.head()"
   ]
  },
  {
   "cell_type": "code",
   "execution_count": 26,
   "metadata": {},
   "outputs": [
    {
     "data": {
      "text/plain": [
       "stack_exchange\n",
       "Stackoverflow    489681\n",
       "3dprinting         1283\n",
       "Name: count, dtype: int64"
      ]
     },
     "execution_count": 26,
     "metadata": {},
     "output_type": "execute_result"
    }
   ],
   "source": [
    "df['stack_exchange'].value_counts()"
   ]
  },
  {
   "cell_type": "code",
   "execution_count": 43,
   "metadata": {},
   "outputs": [
    {
     "ename": "",
     "evalue": "",
     "output_type": "error",
     "traceback": [
      "\u001b[1;31mThe Kernel crashed while executing code in the current cell or a previous cell. \n",
      "\u001b[1;31mPlease review the code in the cell(s) to identify a possible cause of the failure. \n",
      "\u001b[1;31mClick <a href='https://aka.ms/vscodeJupyterKernelCrash'>here</a> for more info. \n",
      "\u001b[1;31mView Jupyter <a href='command:jupyter.viewOutput'>log</a> for further details."
     ]
    }
   ],
   "source": [
    "import csv\n",
    "df.to_csv(\"StackExchangeData.csv\",index=False,quoting=csv.QUOTE_NONE, escapechar='\\\\')"
   ]
  },
  {
   "cell_type": "code",
   "execution_count": 37,
   "metadata": {},
   "outputs": [
    {
     "name": "stdout",
     "output_type": "stream",
     "text": [
      "3\n"
     ]
    }
   ],
   "source": [
    "print(len(df['answer_text'].values[0].split(\"\\n\\n\\n\\n\")))"
   ]
  },
  {
   "cell_type": "code",
   "execution_count": 42,
   "metadata": {},
   "outputs": [
    {
     "data": {
      "text/plain": [
       "'\\n'"
      ]
     },
     "execution_count": 42,
     "metadata": {},
     "output_type": "execute_result"
    }
   ],
   "source": [
    "df['answer_text'].values[0].split(\"\\n\\n\\n\\n\")[-1]"
   ]
  },
  {
   "cell_type": "code",
   "execution_count": null,
   "metadata": {},
   "outputs": [],
   "source": []
  }
 ],
 "metadata": {
  "kernelspec": {
   "display_name": "Python 3",
   "language": "python",
   "name": "python3"
  },
  "language_info": {
   "codemirror_mode": {
    "name": "ipython",
    "version": 3
   },
   "file_extension": ".py",
   "mimetype": "text/x-python",
   "name": "python",
   "nbconvert_exporter": "python",
   "pygments_lexer": "ipython3",
   "version": "3.10.12"
  }
 },
 "nbformat": 4,
 "nbformat_minor": 2
}
