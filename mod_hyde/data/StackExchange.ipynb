{
 "cells": [
  {
   "cell_type": "code",
   "execution_count": 1,
   "metadata": {},
   "outputs": [
    {
     "name": "stderr",
     "output_type": "stream",
     "text": [
      "/home/athekunal/.local/lib/python3.10/site-packages/tqdm/auto.py:21: TqdmWarning: IProgress not found. Please update jupyter and ipywidgets. See https://ipywidgets.readthedocs.io/en/stable/user_install.html\n",
      "  from .autonotebook import tqdm as notebook_tqdm\n"
     ]
    }
   ],
   "source": [
    "from datasets import load_dataset\n",
    "\n",
    "stack_exchange_data = load_dataset(\"HuggingFaceH4/stack-exchange-preferences\",split=\"train\",streaming=True)"
   ]
  },
  {
   "cell_type": "code",
   "execution_count": null,
   "metadata": {},
   "outputs": [],
   "source": [
    "# stack_exchange_data.filter(lambda )"
   ]
  },
  {
   "cell_type": "code",
   "execution_count": 2,
   "metadata": {},
   "outputs": [],
   "source": [
    "# next(iter(stack_exchange_data.shuffle()))\n"
   ]
  },
  {
   "cell_type": "code",
   "execution_count": 3,
   "metadata": {},
   "outputs": [],
   "source": [
    "# stack_exchange_iterable_data = stack_exchange_data.take(1000_000).shuffle()\n",
    "# for s in stack_exchange_iterable_data:\n",
    "#     print(s)"
   ]
  },
  {
   "cell_type": "code",
   "execution_count": 4,
   "metadata": {},
   "outputs": [],
   "source": [
    "from bs4 import BeautifulSoup\n",
    "\n",
    "def get_text_html(html_text):\n",
    "    soup = BeautifulSoup(html_text, 'html.parser')\n",
    "\n",
    "    paragraphs = soup.find_all('p')\n",
    "\n",
    "    # Extract the text from each <p> tag\n",
    "    paragraph_texts = [p.get_text() for p in paragraphs]\n",
    "\n",
    "    # Print the extracted text\n",
    "    answer_text = \"\".join([text for text in paragraph_texts])\n",
    "    return answer_text\n"
   ]
  },
  {
   "cell_type": "code",
   "execution_count": 10,
   "metadata": {},
   "outputs": [
    {
     "data": {
      "text/plain": [
       "13.88888888888889"
      ]
     },
     "execution_count": 10,
     "metadata": {},
     "output_type": "execute_result"
    }
   ],
   "source": [
    "50_000/3600"
   ]
  },
  {
   "cell_type": "code",
   "execution_count": 5,
   "metadata": {},
   "outputs": [
    {
     "name": "stderr",
     "output_type": "stream",
     "text": [
      "  0%|          | 19/50000 [00:18<8:53:36,  1.56it/s] "
     ]
    },
    {
     "ename": "KeyboardInterrupt",
     "evalue": "",
     "output_type": "error",
     "traceback": [
      "\u001b[0;31m---------------------------------------------------------------------------\u001b[0m",
      "\u001b[0;31mKeyboardInterrupt\u001b[0m                         Traceback (most recent call last)",
      "Cell \u001b[0;32mIn[5], line 19\u001b[0m\n\u001b[1;32m     17\u001b[0m \u001b[38;5;28;01mwhile\u001b[39;00m \u001b[38;5;28;01mTrue\u001b[39;00m:\n\u001b[1;32m     18\u001b[0m     \u001b[38;5;28;01mif\u001b[39;00m total \u001b[38;5;241m==\u001b[39m curr_idx: \u001b[38;5;28;01mbreak\u001b[39;00m\n\u001b[0;32m---> 19\u001b[0m     sd \u001b[38;5;241m=\u001b[39m \u001b[38;5;28;43mnext\u001b[39;49m\u001b[43m(\u001b[49m\u001b[38;5;28;43miter\u001b[39;49m\u001b[43m(\u001b[49m\u001b[43mstack_exchange_data\u001b[49m\u001b[38;5;241;43m.\u001b[39;49m\u001b[43mshuffle\u001b[49m\u001b[43m(\u001b[49m\u001b[43m)\u001b[49m\u001b[43m)\u001b[49m\u001b[43m)\u001b[49m\n\u001b[1;32m     20\u001b[0m     best_answer_pm_score_list \u001b[38;5;241m=\u001b[39m [s[\u001b[38;5;124m'\u001b[39m\u001b[38;5;124mpm_score\u001b[39m\u001b[38;5;124m'\u001b[39m] \u001b[38;5;28;01mfor\u001b[39;00m s \u001b[38;5;129;01min\u001b[39;00m sd[\u001b[38;5;124m'\u001b[39m\u001b[38;5;124manswers\u001b[39m\u001b[38;5;124m'\u001b[39m]]\n\u001b[1;32m     21\u001b[0m     \u001b[38;5;28;01mif\u001b[39;00m \u001b[38;5;28mlen\u001b[39m(\u001b[38;5;28mlist\u001b[39m(\u001b[38;5;28mset\u001b[39m(best_answer_pm_score_list))) \u001b[38;5;241m<\u001b[39m \u001b[38;5;28mlen\u001b[39m(best_answer_pm_score_list): \n",
      "File \u001b[0;32m~/.local/lib/python3.10/site-packages/datasets/iterable_dataset.py:1388\u001b[0m, in \u001b[0;36mIterableDataset.__iter__\u001b[0;34m(self)\u001b[0m\n\u001b[1;32m   1385\u001b[0m         \u001b[38;5;28;01myield\u001b[39;00m formatter\u001b[38;5;241m.\u001b[39mformat_row(pa_table)\n\u001b[1;32m   1386\u001b[0m     \u001b[38;5;28;01mreturn\u001b[39;00m\n\u001b[0;32m-> 1388\u001b[0m \u001b[38;5;28;01mfor\u001b[39;00m key, example \u001b[38;5;129;01min\u001b[39;00m ex_iterable:\n\u001b[1;32m   1389\u001b[0m     \u001b[38;5;28;01mif\u001b[39;00m \u001b[38;5;28mself\u001b[39m\u001b[38;5;241m.\u001b[39mfeatures:\n\u001b[1;32m   1390\u001b[0m         \u001b[38;5;66;03m# `IterableDataset` automatically fills missing columns with None.\u001b[39;00m\n\u001b[1;32m   1391\u001b[0m         \u001b[38;5;66;03m# This is done with `_apply_feature_types_on_example`.\u001b[39;00m\n\u001b[1;32m   1392\u001b[0m         example \u001b[38;5;241m=\u001b[39m _apply_feature_types_on_example(\n\u001b[1;32m   1393\u001b[0m             example, \u001b[38;5;28mself\u001b[39m\u001b[38;5;241m.\u001b[39mfeatures, token_per_repo_id\u001b[38;5;241m=\u001b[39m\u001b[38;5;28mself\u001b[39m\u001b[38;5;241m.\u001b[39m_token_per_repo_id\n\u001b[1;32m   1394\u001b[0m         )\n",
      "File \u001b[0;32m~/.local/lib/python3.10/site-packages/datasets/iterable_dataset.py:987\u001b[0m, in \u001b[0;36mBufferShuffledExamplesIterable.__iter__\u001b[0;34m(self)\u001b[0m\n\u001b[1;32m    985\u001b[0m \u001b[38;5;66;03m# this is the shuffle buffer that we keep in memory\u001b[39;00m\n\u001b[1;32m    986\u001b[0m mem_buffer \u001b[38;5;241m=\u001b[39m []\n\u001b[0;32m--> 987\u001b[0m \u001b[38;5;28;01mfor\u001b[39;00m x \u001b[38;5;129;01min\u001b[39;00m \u001b[38;5;28mself\u001b[39m\u001b[38;5;241m.\u001b[39mex_iterable:\n\u001b[1;32m    988\u001b[0m     \u001b[38;5;28;01mif\u001b[39;00m \u001b[38;5;28mlen\u001b[39m(mem_buffer) \u001b[38;5;241m==\u001b[39m buffer_size:  \u001b[38;5;66;03m# if the buffer is full, pick and example from it\u001b[39;00m\n\u001b[1;32m    989\u001b[0m         i \u001b[38;5;241m=\u001b[39m \u001b[38;5;28mnext\u001b[39m(indices_iterator)\n",
      "File \u001b[0;32m~/.local/lib/python3.10/site-packages/datasets/iterable_dataset.py:323\u001b[0m, in \u001b[0;36mShuffledDataSourcesArrowExamplesIterable.__iter__\u001b[0;34m(self)\u001b[0m\n\u001b[1;32m    321\u001b[0m \u001b[38;5;28;01mfor\u001b[39;00m key, pa_table \u001b[38;5;129;01min\u001b[39;00m \u001b[38;5;28mself\u001b[39m\u001b[38;5;241m.\u001b[39mgenerate_tables_fn(\u001b[38;5;241m*\u001b[39m\u001b[38;5;241m*\u001b[39mkwargs_with_shuffled_shards):\n\u001b[1;32m    322\u001b[0m     \u001b[38;5;28;01mfor\u001b[39;00m pa_subtable \u001b[38;5;129;01min\u001b[39;00m pa_table\u001b[38;5;241m.\u001b[39mto_reader(max_chunksize\u001b[38;5;241m=\u001b[39mconfig\u001b[38;5;241m.\u001b[39mARROW_READER_BATCH_SIZE_IN_DATASET_ITER):\n\u001b[0;32m--> 323\u001b[0m         formatted_batch \u001b[38;5;241m=\u001b[39m \u001b[43mformatter\u001b[49m\u001b[38;5;241;43m.\u001b[39;49m\u001b[43mformat_batch\u001b[49m\u001b[43m(\u001b[49m\u001b[43mpa_subtable\u001b[49m\u001b[43m)\u001b[49m\n\u001b[1;32m    324\u001b[0m         \u001b[38;5;28;01mfor\u001b[39;00m example \u001b[38;5;129;01min\u001b[39;00m _batch_to_examples(formatted_batch):\n\u001b[1;32m    325\u001b[0m             \u001b[38;5;28;01myield\u001b[39;00m key, example\n",
      "File \u001b[0;32m~/.local/lib/python3.10/site-packages/datasets/formatting/formatting.py:448\u001b[0m, in \u001b[0;36mPythonFormatter.format_batch\u001b[0;34m(self, pa_table)\u001b[0m\n\u001b[1;32m    446\u001b[0m \u001b[38;5;28;01mif\u001b[39;00m \u001b[38;5;28mself\u001b[39m\u001b[38;5;241m.\u001b[39mlazy:\n\u001b[1;32m    447\u001b[0m     \u001b[38;5;28;01mreturn\u001b[39;00m LazyBatch(pa_table, \u001b[38;5;28mself\u001b[39m)\n\u001b[0;32m--> 448\u001b[0m batch \u001b[38;5;241m=\u001b[39m \u001b[38;5;28;43mself\u001b[39;49m\u001b[38;5;241;43m.\u001b[39;49m\u001b[43mpython_arrow_extractor\u001b[49m\u001b[43m(\u001b[49m\u001b[43m)\u001b[49m\u001b[38;5;241;43m.\u001b[39;49m\u001b[43mextract_batch\u001b[49m\u001b[43m(\u001b[49m\u001b[43mpa_table\u001b[49m\u001b[43m)\u001b[49m\n\u001b[1;32m    449\u001b[0m batch \u001b[38;5;241m=\u001b[39m \u001b[38;5;28mself\u001b[39m\u001b[38;5;241m.\u001b[39mpython_features_decoder\u001b[38;5;241m.\u001b[39mdecode_batch(batch)\n\u001b[1;32m    450\u001b[0m \u001b[38;5;28;01mreturn\u001b[39;00m batch\n",
      "File \u001b[0;32m~/.local/lib/python3.10/site-packages/datasets/formatting/formatting.py:150\u001b[0m, in \u001b[0;36mPythonArrowExtractor.extract_batch\u001b[0;34m(self, pa_table)\u001b[0m\n\u001b[1;32m    149\u001b[0m \u001b[38;5;28;01mdef\u001b[39;00m \u001b[38;5;21mextract_batch\u001b[39m(\u001b[38;5;28mself\u001b[39m, pa_table: pa\u001b[38;5;241m.\u001b[39mTable) \u001b[38;5;241m-\u001b[39m\u001b[38;5;241m>\u001b[39m \u001b[38;5;28mdict\u001b[39m:\n\u001b[0;32m--> 150\u001b[0m     \u001b[38;5;28;01mreturn\u001b[39;00m \u001b[43mpa_table\u001b[49m\u001b[38;5;241;43m.\u001b[39;49m\u001b[43mto_pydict\u001b[49m\u001b[43m(\u001b[49m\u001b[43m)\u001b[49m\n",
      "File \u001b[0;32m~/.local/lib/python3.10/site-packages/pyarrow/table.pxi:2030\u001b[0m, in \u001b[0;36mpyarrow.lib._Tabular.to_pydict\u001b[0;34m()\u001b[0m\n",
      "File \u001b[0;32m~/.local/lib/python3.10/site-packages/pyarrow/array.pxi:1604\u001b[0m, in \u001b[0;36mpyarrow.lib.Array.to_pylist\u001b[0;34m()\u001b[0m\n",
      "File \u001b[0;32m~/.local/lib/python3.10/site-packages/pyarrow/scalar.pxi:704\u001b[0m, in \u001b[0;36mpyarrow.lib.ListScalar.as_py\u001b[0;34m()\u001b[0m\n",
      "File \u001b[0;32m~/.local/lib/python3.10/site-packages/pyarrow/array.pxi:1604\u001b[0m, in \u001b[0;36mpyarrow.lib.Array.to_pylist\u001b[0;34m()\u001b[0m\n",
      "File \u001b[0;32m~/.local/lib/python3.10/site-packages/pyarrow/scalar.pxi:777\u001b[0m, in \u001b[0;36mpyarrow.lib.StructScalar.as_py\u001b[0;34m()\u001b[0m\n",
      "File \u001b[0;32m/usr/lib/python3.10/_collections_abc.py:836\u001b[0m, in \u001b[0;36mMapping.keys\u001b[0;34m(self)\u001b[0m\n\u001b[1;32m    833\u001b[0m     \u001b[38;5;28;01melse\u001b[39;00m:\n\u001b[1;32m    834\u001b[0m         \u001b[38;5;28;01mreturn\u001b[39;00m \u001b[38;5;28;01mTrue\u001b[39;00m\n\u001b[0;32m--> 836\u001b[0m \u001b[38;5;28;01mdef\u001b[39;00m \u001b[38;5;21mkeys\u001b[39m(\u001b[38;5;28mself\u001b[39m):\n\u001b[1;32m    837\u001b[0m     \u001b[38;5;124m\"\u001b[39m\u001b[38;5;124mD.keys() -> a set-like object providing a view on D\u001b[39m\u001b[38;5;124m'\u001b[39m\u001b[38;5;124ms keys\u001b[39m\u001b[38;5;124m\"\u001b[39m\n\u001b[1;32m    838\u001b[0m     \u001b[38;5;28;01mreturn\u001b[39;00m KeysView(\u001b[38;5;28mself\u001b[39m)\n",
      "\u001b[0;31mKeyboardInterrupt\u001b[0m: "
     ]
    }
   ],
   "source": [
    "import pandas as pd\n",
    "from tqdm import tqdm\n",
    "\n",
    "columns = ['date','qid','question','answer_text','selected_answer_text','stack_exchange']\n",
    "df = pd.DataFrame(columns=columns)\n",
    "\n",
    "# stack_exchanges= ['ai','bitcoin','anime',\"datascience\",\"astronomy\"]\n",
    "qids = []\n",
    "dates = []\n",
    "question_list = []\n",
    "answer_text_list = []\n",
    "selected_answer_text_list = []\n",
    "stack_exchange_list = []\n",
    "total = 50_000\n",
    "progress_bar = tqdm(total=total)\n",
    "curr_idx = 0\n",
    "while True:\n",
    "    if total == curr_idx: break\n",
    "    sd = next(iter(stack_exchange_data.shuffle()))\n",
    "    best_answer_pm_score_list = [s['pm_score'] for s in sd['answers']]\n",
    "    if len(list(set(best_answer_pm_score_list))) < len(best_answer_pm_score_list): \n",
    "        progress_bar.update(1)\n",
    "        continue\n",
    "    if \"meta\" in sd['metadata'][0]:\n",
    "        progress_bar.update(1)\n",
    "        continue\n",
    "\n",
    "    qids.append(sd['qid'])\n",
    "    dates.append(sd['date'])\n",
    "    link = sd['metadata'][1]\n",
    "    stack_exchange_list.append(link[link.find(\"//\"):link.find(\".\")][2:])\n",
    "    question_list.append(get_text_html(sd['question']))\n",
    "    answer_text = \"\"\n",
    "    best_answer = \"\"\n",
    "    best_answer_pm_score = 0\n",
    "    for idx,ans in enumerate(sd['answers']):\n",
    "        curr_answer = get_text_html(ans['text'])\n",
    "        answer_text += curr_answer + \"\\n\\n\"\n",
    "        if ans['pm_score'] > best_answer_pm_score:\n",
    "            best_answer = curr_answer\n",
    "\n",
    "    answer_text_list.append(answer_text)\n",
    "    selected_answer_text_list.append(best_answer)\n",
    "    progress_bar.update(1)\n",
    "    curr_idx += 1"
   ]
  },
  {
   "cell_type": "code",
   "execution_count": 6,
   "metadata": {},
   "outputs": [
    {
     "data": {
      "text/html": [
       "<div>\n",
       "<style scoped>\n",
       "    .dataframe tbody tr th:only-of-type {\n",
       "        vertical-align: middle;\n",
       "    }\n",
       "\n",
       "    .dataframe tbody tr th {\n",
       "        vertical-align: top;\n",
       "    }\n",
       "\n",
       "    .dataframe thead th {\n",
       "        text-align: right;\n",
       "    }\n",
       "</style>\n",
       "<table border=\"1\" class=\"dataframe\">\n",
       "  <thead>\n",
       "    <tr style=\"text-align: right;\">\n",
       "      <th></th>\n",
       "      <th>date</th>\n",
       "      <th>qid</th>\n",
       "      <th>question</th>\n",
       "      <th>answer_text</th>\n",
       "      <th>selected_answer_text</th>\n",
       "      <th>stack_exchange</th>\n",
       "    </tr>\n",
       "  </thead>\n",
       "  <tbody>\n",
       "    <tr>\n",
       "      <th>0</th>\n",
       "      <td>2014/11/12</td>\n",
       "      <td>3464</td>\n",
       "      <td>This is a really nice feature, but it only dis...</td>\n",
       "      <td>You can use M-x blink-matching-open RET to dis...</td>\n",
       "      <td>That message is printed when the beginning of ...</td>\n",
       "      <td>emacs</td>\n",
       "    </tr>\n",
       "    <tr>\n",
       "      <th>1</th>\n",
       "      <td>2011/09/08</td>\n",
       "      <td>7344084</td>\n",
       "      <td>My site was working all fine on localhost but ...</td>\n",
       "      <td>Is your local machine Windows and your remote ...</td>\n",
       "      <td>Is your local machine Windows and your remote ...</td>\n",
       "      <td>Stackoverflow</td>\n",
       "    </tr>\n",
       "    <tr>\n",
       "      <th>2</th>\n",
       "      <td>2010/08/16</td>\n",
       "      <td>2584</td>\n",
       "      <td>I've got a fixed solution space defined by a m...</td>\n",
       "      <td>First let's make sure I understood your questi...</td>\n",
       "      <td>First let's make sure I understood your questi...</td>\n",
       "      <td>math</td>\n",
       "    </tr>\n",
       "    <tr>\n",
       "      <th>3</th>\n",
       "      <td>2017/05/18</td>\n",
       "      <td>306207</td>\n",
       "      <td>I am trying to amplify the voltage measured ac...</td>\n",
       "      <td>I think the small signal diagram is wrong. You...</td>\n",
       "      <td>If you want to find \\$ R_{OUT}\\$ we need to so...</td>\n",
       "      <td>electronics</td>\n",
       "    </tr>\n",
       "    <tr>\n",
       "      <th>4</th>\n",
       "      <td>2016/01/04</td>\n",
       "      <td>34585362</td>\n",
       "      <td>I'm having one null-able bool (bool?) variable...</td>\n",
       "      <td>Use x.GetValueOrDefault() to assign default va...</td>\n",
       "      <td>Use x.GetValueOrDefault() to assign default va...</td>\n",
       "      <td>Stackoverflow</td>\n",
       "    </tr>\n",
       "  </tbody>\n",
       "</table>\n",
       "</div>"
      ],
      "text/plain": [
       "         date       qid                                           question  \\\n",
       "0  2014/11/12      3464  This is a really nice feature, but it only dis...   \n",
       "1  2011/09/08   7344084  My site was working all fine on localhost but ...   \n",
       "2  2010/08/16      2584  I've got a fixed solution space defined by a m...   \n",
       "3  2017/05/18    306207  I am trying to amplify the voltage measured ac...   \n",
       "4  2016/01/04  34585362  I'm having one null-able bool (bool?) variable...   \n",
       "\n",
       "                                         answer_text  \\\n",
       "0  You can use M-x blink-matching-open RET to dis...   \n",
       "1  Is your local machine Windows and your remote ...   \n",
       "2  First let's make sure I understood your questi...   \n",
       "3  I think the small signal diagram is wrong. You...   \n",
       "4  Use x.GetValueOrDefault() to assign default va...   \n",
       "\n",
       "                                selected_answer_text stack_exchange  \n",
       "0  That message is printed when the beginning of ...          emacs  \n",
       "1  Is your local machine Windows and your remote ...  Stackoverflow  \n",
       "2  First let's make sure I understood your questi...           math  \n",
       "3  If you want to find \\$ R_{OUT}\\$ we need to so...    electronics  \n",
       "4  Use x.GetValueOrDefault() to assign default va...  Stackoverflow  "
      ]
     },
     "execution_count": 6,
     "metadata": {},
     "output_type": "execute_result"
    }
   ],
   "source": [
    "\n",
    "df['qid'] = qids\n",
    "df['date'] = dates\n",
    "df['question'] = question_list\n",
    "df['answer_text'] = answer_text_list\n",
    "df['selected_answer_text'] = selected_answer_text_list\n",
    "df['stack_exchange'] = stack_exchange_list\n",
    "df.head()"
   ]
  },
  {
   "cell_type": "code",
   "execution_count": 8,
   "metadata": {},
   "outputs": [
    {
     "data": {
      "text/plain": [
       "array(['That message is printed when the beginning of the sexp is not visible in the window; otherwise, the opening paren is temporarily highlighted. This behavior is implemented in simple.el and is not associated with any minor mode. It is implemented using a hook that runs when a character is inserted. The actual blinking/message comes from command blink-matching-open, which you can call yourself. For example you could start an idle-timer that will call this command whenever you pause for a short time on a closing paren. This is the way that the built-in show-paren-mode works.',\n",
       "       'Is your local machine Windows and your remote server a *nix box?  In that case, check your capitalization.  CHTML.php suggests that you have case-mismatches, try using CHtml in your code instead.',\n",
       "       \"First let's make sure I understood your question correctly:Is this correct?If this is the case, I reccommend you use a variation of rejection sampling. The recipe is quite straightforward, but you might have to iterate a bit before you get an answer out of it. This is the basic outline.No matter how large the temptation, do not re-use q for different iterations.\",\n",
       "       'If you want to find \\\\$ R_{OUT}\\\\$ we need to solve this circuit:  And for this circuit \\\\$ R_{OUT} = \\\\frac{V_X}{I_X}\\\\$And from KCL we have: $$I_X =\\\\frac{V_X}{R_S} -g_m*(-V_X)$$$$I_X =\\\\frac{V_X}{R_S}+g_mV_X$$$$I_X =\\\\frac{V_X}{R_S}+\\\\frac{V_X}{\\\\frac{1}{gm}} $$So, \\\\$R_{OUT}\\\\$ is ?? This method can also be used to find Rth3 in your BJT circuit problem. And another example can be found here',\n",
       "       'Use x.GetValueOrDefault() to assign default value (false for System.Boolean) to y in the event that x.HasValue == false.Alternatively you can use the null-coalescing operator (??), like so:',\n",
       "       'CloudBees now supports JaaS Authentication and Security Realms on the Glassfish3 and Glassfish4 stacks as documented here:Please not that CloudBees security realms for Glassfish3 and Glassfish4 are exclusively based on JdbcRealms which seems to be your need.',\n",
       "       '\"... aliens ... enslave humans using mind control ...\" is a fairly common device in science fiction. More details might help narrow this down.Maybe you\\'re looking for Heinlein\\'s The Puppet Masters? It\\'s been a while since I read it, but aliens landing on Earth and using mind control was the basis of the plot. My memory of the aliens was more worm-like (the Wikipedia article describes them as \"slugs\"), but I don\\'t remember Heinlein\\'s description, so rat-like might be more accurate, or at least one way of imagining them.',\n",
       "       'As previously said, this is dependent on the product. However, there is at least one study available comparing the bioavailability (which is what you are asking about - in this case, how much diclofenac permeates into the skin) of several of these patches and the differences don\\'t look too big to me. Patel, Kunal N., Hetal K. Patel, and Vishnu A. Patel. \"Formulation and characterization of drug in adhesive transdermal patches of diclofenac acid.\" Int. J. Pharm. Pharm. Sci 4.1 (2012): 296-299.What you are interested in is table 2:As you can see, they do look rather similar, and an obvious feature is that the bioavailability for the first hours isn\\'t as \"good\" as later. So in my nonexpert opinion, keeping a 24 hour patch on for 24 hours would be preferable to switching after 12. ',\n",
       "       'I am not very familiar with android studio but when i tried making a button and having it do something on click i first added the android:onClick = \"some_method_name\" to the XML that makes the design of the app. I first added the name in the onClick and then i clicked on the name. When the little light bulb icon shows up the arrow next to it give the option of creating a method with that method name that you just wrote. once you create it then you add the code of whatever you want to happen when you click. Hope it works.For Example, This is the XML:This is the Java:',\n",
       "       'I am a learning skier as well and generally that happens when I involuntarily lean, even slightly, back on turns especially when on harder slopes. \\nMake sure you are turning in the correct position, you have pressure on the front of your boots.',\n",
       "       'I would say that it is the idiom \"none the wiser\" that you are thinking of. This meansto still be confused about something even after it has been explained\\n  to youI would then surmise that the authors of the sources you have given have simply substituted other adjectives into this saying. This Ngram shows that \"none the wiser\" has been used significantly more than \"none the richer\" or \"none the healthier\", but that \"none the richer\" actually predates \"none the wiser\" in print. I can\\'t speak for whether \"none the + comparative\" was once a standard form, but certainly it only really caught on with \"wiser\".Nonetheless, with reference to the common idiom, we can assume that these other uses mean \"still not [something], even after [something].\"Your third quote, in context, supports this: it is clear that the medical establishment was unable to help their\\n  condition and after expensive tests and manifold prescriptions, the\\n  individual returns home poorer and none the healthierThat is, they are still not healthy, despite having sought treatment at a medical establishment.With an adjective that takes \"more\" in the comparative, rather than an -er ending, we would of course then have \"none the more\", eg, \"none the more beautiful\".To address your queries: it is not the same meaning as \"far from\", and is nonstandard outside of the idiomatic \"none the wiser\"; as such, it is best used in informal contexts.',\n",
       "       \"The problem is a misplaced semi colon here if ( hours > 40 ); just remove the semi colon.  It's good practice to indent the code properly to help detect these kind of errors.\",\n",
       "       'In cellForRowAt add target to button i.eAnd at button action get the item from array using button tag i.eHope this will work!!',\n",
       "       \"The error didn't come from the validation.It was because it called the URL to go back and display the errors. And this is the search method.So cause of the logic in search method the exception has been thrown.\"],\n",
       "      dtype=object)"
      ]
     },
     "execution_count": 8,
     "metadata": {},
     "output_type": "execute_result"
    }
   ],
   "source": [
    "df['selected_answer_text'].values"
   ]
  },
  {
   "cell_type": "code",
   "execution_count": 26,
   "metadata": {},
   "outputs": [
    {
     "data": {
      "text/plain": [
       "stack_exchange\n",
       "Stackoverflow    489681\n",
       "3dprinting         1283\n",
       "Name: count, dtype: int64"
      ]
     },
     "execution_count": 26,
     "metadata": {},
     "output_type": "execute_result"
    }
   ],
   "source": [
    "df['stack_exchange'].value_counts()"
   ]
  },
  {
   "cell_type": "code",
   "execution_count": 43,
   "metadata": {},
   "outputs": [
    {
     "ename": "",
     "evalue": "",
     "output_type": "error",
     "traceback": [
      "\u001b[1;31mThe Kernel crashed while executing code in the current cell or a previous cell. \n",
      "\u001b[1;31mPlease review the code in the cell(s) to identify a possible cause of the failure. \n",
      "\u001b[1;31mClick <a href='https://aka.ms/vscodeJupyterKernelCrash'>here</a> for more info. \n",
      "\u001b[1;31mView Jupyter <a href='command:jupyter.viewOutput'>log</a> for further details."
     ]
    }
   ],
   "source": [
    "import csv\n",
    "df.to_csv(\"StackExchangeData.csv\",index=False,quoting=csv.QUOTE_NONE, escapechar='\\\\')"
   ]
  },
  {
   "cell_type": "code",
   "execution_count": 37,
   "metadata": {},
   "outputs": [
    {
     "name": "stdout",
     "output_type": "stream",
     "text": [
      "3\n"
     ]
    }
   ],
   "source": [
    "print(len(df['answer_text'].values[0].split(\"\\n\\n\\n\\n\")))"
   ]
  },
  {
   "cell_type": "code",
   "execution_count": 42,
   "metadata": {},
   "outputs": [
    {
     "data": {
      "text/plain": [
       "'\\n'"
      ]
     },
     "execution_count": 42,
     "metadata": {},
     "output_type": "execute_result"
    }
   ],
   "source": [
    "df['answer_text'].values[0].split(\"\\n\\n\\n\\n\")[-1]"
   ]
  },
  {
   "cell_type": "code",
   "execution_count": 2,
   "metadata": {},
   "outputs": [],
   "source": [
    "import pandas as pd\n",
    "import csv\n",
    "reader = pd.read_csv(\"StackExchangeData.csv\", iterator=True,quoting=csv.QUOTE_NONE, escapechar='\\\\')\n",
    "df = reader.get_chunk(10**6)"
   ]
  },
  {
   "cell_type": "code",
   "execution_count": 8,
   "metadata": {},
   "outputs": [
    {
     "data": {
      "text/plain": [
       "stack_exchange\n",
       "Stackoverflow    452860\n",
       "3dprinting         1283\n",
       "Name: count, dtype: int64"
      ]
     },
     "execution_count": 8,
     "metadata": {},
     "output_type": "execute_result"
    }
   ],
   "source": [
    "len(df)"
   ]
  },
  {
   "cell_type": "code",
   "execution_count": 16,
   "metadata": {},
   "outputs": [
    {
     "name": "stdout",
     "output_type": "stream",
     "text": [
      "As with any manufacturing process, you'll need to learn to \"use the right tool for the job\". It depends on the requirements of the part. To answer your question, I would suggest using a larger layer height for the sheer fact of reducing print time on larger objects.\n",
      "However, it depends on the part and how small the details are on the part. If your part has sharp edges that are required for the proper functionality of the part, then you'll want to use a smaller layer height. Or if your part fits into another part, you'll probably want to use a smaller layer height.\n",
      "Another variable might be whether or not post-processing is necessary. Is this part going to be purposefully printed larger/rougher with the idea to use a Dremel later to smooth everything out? If yes, then use a larger layer height.\n",
      "\n",
      "\n",
      "\n",
      "\n",
      "I believe the Slic3r Manual summarizes this quite nicely:\n",
      "\n",
      "A thicker layer height will provide more flow, and consequently more heat, making the extrusion adhere to the bed more. It also gives the benefit of giving more tolerance for the levelness of the bed. It is recommended to raise the first layer height to match the diameter of the nozzle, e.g. a first layer height of 0.35mm for a 0.35mm nozzle.\n",
      "\n",
      "In other words, larger layer heights for the first layer typically gives better adhesion, and makes inaccurate bed leveling (and auto leveling) still work.\n",
      "\n",
      "\n",
      "\n",
      "\n",
      "In short: no.\n",
      "Smaller layers will make your prints look nicer. That said, in my experience, most printers can handle roughly the same layer heights, no matter what the manufacturer says it can do. With a little tinkering, you can get any printer to do what you tell it to do.\n",
      "That said, for larger prints, you really won't want to lower the layer height too much. Typically, the quality difference you see in a print that's, say, .2 mm layer height (typical) vs .1mm layer height (typically high quality) is not that much different.\n",
      "Note that lowering your layer height increases the number of layers in your object, so it'll take longer to print and have more opportunities to fail along the way. For anything of significant size (150 mm + or so) it's really not worth the extra risk, I'd say.\n",
      "\n",
      "\n",
      "\n",
      "\n",
      "\n"
     ]
    }
   ],
   "source": [
    "print(df['answer_text'][1])"
   ]
  },
  {
   "cell_type": "code",
   "execution_count": null,
   "metadata": {},
   "outputs": [],
   "source": []
  }
 ],
 "metadata": {
  "kernelspec": {
   "display_name": "Python 3",
   "language": "python",
   "name": "python3"
  },
  "language_info": {
   "codemirror_mode": {
    "name": "ipython",
    "version": 3
   },
   "file_extension": ".py",
   "mimetype": "text/x-python",
   "name": "python",
   "nbconvert_exporter": "python",
   "pygments_lexer": "ipython3",
   "version": "3.10.12"
  }
 },
 "nbformat": 4,
 "nbformat_minor": 2
}
