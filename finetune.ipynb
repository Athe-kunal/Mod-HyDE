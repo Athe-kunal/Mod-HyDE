{
 "cells": [
  {
   "cell_type": "code",
   "execution_count": 1,
   "metadata": {},
   "outputs": [],
   "source": [
    "with open(\"mod_hyde/data/all_book_data.txt\",\"r\") as f:\n",
    "    all_books_data = f.read() "
   ]
  },
  {
   "cell_type": "code",
   "execution_count": 2,
   "metadata": {},
   "outputs": [],
   "source": [
    "import json\n",
    "\n",
    "youtube_transcripts_list = [\"chunked_misc_transcripts.json\",\"chunked_transcripts_undergrad.json\",\"chunked_transcripts_mba.json\"]    \n",
    "all_youtube_data = []\n",
    "for file in youtube_transcripts_list:\n",
    "    with open('mod_hyde/data/YouTube_API_Transcripts/'+file) as f:\n",
    "        data = json.load(f)\n",
    "    for id,data in data.items():\n",
    "        for d in data:\n",
    "            all_youtube_data.append(d['text'])"
   ]
  },
  {
   "cell_type": "code",
   "execution_count": 3,
   "metadata": {},
   "outputs": [],
   "source": [
    "import re\n",
    "\n",
    "all_books_data_list = re.split(r\"(?<=[.?!])\\s+\", all_books_data)"
   ]
  },
  {
   "cell_type": "markdown",
   "metadata": {},
   "source": [
    "## CHUNKING "
   ]
  },
  {
   "cell_type": "code",
   "execution_count": 2,
   "metadata": {},
   "outputs": [],
   "source": [
    "!pip install -Uqq langchain"
   ]
  },
  {
   "cell_type": "code",
   "execution_count": 4,
   "metadata": {},
   "outputs": [],
   "source": [
    "from langchain_text_splitters import RecursiveCharacterTextSplitter\n",
    "\n",
    "text_splitter = RecursiveCharacterTextSplitter(\n",
    "    # Set a really small chunk size, just to show.\n",
    "    separators = [\". \"],\n",
    "    chunk_size=1750,\n",
    "    chunk_overlap=100,\n",
    "    length_function=len,\n",
    "    is_separator_regex=False,\n",
    "\n",
    ")\n",
    "\n",
    "books_data_splitted_text = text_splitter.split_text(all_books_data)"
   ]
  },
  {
   "cell_type": "code",
   "execution_count": 5,
   "metadata": {},
   "outputs": [],
   "source": [
    "all_data = books_data_splitted_text + all_youtube_data"
   ]
  },
  {
   "cell_type": "markdown",
   "metadata": {},
   "source": [
    "## DISTILBERT"
   ]
  },
  {
   "cell_type": "code",
   "execution_count": 7,
   "metadata": {},
   "outputs": [
    {
     "name": "stderr",
     "output_type": "stream",
     "text": [
      "/home/athekunal/.local/lib/python3.10/site-packages/tqdm/auto.py:21: TqdmWarning: IProgress not found. Please update jupyter and ipywidgets. See https://ipywidgets.readthedocs.io/en/stable/user_install.html\n",
      "  from .autonotebook import tqdm as notebook_tqdm\n",
      "None of PyTorch, TensorFlow >= 2.0, or Flax have been found. Models won't be available and only tokenizers, configuration and file/data utilities can be used.\n",
      "Map (num_proc=4):   0%|          | 0/8394 [00:00<?, ? examples/s]Token indices sequence length is longer than the specified maximum sequence length for this model (563 > 512). Running this sequence through the model will result in indexing errors\n",
      "Map (num_proc=4):  36%|███▌      | 3000/8394 [00:01<00:01, 3162.00 examples/s]Token indices sequence length is longer than the specified maximum sequence length for this model (564 > 512). Running this sequence through the model will result in indexing errors\n",
      "Map (num_proc=4):  48%|████▊     | 4000/8394 [00:01<00:01, 2658.54 examples/s]Token indices sequence length is longer than the specified maximum sequence length for this model (561 > 512). Running this sequence through the model will result in indexing errors\n",
      "Map (num_proc=4):  73%|███████▎  | 6099/8394 [00:02<00:00, 3957.46 examples/s]Token indices sequence length is longer than the specified maximum sequence length for this model (607 > 512). Running this sequence through the model will result in indexing errors\n",
      "Map (num_proc=4): 100%|██████████| 8394/8394 [00:03<00:00, 2659.38 examples/s]\n"
     ]
    }
   ],
   "source": [
    "from transformers import AutoTokenizer\n",
    "\n",
    "import pandas as pd\n",
    "\n",
    "df = pd.DataFrame(all_data,columns=[\"text\"])\n",
    "\n",
    "def tokenize_function(examples):\n",
    "    return tokenizer(examples[\"text\"])\n",
    "\n",
    "tokenizer = AutoTokenizer.from_pretrained(\"distilbert-base-uncased\")\n",
    "from datasets import Dataset\n",
    "import pandas as pd\n",
    "\n",
    "hf_dataset = Dataset.from_pandas(df)\n",
    "\n",
    "tokenized_datasets = hf_dataset.map(tokenize_function, batched=True, num_proc=4, remove_columns=[\"text\"])"
   ]
  },
  {
   "cell_type": "code",
   "execution_count": 8,
   "metadata": {},
   "outputs": [
    {
     "name": "stderr",
     "output_type": "stream",
     "text": [
      "Map (num_proc=4): 100%|██████████| 8394/8394 [00:10<00:00, 808.40 examples/s] \n"
     ]
    }
   ],
   "source": [
    "block_size = 1024\n",
    "def group_texts(examples):\n",
    "    # Concatenate all texts.\n",
    "    concatenated_examples = {k: sum(examples[k], []) for k in examples.keys()}\n",
    "    total_length = len(concatenated_examples[list(examples.keys())[0]])\n",
    "    # We drop the small remainder, we could add padding if the model supported it instead of this drop, you can\n",
    "        # customize this part to your needs.\n",
    "    total_length = (total_length // block_size) * block_size\n",
    "    # Split by chunks of max_len.\n",
    "    result = {\n",
    "        k: [t[i : i + block_size] for i in range(0, total_length, block_size)]\n",
    "        for k, t in concatenated_examples.items()\n",
    "    }\n",
    "    result[\"labels\"] = result[\"input_ids\"].copy()\n",
    "    return result\n",
    "\n",
    "lm_datasets = tokenized_datasets.map(\n",
    "    group_texts,\n",
    "    batched=True,\n",
    "    batch_size=1000,\n",
    "    num_proc=4,\n",
    ")\n"
   ]
  },
  {
   "cell_type": "code",
   "execution_count": 18,
   "metadata": {},
   "outputs": [],
   "source": [
    "# lm_datasets[0]['input_ids']"
   ]
  },
  {
   "cell_type": "code",
   "execution_count": 17,
   "metadata": {},
   "outputs": [
    {
     "data": {
      "text/plain": [
       "True"
      ]
     },
     "execution_count": 17,
     "metadata": {},
     "output_type": "execute_result"
    }
   ],
   "source": [
    "lm_datasets[0]['labels'] == lm_datasets[0]['input_ids']"
   ]
  },
  {
   "cell_type": "code",
   "execution_count": 6,
   "metadata": {},
   "outputs": [],
   "source": [
    "# from transformers import AutoTokenizer, AutoModelForCausalLM\n",
    "\n",
    "# model_name = \"distilbert/distilgpt2\"\n",
    "# tokenizer = AutoTokenizer.from_pretrained(model_name)\n",
    "# model = AutoModelForCausalLM.from_pretrained(model_name)"
   ]
  },
  {
   "cell_type": "code",
   "execution_count": 21,
   "metadata": {},
   "outputs": [
    {
     "data": {
      "text/plain": [
       "'These stories not only sound persuasive and reasonable but are also backed up by evidence - anecdotal, in some cases, and statistical, in others - that the strategies work.'"
      ]
     },
     "execution_count": 21,
     "metadata": {},
     "output_type": "execute_result"
    }
   ],
   "source": [
    "all_books_data_list[1]"
   ]
  },
  {
   "cell_type": "code",
   "execution_count": 8,
   "metadata": {},
   "outputs": [],
   "source": [
    "import pandas as pd\n",
    "\n",
    "wiki_df = pd.read_csv(\"mod_hyde/data/wikipedia_data.csv\")"
   ]
  },
  {
   "cell_type": "code",
   "execution_count": 9,
   "metadata": {},
   "outputs": [],
   "source": [
    "wiki_df['len_count'] = wiki_df.apply(lambda row: len(str(row.text).split(\" \")),axis=1)"
   ]
  },
  {
   "cell_type": "code",
   "execution_count": 10,
   "metadata": {},
   "outputs": [
    {
     "data": {
      "text/plain": [
       "31708"
      ]
     },
     "execution_count": 10,
     "metadata": {},
     "output_type": "execute_result"
    }
   ],
   "source": [
    "def gte_100_words(row):\n",
    "    if row['len_count'] >= 100:\n",
    "        return True\n",
    "    else:\n",
    "        return False\n",
    "\n",
    "wiki_df = wiki_df[wiki_df.apply(gte_100_words,axis=1)]\n",
    "len(wiki_df)"
   ]
  },
  {
   "cell_type": "code",
   "execution_count": 1,
   "metadata": {},
   "outputs": [
    {
     "name": "stderr",
     "output_type": "stream",
     "text": [
      "/home/athekunal/.local/lib/python3.10/site-packages/tqdm/auto.py:21: TqdmWarning: IProgress not found. Please update jupyter and ipywidgets. See https://ipywidgets.readthedocs.io/en/stable/user_install.html\n",
      "  from .autonotebook import tqdm as notebook_tqdm\n"
     ]
    }
   ],
   "source": [
    "from datasets import load_dataset\n",
    "hotpot_qa = load_dataset(\"hotpot_qa\",\"distractor\")"
   ]
  },
  {
   "cell_type": "code",
   "execution_count": 2,
   "metadata": {},
   "outputs": [],
   "source": [
    "shuffled_dataset = hotpot_qa['train'].shuffle(42)\n",
    "subset_data = shuffled_dataset[0:5000]"
   ]
  },
  {
   "cell_type": "code",
   "execution_count": 3,
   "metadata": {},
   "outputs": [],
   "source": [
    "val_subset = subset_data['supporting_facts']\n",
    "titles = []\n",
    "for sd in val_subset:\n",
    "    titles.append(sd['title'])"
   ]
  },
  {
   "cell_type": "code",
   "execution_count": 4,
   "metadata": {},
   "outputs": [],
   "source": [
    "val_questions = subset_data['question']"
   ]
  },
  {
   "cell_type": "code",
   "execution_count": 11,
   "metadata": {},
   "outputs": [],
   "source": [
    "val_wiki_list = list(wiki_df['title'].values)\n",
    "question_not_there = []\n",
    "question_ther = []\n",
    "for idx,title in enumerate(titles):\n",
    "    for t in title:\n",
    "        if t not in val_wiki_list:\n",
    "            question_not_there.append(idx)\n",
    "            continue"
   ]
  },
  {
   "cell_type": "code",
   "execution_count": 12,
   "metadata": {},
   "outputs": [
    {
     "data": {
      "text/plain": [
       "2662"
      ]
     },
     "execution_count": 12,
     "metadata": {},
     "output_type": "execute_result"
    }
   ],
   "source": [
    "len(val_questions) - len(question_not_there)"
   ]
  },
  {
   "cell_type": "code",
   "execution_count": 13,
   "metadata": {},
   "outputs": [
    {
     "data": {
      "text/plain": [
       "2338"
      ]
     },
     "execution_count": 13,
     "metadata": {},
     "output_type": "execute_result"
    }
   ],
   "source": [
    "len(question_not_there)"
   ]
  },
  {
   "cell_type": "code",
   "execution_count": 22,
   "metadata": {},
   "outputs": [],
   "source": [
    "question_there_idx = [id for id in range(len(val_questions)) if id not in question_not_there]"
   ]
  },
  {
   "cell_type": "code",
   "execution_count": 24,
   "metadata": {},
   "outputs": [],
   "source": [
    "final_df = pd.DataFrame(columns=['title','text'])\n",
    "all_titles = []\n",
    "all_texts = []\n",
    "wikipedia_questions = []\n",
    "for t in question_there_idx[:1000]:\n",
    "    wikipedia_questions.append(val_questions[t])\n",
    "    # for wikipedia_titles in t:\n",
    "    #     all_titles.append(wikipedia_titles)\n",
    "    #     all_texts.append(wiki_df[wiki_df['title'] == wikipedia_titles]['text'].values[0])\n",
    "\n",
    "# final_df['title'] = all_titles\n",
    "# final_df['text'] = all_texts"
   ]
  },
  {
   "cell_type": "code",
   "execution_count": 26,
   "metadata": {},
   "outputs": [],
   "source": [
    "with open('wikipedia_qs.txt', 'w') as f:\n",
    "    for line in wikipedia_questions:\n",
    "        f.write(f\"{line}\\n\")"
   ]
  },
  {
   "cell_type": "code",
   "execution_count": 15,
   "metadata": {},
   "outputs": [
    {
     "data": {
      "text/plain": [
       "1977"
      ]
     },
     "execution_count": 15,
     "metadata": {},
     "output_type": "execute_result"
    }
   ],
   "source": [
    "final_df.drop_duplicates(subset=['title'],inplace=True)\n",
    "\n",
    "len(final_df)"
   ]
  },
  {
   "cell_type": "code",
   "execution_count": 17,
   "metadata": {},
   "outputs": [],
   "source": [
    "final_df.to_csv('Filtered_wikipedia.csv',index=False)"
   ]
  },
  {
   "cell_type": "code",
   "execution_count": 6,
   "metadata": {},
   "outputs": [],
   "source": [
    "import pandas as pd\n",
    "\n",
    "final_df = pd.read_csv('Filtered_wikipedia.csv')"
   ]
  },
  {
   "cell_type": "code",
   "execution_count": 7,
   "metadata": {},
   "outputs": [
    {
     "data": {
      "text/html": [
       "<div>\n",
       "<style scoped>\n",
       "    .dataframe tbody tr th:only-of-type {\n",
       "        vertical-align: middle;\n",
       "    }\n",
       "\n",
       "    .dataframe tbody tr th {\n",
       "        vertical-align: top;\n",
       "    }\n",
       "\n",
       "    .dataframe thead th {\n",
       "        text-align: right;\n",
       "    }\n",
       "</style>\n",
       "<table border=\"1\" class=\"dataframe\">\n",
       "  <thead>\n",
       "    <tr style=\"text-align: right;\">\n",
       "      <th></th>\n",
       "      <th>title</th>\n",
       "      <th>text</th>\n",
       "    </tr>\n",
       "  </thead>\n",
       "  <tbody>\n",
       "    <tr>\n",
       "      <th>0</th>\n",
       "      <td>Sacramento International Airport</td>\n",
       "      <td>Sacramento International Airport (SMF) opened ...</td>\n",
       "    </tr>\n",
       "    <tr>\n",
       "      <th>1</th>\n",
       "      <td>Knox County Regional Airport</td>\n",
       "      <td>The airport was built during World War II and ...</td>\n",
       "    </tr>\n",
       "    <tr>\n",
       "      <th>2</th>\n",
       "      <td>Peter Hobbs (engineer)</td>\n",
       "      <td>Peter Hobbs was born in Langton, Tunbridge Wel...</td>\n",
       "    </tr>\n",
       "    <tr>\n",
       "      <th>3</th>\n",
       "      <td>Russell Hobbs</td>\n",
       "      <td>After serving with the British Army's REME in ...</td>\n",
       "    </tr>\n",
       "    <tr>\n",
       "      <th>4</th>\n",
       "      <td>Gabriela Mistral</td>\n",
       "      <td>Mistral was born in Vicuña, Chile, but grew up...</td>\n",
       "    </tr>\n",
       "  </tbody>\n",
       "</table>\n",
       "</div>"
      ],
      "text/plain": [
       "                              title  \\\n",
       "0  Sacramento International Airport   \n",
       "1      Knox County Regional Airport   \n",
       "2            Peter Hobbs (engineer)   \n",
       "3                     Russell Hobbs   \n",
       "4                  Gabriela Mistral   \n",
       "\n",
       "                                                text  \n",
       "0  Sacramento International Airport (SMF) opened ...  \n",
       "1  The airport was built during World War II and ...  \n",
       "2  Peter Hobbs was born in Langton, Tunbridge Wel...  \n",
       "3  After serving with the British Army's REME in ...  \n",
       "4  Mistral was born in Vicuña, Chile, but grew up...  "
      ]
     },
     "execution_count": 7,
     "metadata": {},
     "output_type": "execute_result"
    }
   ],
   "source": [
    "final_df.head()"
   ]
  },
  {
   "cell_type": "code",
   "execution_count": 19,
   "metadata": {},
   "outputs": [
    {
     "name": "stderr",
     "output_type": "stream",
     "text": [
      "[nltk_data] Downloading package words to /home/athekunal/nltk_data...\n",
      "[nltk_data]   Unzipping corpora/words.zip.\n"
     ]
    }
   ],
   "source": [
    "import nltk\n",
    "from nltk.corpus import words\n",
    "\n",
    "# Download the NLTK words corpus\n",
    "nltk.download('words')\n",
    "\n",
    "# Set of English words from NLTK corpus\n",
    "english_words = set(words.words())"
   ]
  },
  {
   "cell_type": "code",
   "execution_count": 54,
   "metadata": {},
   "outputs": [],
   "source": [
    "import re\n",
    "\n",
    "train_data_wikipedia_text = list(final_df['text'].values)\n",
    "def preprocess_wikipedia_text(line:str):\n",
    "    line = re.sub('==REFERENCES==', '', line)\n",
    "    line = re.sub('== References ==', '', line)\n",
    "    line = re.sub('== Notes ==', '', line)\n",
    "    line = re.sub('== Notes and references ==', '', line)\n",
    "    line = re.sub(r'ISBN.*', '', line)\n",
    "    line = re.sub(r'(https?:\\S+?)/.*', '', line)\n",
    "    words_list = nltk.word_tokenize(line)\n",
    "    english_words_list = [word for word in words_list if word.lower() in english_words]\n",
    "    english_text = ' '.join(english_words_list)\n",
    "    return english_text\n",
    "# with open(\"mod_hyde/data/wikipedia_filtered.txt\",'w') as f:\n",
    "#     for line in train_data_wikipedia_text:\n",
    "#         english_text = preprocess_wikipedia_text(line)        \n",
    "        \n",
    "#         f.writelines(english_text)\n",
    "    # f.write(\"-\"*100)\n",
    "\n",
    "for text in train_data_wikipedia_text:\n",
    "    english_text = preprocess_wikipedia_text(text)\n",
    "    with open(\"mod_hyde/data/wikipedia_filtered_english.txt\",'a') as f:\n",
    "        f.writelines(english_text)\n",
    "        f.write(\"\\n-----------\\n\")"
   ]
  },
  {
   "cell_type": "code",
   "execution_count": 44,
   "metadata": {},
   "outputs": [
    {
     "data": {
      "text/plain": [
       "1977"
      ]
     },
     "execution_count": 44,
     "metadata": {},
     "output_type": "execute_result"
    }
   ],
   "source": [
    "len(train_data_wikipedia_text)"
   ]
  },
  {
   "cell_type": "code",
   "execution_count": 47,
   "metadata": {},
   "outputs": [],
   "source": [
    "with open(\"mod_hyde/data/wikipedia_filtered.txt\",\"r\") as f:\n",
    "    wikipedia_data = f.read()"
   ]
  },
  {
   "cell_type": "code",
   "execution_count": 50,
   "metadata": {},
   "outputs": [
    {
     "name": "stdout",
     "output_type": "stream",
     "text": [
      "1978\n"
     ]
    }
   ],
   "source": [
    "print(len(wikipedia_data.split(\"-----------\")))"
   ]
  },
  {
   "cell_type": "code",
   "execution_count": 27,
   "metadata": {},
   "outputs": [
    {
     "name": "stdout",
     "output_type": "stream",
     "text": [
      "Sacramento International Airport (SMF) opened on October 21, 1967, as Sacramento Metropolitan Airport (the airfield itself was Sacramento Metropolitan Field), with one 8600-foot runway. The initial runway was on the west side of the airfield and is now named to the headings of 17R/35L. Previously, air service to Sacramento was handled by Sacramento Municipal Airport (SAC), now known as Sacramento Executive Airport. Sacramento Metropolitan was the first purpose-built public-use airport west of the Mississippi when it opened in 1967. All airports under the Sacramento County Airport System (previously the Sacramento County Department of Airports), including SMF, are self-supporting through user fees and rentals. No local, state or federal tax funds are used for operating costs.\n",
      "The airport initially had five airlines: Pacific Air Lines, Pacific Southwest Airlines (PSA), United Airlines, Western Airlines and West Coast Airlines.\n",
      "September 11 did not deter growth at Sacramento International Airport. Four airlines were soon added to Sacramento International: Continental returned (2000) and Frontier \n",
      "Airlines (2002), Mexicana Airlines (2002), Hawaiian Airlines (2002) and Aloha Airlines (2003) initiated service. Mexicana's arrival initiated international nonstop flights and necessitated the completion of the International Arrivals Building for federal inspection services.\n",
      "\n",
      "The Terminal A Parking Garage opened on September 23, 2004. The six-story structure had covered parking, a short walk to the terminal and public art (\"Flying Gardens\" by Dennis Oppenheim) installed outside the garage, and \"Flying Carpet\" by Seyed Alavi, installed in the connecting walkway.\n",
      "In 2006, Sacramento International Airport was one of the first airports in the nation to offer free wireless Internet service (WiFi).\n",
      "Sacramento International Airport covers 6,000 acres (2,400 ha) and has two parallel runways:\n",
      "\n",
      "17L/35R: 8,605 ft × 150 ft (2,623 m × 46 m), concrete\n",
      "17R/35L: 8,600 ft × 150 ft (2,621 m × 46 m), concrete\n",
      "The runways were redesignated 17/35 from 16/34 on May 20, 2020.\n",
      "The west runway, 17R/35L, was closed from April 2019 to October 23, 2019, for a renovation which replaced the asphalt with concrete.\n",
      "When winds are from the south (about 70% of the year), the airfield operates in \"South Flow\", with arrivals and departures on runways 17R and 17L. Arrivals from the south fly past the west side of the airport before turning 180 degrees and landing on 17L or 17R. This is done so that arriving aircraft clear departing aircraft, which generally turn southeast after departing.\n",
      "During the other 30% of the year (typically between the fall and spring), the airfield operates in \"North Flow\", with arrivals and departures on runways 35L and 35R. As in South Flow, departing aircraft generally turn east to southeast immediately after taking off, so arrivals from the north pass west of the airport before turning north to land. Residences near SMF are typically south and east of the airport, so North Flow is preferred at night (between 2145 and 0745 local time), conditions permitting, to route flights over agricultural land.\n",
      "The airport has two terminals, Terminal A, with 13 gates; and Terminal B, with 19 gates; totaling 32 gates. The old Terminal B had 14 gates. 8 airlines operate out of Terminal B and 4 airlines operate out of Terminal A. All indoor public areas have free wi-fi (wireless Internet) provided by the Sacramento County Airport System.\n",
      "Dreyfuss + Blackford Architecture has been the Architect of Record for SMF since its inception. The original Terminal B (1967) and Terminal A (1998) were designed by Dreyfuss + Blackford, and they served as the local architect for the new Central Terminal B (landside building, 2011) with Corgan Associates and Fentress Architects.\n",
      "A Hyatt Place hotel is planned to be built between the two current terminals. Previously, the onsite Host Hotel was demolished in 2008 during Terminal B construction. An in-terminal hotel was proposed for Terminal B, but plans were temporarily dropped during the economic downturn of 2008, although subsequent economic regeneration and aviation growth have since revitalized such plans.\n",
      "Sacramento County Airport System has rolled out an advertising campaign dubbed \"Easy as SMF\" to tout the convenience of flying through SMF for residents on the eastern edge of the San Francisco Bay Area. Due to the Terminal B rebuild, until recently SMF charged some of the highest fees for airlines, which discouraged some carriers from operating through SMF, although SMF has since regained its reputation as a relatively budget-friendly airport, with extensive service by low-cost carriers, such as Frontier and Spirit Airlines. The Oakland and San Francisco airports attract Sacramento-area residents seeking lower fares and more destinations.\n",
      "\n",
      "\n",
      "\n",
      "On the afternoon of Thursday, August 26, 2010, JetBlue Flight 262, an Airbus A320 arriving from Long Beach blew four tires upon landing, creating a fire around the plane and causing passengers to evacuate. Out of the 84 passengers and crew, seven sustained injuries, though none were serious. Five passengers were hospitalized. A JetBlue spokesman said that the flight reported an issue with the brakes. The subsequent NTSB investigation showed the first officer had inadvertently engaged the parking brake while engaging the speed brake at an altitude of about 5,100 feet (1,600 m) above sea level. The subsequent alert via Electronic Centralized Aircraft Monitoring was also canceled by the first officer as part of his routine to preempt the alert associated with disconnecting the autopilot in preparation for landing.\n",
      "At about 6:30 PM on Tuesday, December 27, 2011, Seattle-bound Southwest Airlines Flight 2287 aborted take-off due to two blown-out tires. The plane reportedly made a hard landing; all 130 passengers aboard survived.\n",
      "Shortly before 6:00 PM on Wednesday, October 15, 2014, a pilot on an in-bound FedEx Express McDonnell Douglas MD-10-30 noticed a possible engine fire on one of the engines, with smoke showing. The aircraft declared an emergency and landed successfully. Emergency ground crews reported to the incident and determined that the on-board extinguishers had successfully extinguished the fire. Maintenance crews determined the aircraft could safely be towed to the cargo ramp for inspection and repairs.\n",
      "On Wednesday, November 25, 2015, around 5:45 pm, United Airlines Flight 2005 from SMF to Denver, an Airbus A320 with 114 people on board, was forced to turn around after an engine was damaged by a bird strike. About 10 minutes into the flight, the bird strike and subsequent explosion in the engine forced the plane to return to the airport. It landed at about 6:30 p.m., with no injuries reported. The airliner was taken out of service to make repairs to the engine.\n",
      "On Tuesday, June 7, 2022, at 1:31 PM, A Fedex McDonnell Douglas MD-10, registration N306FE performing flight FedEx 463 from Sacramento, California, to Memphis, Tennessee, with 3 crew, was enroute at 31,000 feet about 40 nm northwest of Tulsa, Oklahoma, when the crew decided to divert to Tulsa due to a fire indication in the cargo bay. On approach, the crew reported they now got an additional cargo fire alert in the aft cargo area. The crew requested runway 18L and landed safely about 18 minutes after leaving FL310. The tower reported seeing no smoke from the aircraft. Emergency services reported a heat signature prompting the crew to evacuate the aircraft. Both runways at Tulsa were closed for about 30 minutes while emergency services put the fire out.\n",
      "On Tuesday, Jan 10, 2023, at about 6pm, Southwest Airlines Flight 1096 from Sacramento to Burbank experience a bird strike on the left engine just a few minutes after takeoff. The crew declared an emergency and diverted back to Sacramento. On the ground, an Alert 2 was declared and emergency vehicles were deployed. After circling to burn fuel, the aircraft made an uneventful landing back on runway 17L. The flight was carrying passengers, including the UC Davis men's basketball team.\n",
      "\n",
      "Transportation in the Sacramento metropolitan area\n",
      "\n"
     ]
    }
   ],
   "source": [
    "print(preprocess_wikipedia_text(train_data_wikipedia_text[0]))"
   ]
  },
  {
   "cell_type": "code",
   "execution_count": 29,
   "metadata": {},
   "outputs": [
    {
     "name": "stdout",
     "output_type": "stream",
     "text": [
      "Sacramento International Airport (SMF) opened on October 21, 1967, as Sacramento Metropolitan Airport (the airfield itself was Sacramento Metropolitan Field), with one 8600-foot runway. The initial runway was on the west side of the airfield and is now named to the headings of 17R/35L. Previously, air service to Sacramento was handled by Sacramento Municipal Airport (SAC), now known as Sacramento Executive Airport. Sacramento Metropolitan was the first purpose-built public-use airport west of the Mississippi when it opened in 1967. All airports under the Sacramento County Airport System (previously the Sacramento County Department of Airports), including SMF, are self-supporting through user fees and rentals. No local, state or federal tax funds are used for operating costs.\n",
      "The airport initially had five airlines: Pacific Air Lines, Pacific Southwest Airlines (PSA), United Airlines, Western Airlines and West Coast Airlines.\n",
      "September 11 did not deter growth at Sacramento International Airport. Four airlines were soon added to Sacramento International: Continental returned (2000) and Frontier \n",
      "Airlines (2002), Mexicana Airlines (2002), Hawaiian Airlines (2002) and Aloha Airlines (2003) initiated service. Mexicana's arrival initiated international nonstop flights and necessitated the completion of the International Arrivals Building for federal inspection services.\n",
      "\n",
      "The Terminal A Parking Garage opened on September 23, 2004. The six-story structure had covered parking, a short walk to the terminal and public art (\"Flying Gardens\" by Dennis Oppenheim) installed outside the garage, and \"Flying Carpet\" by Seyed Alavi, installed in the connecting walkway.\n",
      "In 2006, Sacramento International Airport was one of the first airports in the nation to offer free wireless Internet service (WiFi).\n",
      "Sacramento International Airport covers 6,000 acres (2,400 ha) and has two parallel runways:\n",
      "\n",
      "17L/35R: 8,605 ft × 150 ft (2,623 m × 46 m), concrete\n",
      "17R/35L: 8,600 ft × 150 ft (2,621 m × 46 m), concrete\n",
      "The runways were redesignated 17/35 from 16/34 on May 20, 2020.\n",
      "The west runway, 17R/35L, was closed from April 2019 to October 23, 2019, for a renovation which replaced the asphalt with concrete.\n",
      "When winds are from the south (about 70% of the year), the airfield operates in \"South Flow\", with arrivals and departures on runways 17R and 17L. Arrivals from the south fly past the west side of the airport before turning 180 degrees and landing on 17L or 17R. This is done so that arriving aircraft clear departing aircraft, which generally turn southeast after departing.\n",
      "During the other 30% of the year (typically between the fall and spring), the airfield operates in \"North Flow\", with arrivals and departures on runways 35L and 35R. As in South Flow, departing aircraft generally turn east to southeast immediately after taking off, so arrivals from the north pass west of the airport before turning north to land. Residences near SMF are typically south and east of the airport, so North Flow is preferred at night (between 2145 and 0745 local time), conditions permitting, to route flights over agricultural land.\n",
      "The airport has two terminals, Terminal A, with 13 gates; and Terminal B, with 19 gates; totaling 32 gates. The old Terminal B had 14 gates. 8 airlines operate out of Terminal B and 4 airlines operate out of Terminal A. All indoor public areas have free wi-fi (wireless Internet) provided by the Sacramento County Airport System.\n",
      "Dreyfuss + Blackford Architecture has been the Architect of Record for SMF since its inception. The original Terminal B (1967) and Terminal A (1998) were designed by Dreyfuss + Blackford, and they served as the local architect for the new Central Terminal B (landside building, 2011) with Corgan Associates and Fentress Architects.\n",
      "A Hyatt Place hotel is planned to be built between the two current terminals. Previously, the onsite Host Hotel was demolished in 2008 during Terminal B construction. An in-terminal hotel was proposed for Terminal B, but plans were temporarily dropped during the economic downturn of 2008, although subsequent economic regeneration and aviation growth have since revitalized such plans.\n",
      "Sacramento County Airport System has rolled out an advertising campaign dubbed \"Easy as SMF\" to tout the convenience of flying through SMF for residents on the eastern edge of the San Francisco Bay Area. Due to the Terminal B rebuild, until recently SMF charged some of the highest fees for airlines, which discouraged some carriers from operating through SMF, although SMF has since regained its reputation as a relatively budget-friendly airport, with extensive service by low-cost carriers, such as Frontier and Spirit Airlines. The Oakland and San Francisco airports attract Sacramento-area residents seeking lower fares and more destinations.\n",
      "\n",
      "\n",
      "\n",
      "On the afternoon of Thursday, August 26, 2010, JetBlue Flight 262, an Airbus A320 arriving from Long Beach blew four tires upon landing, creating a fire around the plane and causing passengers to evacuate. Out of the 84 passengers and crew, seven sustained injuries, though none were serious. Five passengers were hospitalized. A JetBlue spokesman said that the flight reported an issue with the brakes. The subsequent NTSB investigation showed the first officer had inadvertently engaged the parking brake while engaging the speed brake at an altitude of about 5,100 feet (1,600 m) above sea level. The subsequent alert via Electronic Centralized Aircraft Monitoring was also canceled by the first officer as part of his routine to preempt the alert associated with disconnecting the autopilot in preparation for landing.\n",
      "At about 6:30 PM on Tuesday, December 27, 2011, Seattle-bound Southwest Airlines Flight 2287 aborted take-off due to two blown-out tires. The plane reportedly made a hard landing; all 130 passengers aboard survived.\n",
      "Shortly before 6:00 PM on Wednesday, October 15, 2014, a pilot on an in-bound FedEx Express McDonnell Douglas MD-10-30 noticed a possible engine fire on one of the engines, with smoke showing. The aircraft declared an emergency and landed successfully. Emergency ground crews reported to the incident and determined that the on-board extinguishers had successfully extinguished the fire. Maintenance crews determined the aircraft could safely be towed to the cargo ramp for inspection and repairs.\n",
      "On Wednesday, November 25, 2015, around 5:45 pm, United Airlines Flight 2005 from SMF to Denver, an Airbus A320 with 114 people on board, was forced to turn around after an engine was damaged by a bird strike. About 10 minutes into the flight, the bird strike and subsequent explosion in the engine forced the plane to return to the airport. It landed at about 6:30 p.m., with no injuries reported. The airliner was taken out of service to make repairs to the engine.\n",
      "On Tuesday, June 7, 2022, at 1:31 PM, A Fedex McDonnell Douglas MD-10, registration N306FE performing flight FedEx 463 from Sacramento, California, to Memphis, Tennessee, with 3 crew, was enroute at 31,000 feet about 40 nm northwest of Tulsa, Oklahoma, when the crew decided to divert to Tulsa due to a fire indication in the cargo bay. On approach, the crew reported they now got an additional cargo fire alert in the aft cargo area. The crew requested runway 18L and landed safely about 18 minutes after leaving FL310. The tower reported seeing no smoke from the aircraft. Emergency services reported a heat signature prompting the crew to evacuate the aircraft. Both runways at Tulsa were closed for about 30 minutes while emergency services put the fire out.\n",
      "On Tuesday, Jan 10, 2023, at about 6pm, Southwest Airlines Flight 1096 from Sacramento to Burbank experience a bird strike on the left engine just a few minutes after takeoff. The crew declared an emergency and diverted back to Sacramento. On the ground, an Alert 2 was declared and emergency vehicles were deployed. After circling to burn fuel, the aircraft made an uneventful landing back on runway 17L. The flight was carrying passengers, including the UC Davis men's basketball team.\n",
      "\n",
      "Transportation in the Sacramento metropolitan area\n",
      "\n"
     ]
    }
   ],
   "source": [
    "print(train_data_wikipedia_text[0])"
   ]
  },
  {
   "cell_type": "markdown",
   "metadata": {},
   "source": [
    "## PREPROCESSING\n",
    "1. ==REFERENCES==\n",
    "2. ISBN NUMBERS\n",
    "3. REGEX FOR LINKS (https?:\\S+?)/.*"
   ]
  },
  {
   "cell_type": "code",
   "execution_count": 8,
   "metadata": {},
   "outputs": [
    {
     "data": {
      "text/plain": [
       "Index(['title', 'text'], dtype='object')"
      ]
     },
     "execution_count": 8,
     "metadata": {},
     "output_type": "execute_result"
    }
   ],
   "source": [
    "final_df.columns"
   ]
  },
  {
   "cell_type": "code",
   "execution_count": 9,
   "metadata": {},
   "outputs": [],
   "source": [
    "all_titles = list(final_df['title'].values)"
   ]
  },
  {
   "cell_type": "code",
   "execution_count": 10,
   "metadata": {},
   "outputs": [],
   "source": [
    "import wikipediaapi\n",
    "wikipedia_module = wikipediaapi.Wikipedia(\"HyDE-Project (athekunal@gmail.com)\", \"en\")\n",
    "\n"
   ]
  },
  {
   "cell_type": "code",
   "execution_count": 18,
   "metadata": {},
   "outputs": [
    {
     "name": "stdout",
     "output_type": "stream",
     "text": [
      "G. K. Chesterton\n",
      "Biography <bound method WikipediaPageSection.full_text of Section: Biography (1):\n",
      "\n",
      "Subsections (3):\n",
      "Section: Early life (2):\n",
      "Chesterton was born in Campden Hill in Kensington, London, the son of Edward Chesterton (1841–1922), an estate agent, and Marie Louise, née Grosjean, of Swiss French origin. Chesterton was baptised at the age of one month into the Church of England, though his family themselves were irregularly practising Unitarians. According to his autobiography, as a young man he became fascinated with the occult and, along with his brother Cecil, experimented with Ouija boards. He was educated at St Paul's School, then attended the Slade School of Art to become an illustrator. The Slade is a department of University College London, where Chesterton also took classes in literature, but he did not complete a degree in either subject. He married Frances Blogg in 1901; the marriage lasted the rest of his life. Chesterton credited Frances with leading him back to Anglicanism, though he later considered Anglicanism to be a \"pale imitation\". He entered in full communion with the Catholic Church in 1922.  The couple were unable to have children.\n",
      "A friend from schooldays was Edmund Clerihew Bentley, inventor of the clerihew, a whimsical four-line biographical poem. Chesterton himself wrote clerihews and illustrated his friend's first published collection of poetry, Biography for Beginners (1905), which popularised the clerihew form. He became godfather to Bentley's son, Nicolas, and opened his novel The Man Who Was Thursday with a poem written to Bentley.\n",
      "Subsections (0):\n",
      "\n",
      "Section: Career (2):\n",
      "In September 1895, Chesterton began working for the London publisher George Redway, where he remained for just over a year. In October 1896, he moved to the publishing house T. Fisher Unwin, where he remained until 1902. During this period he also undertook his first journalistic work, as a freelance art and literary critic. In 1902, The Daily News gave him a weekly opinion column, followed in 1905 by a weekly column in The Illustrated London News, for which he continued to write for the next thirty years.\n",
      "Early on Chesterton showed a great interest in and talent for art. He had planned to become an artist, and his writing shows a vision that clothed abstract ideas in concrete and memorable images. Father Brown is perpetually correcting the incorrect vision of the bewildered folks at the scene of the crime and wandering off at the end with the criminal to exercise his priestly role of recognition, repentance and reconciliation. For example, in the story \"The Flying Stars\", Father Brown entreats the character Flambeau to give up his life of crime: \"There is still youth and honour and humour in you; don't fancy they will last in that trade. Men may keep a sort of level of good, but no man has ever been able to keep on one level of evil. That road goes down and down. The kind man drinks and turns cruel; the frank man kills and lies about it. Many a man I've known started like you to be an honest outlaw, a merry robber of the rich, and ended stamped into slime.\"\n",
      "\n",
      "Chesterton loved to debate, often engaging in friendly public disputes with such men as George Bernard Shaw, H. G. Wells, Bertrand Russell and Clarence Darrow. According to his autobiography, he and Shaw played cowboys in a silent film that was never released. On 7 January 1914 Chesterton (along with his brother Cecil and future sister-in-law Ada) took part in the mock-trial of John Jasper for the murder of Edwin Drood. Chesterton was Judge and George Bernard Shaw played the role of foreman of the jury.\n",
      "Chesterton was a large man, standing 6 feet 4 inches (1.93 m) tall and weighing around 20 stone 6 pounds (130 kg; 286 lb). His girth gave rise to an anecdote during the First World War, when a lady in London asked why he was not \"out at the Front\"; he replied, \"If you go round to the side, you will see that I am.\" On another occasion he remarked to his friend George Bernard Shaw, \"To look at you, anyone would think a famine had struck England.\"  Shaw retorted, \"To look at you, anyone would think you had caused it.\" P. G. Wodehouse once described a very loud crash as \"a sound like G. K. Chesterton falling onto a sheet of tin\". Chesterton usually wore a cape and a crumpled hat, with a swordstick in hand, and a cigar hanging out of his mouth. He had a tendency to forget where he was supposed to be going and miss the train that was supposed to take him there. It is reported that on several occasions he sent a telegram to his wife Frances from an incorrect location, writing such things as \"Am in Market Harborough. Where ought I to be?\" to which she would reply, \"Home\". Chesterton himself told this story, omitting, however, his wife's alleged reply, in his autobiography.\n",
      "In 1931, the BBC invited Chesterton to give a series of radio talks. He accepted, tentatively at first. He was allowed (and encouraged) to improvise on the scripts. This allowed his talks to maintain an intimate character, as did the decision to allow his wife and secretary to sit with him during his broadcasts. The talks were very popular. A BBC official remarked, after Chesterton's death, that \"in another year or so, he would have become the dominating voice from Broadcasting House.\" Chesterton was nominated for the Nobel Prize in Literature in 1935.\n",
      "Chesterton was part of the Detection Club, a society of British mystery authors founded by Anthony Berkeley in 1928. He was elected as the first president and served from 1930 to 1936 till he was succeeded by E. C. Bentley.\n",
      "Subsections (0):\n",
      "\n",
      "Section: Death (2):\n",
      "Chesterton died of congestive heart failure on 14 June 1936, aged 62, at his home in Beaconsfield, Buckinghamshire. His last words were a greeting of good morning spoken to his wife Frances. The sermon at Chesterton's Requiem Mass in Westminster Cathedral, London, was delivered by Ronald Knox on 27 June 1936. Knox said, \"All of this generation has grown up under Chesterton's influence so completely that we do not even know when we are thinking Chesterton.\" He is buried in Beaconsfield in the Catholic Cemetery. Chesterton's estate was probated at £28,389, equivalent to £2,052,132 in 2021.\n",
      "Near the end of Chesterton's life, Pope Pius XI invested him as Knight Commander with Star of the Papal Order of St. Gregory the Great (KC*SG). The Chesterton Society has proposed that he be beatified.\n",
      "Subsections (0):\n",
      ">\n",
      "Writing <bound method WikipediaPageSection.full_text of Section: Writing (1):\n",
      "Chesterton wrote around 80 books, several hundred poems, some 200 short stories, 4,000 essays (mostly newspaper columns), and several plays. He was a literary and social critic, historian, playwright, novelist, and Catholic theologian and apologist, debater, and mystery writer. He was a columnist for the Daily News, The Illustrated London News, and his own paper, G. K.'s Weekly; he also wrote articles for the Encyclopædia Britannica, including the entry on Charles Dickens and part of the entry on Humour in the 14th edition (1929). His best-known character is the priest-detective Father Brown, who appeared only in short stories, while The Man Who Was Thursday is arguably his best-known novel. He was a convinced Christian long before he was received into the Catholic Church, and Christian themes and symbolism appear in much of his writing. In the United States, his writings on distributism were popularised through The American Review, published by Seward Collins in New York.\n",
      "Of his nonfiction, Charles Dickens: A Critical Study (1906) has received some of the broadest-based praise. According to Ian Ker (The Catholic Revival in English Literature, 1845–1961, 2003), \"In Chesterton's eyes Dickens belongs to Merry, not Puritan, England\"; Ker treats Chesterton's thought in chapter 4 of that book as largely growing out of his true appreciation of Dickens, a somewhat shop-soiled property in the view of other literary opinions of the time. The biography was largely responsible for creating a popular revival for Dickens's work as well as a serious reconsideration of Dickens by scholars.\n",
      "Chesterton's writings consistently displayed wit and a sense of humour. He employed paradox, while making serious comments on the world, government, politics, economics, philosophy, theology and many other topics.\n",
      "T. S. Eliot summed up his work as follows:\n",
      "\n",
      "He was importantly and consistently on the side of the angels. Behind the Johnsonian fancy dress, so reassuring to the British public, he concealed the most serious and revolutionary designs—concealing them by exposure ... Chesterton's social and economic ideas ... were fundamentally Christian and Catholic. He did more, I think, than any man of his time—and was able to do more than anyone else, because of his particular background, development and abilities as a public performer—to maintain the existence of the important minority in the modern world. He leaves behind a permanent claim upon our loyalty, to see that the work that he did in his time is continued in ours.\n",
      "Eliot commented further that \"His poetry was first-rate journalistic balladry, and I do not suppose that he took it more seriously than it deserved. He reached a high imaginative level with The Napoleon of Notting Hill, and higher with The Man Who Was Thursday, romances in which he turned the Stevensonian fantasy to more serious purpose. His book on Dickens seems to me the best essay on that author that has ever been written. Some of his essays can be read again and again; though of his essay-writing as a whole, one can only say that it is remarkable to have maintained such a high average with so large an output.\"\n",
      "In 2022, a three-volume bibliography of Chesterton was published, listing 9000 contributions he made to newspapers, magazines, and journals, as well as 200 books and 3000 articles about him.\n",
      "Subsections (0):\n",
      ">\n",
      "Contemporaries <bound method WikipediaPageSection.full_text of Section: Contemporaries (1):\n",
      "\n",
      "Subsections (3):\n",
      "Section: \"Chesterbelloc\" (2):\n",
      "Chesterton is often associated with his close friend, the poet and essayist Hilaire Belloc. George Bernard Shaw coined the name \"Chesterbelloc\" for their partnership, and this stuck. Though they were very different men, they shared many beliefs; in 1922, Chesterton joined Belloc in the Catholic faith, and both voiced criticisms of capitalism and socialism. They instead espoused a third way: distributism. G. K.'s Weekly, which occupied much of Chesterton's energy in the last 15 years of his life, was the successor to Belloc's New Witness, taken over from Cecil Chesterton, Gilbert's brother, who died in World War I.\n",
      "In his book On the Place of Gilbert Chesterton in English Letters, Belloc wrote that \"Everything he wrote upon any one of the great English literary names was of the first quality.  He summed up any one pen (that of Jane Austen, for instance) in exact sentences; sometimes in a single sentence, after a fashion which no one else has approached.  He stood quite by himself in this department. He understood the very minds (to take the two most famous names) of Thackeray and of Dickens. He understood and presented Meredith. He understood the supremacy in Milton. He understood Pope. He understood the great Dryden. He was not swamped as nearly all his contemporaries were by Shakespeare, wherein they drown as in a vast sea – for that is what Shakespeare is. Gilbert Chesterton continued to understand the youngest and latest comers as he understood the forefathers in our great corpus of English verse and prose.\"\n",
      "Subsections (0):\n",
      "\n",
      "Section: Wilde (2):\n",
      "In his book Heretics, Chesterton said this of Oscar Wilde: \"The same lesson [of the pessimistic pleasure-seeker] was taught by the very powerful and very desolate philosophy of Oscar Wilde. It is the carpe diem religion; but the carpe diem religion is not the religion of happy people, but of very unhappy people. Great joy does not gather the rosebuds while it may; its eyes are fixed on the immortal rose which Dante saw.\" More briefly, and with a closer approximation to Wilde's own style, he wrote in his 1908 book Orthodoxy concerning the necessity of making symbolic sacrifices for the gift of creation: \"Oscar Wilde said that sunsets were not valued because we could not pay for sunsets. But Oscar Wilde was wrong; we can pay for sunsets. We can pay for them by not being Oscar Wilde.\"\n",
      "Subsections (0):\n",
      "\n",
      "Section: Shaw (2):\n",
      "Chesterton and George Bernard Shaw were famous friends and enjoyed their arguments and discussions. Although rarely in agreement, they each maintained good will toward, and respect for, the other. In his writing, Chesterton expressed himself very plainly on where they differed and why. In Heretics he writes of Shaw:\n",
      "\n",
      "After belabouring a great many people for a great many years for being unprogressive, Mr Shaw has discovered, with characteristic sense, that it is very doubtful whether any existing human being with two legs can be progressive at all. Having come to doubt whether humanity can be combined with progress, most people, easily pleased, would have elected to abandon progress and remain with humanity. Mr Shaw, not being easily pleased, decides to throw over humanity with all its limitations and go in for progress for its own sake. If man, as we know him, is incapable of the philosophy of progress, Mr Shaw asks, not for a new kind of philosophy, but for a new kind of man. It is rather as if a nurse had tried a rather bitter food for some years on a baby, and on discovering that it was not suitable, should not throw away the food and ask for a new food, but throw the baby out of window, and ask for a new baby.\n",
      "Subsections (0):\n",
      ">\n",
      "Views <bound method WikipediaPageSection.full_text of Section: Views (1):\n",
      "\n",
      "Subsections (8):\n",
      "Section: Advocacy of Catholicism (2):\n",
      "Chesterton's views, in contrast to Shaw and others, became increasingly focused towards the Church. In Orthodoxy he wrote: \"The worship of will is the negation of will ... If Mr Bernard Shaw comes up to me and says, 'Will something', that is tantamount to saying, 'I do not mind what you will', and that is tantamount to saying, 'I have no will in the matter.' You cannot admire will in general, because the essence of will is that it is particular.\"\n",
      "Chesterton's The Everlasting Man contributed to C. S. Lewis's conversion to Christianity. In a letter to Sheldon Vanauken (14 December 1950), Lewis called the book \"the best popular apologetic I know\", and to Rhonda Bodle he wrote (31 December 1947) \"the [very] best popular defence of the full Christian position I know is G. K. Chesterton's The Everlasting Man\". The book was also cited in a list of 10 books that \"most shaped his vocational attitude and philosophy of life\".\n",
      "Chesterton's hymn \"O God of Earth and Altar\" was printed in The Commonwealth and then included in The English Hymnal in 1906. Several lines of the hymn appear in the beginning of the song \"Revelations\" by the British heavy metal band Iron Maiden on their 1983 album Piece of Mind. Lead singer Bruce Dickinson in an interview stated \"I have a fondness for hymns. I love some of the ritual, the beautiful words, Jerusalem and there was another one, with words by G. K. Chesterton O God of Earth and Altar – very fire and brimstone: 'Bow down and hear our cry'. I used that for an Iron Maiden song, \"Revelations\". In my strange and clumsy way I was trying to say look it's all the same stuff.\"\n",
      "Étienne Gilson praised Chesterton's book on Thomas Aquinas: \"I consider it as being, without possible comparison, the best book ever written on Saint Thomas ... the few readers who have spent twenty or thirty years in studying St. Thomas Aquinas, and who, perhaps, have themselves published two or three volumes on the subject, cannot fail to perceive that the so-called 'wit' of Chesterton has put their scholarship to shame.\"\n",
      "Archbishop Fulton J. Sheen, the author of 70 books, identified Chesterton as the stylist who had the greatest impact on his own writing, stating in his autobiography Treasure in Clay, \"the greatest influence in writing was G. K. Chesterton who never used a useless word, who saw the value of a paradox, and avoided what was trite.\" Chesterton wrote the introduction to Sheen's book God and Intelligence in Modern Philosophy; A Critical Study in the Light of the Philosophy of Saint Thomas.\n",
      "Subsections (0):\n",
      "\n",
      "Section: Common Sense (2):\n",
      "Chesterton has been called \"The Apostle of Common Sense\".  He was critical of the thinkers and popular philosophers of the day, who though very clever, were saying things that were nonsensical. This is illustrated again in Orthodoxy: \"Thus when Mr H. G. Wells says (as he did somewhere), 'All chairs are quite different', he utters not merely a misstatement, but a contradiction in terms. If all chairs were quite different, you could not call them 'all chairs'.\"\n",
      "Chesterton was an early member of the Fabian Society but resigned at the time of the Boer War. He is often identified as a traditionalist conservative due to his staunch support of tradition, expressed in Orthodoxy and other works with Burkean quotes such as the following:\n",
      "\n",
      "Tradition means giving votes to the most obscure of all classes, our ancestors. It is the democracy of the dead. Tradition refuses to submit to the small and arrogant oligarchy of those who merely happen to be walking about. All democrats object to men being disqualified by the accident of birth; tradition objects to their being disqualified by the accident of death. Democracy tells us not to neglect a good man's opinion, even if he is our groom; tradition asks us not to neglect a good man's opinion, even if he is our father.\n",
      "Chesterton also called himself \"the last liberal\".\n",
      "Subsections (0):\n",
      "\n",
      "Section: On War (2):\n",
      "Chesterton first emerged as a journalist just after the turn of the 20th century. His great, and very lonely, opposition to the Second Boer War, set him very much apart from most of the rest of the British press.  Chesterton was a Little Englander, opposed to imperialism, British or otherwise. Chesterton thought that Great Britain betrayed her own principles in the Boer Wars. \n",
      "In vivid contrast to his opposition to the Boer Wars, Chesterton vigorously defended and encouraged the Allies in World War I. \"The war was in Chesterton's eyes a crusade, and he was certain that England was right to fight as she had been wrong in fighting the Boers.\" Chesterton saw the roots of the war in Prussian militarism. He was deeply disturbed by Prussia's unprovoked invasion and occupation of neutral Belgium and by reports of shocking atrocities the Imperial German Army was allegedly committing in Belgium. Over the course of the War, Chesterton wrote hundreds of essays defending it, attacking pacifism, and exhorting the public to persevere until victory. Some of these essays were collected in the 1916 work, The Barbarism of Berlin.\n",
      "One of Chesterton's most successful works in support of the War was his 1915 tongue-in-cheek The Crimes of England.  The work is masterfully ironic, supposedly apologizing and trying to help a fictitious Prussian professor named Whirlwind make the case for Prussia in WWI, while actually attacking Prussia throughout. Part of the book's humorous impact is the conceit that Professor Whirlwind never realizes how his supposed benefactor is undermining Prussia at every turn. Chesterton \"blames\" England for historically building up Prussia against Austria, and for its pacifism, especially among wealthy British Quaker political donors, who prevented Britain from standing up to past Prussian aggression.\n",
      "Subsections (0):\n",
      "\n",
      "Section: Accusations of antisemitism (2):\n",
      "Chesterton faced accusations of antisemitism during his lifetime, saying in his 1920 book The New Jerusalem that it was something \"for which my friends and I were for a long period rebuked and even reviled\". Despite his protestations to the contrary, the accusation continues to be repeated. An early supporter of Captain Dreyfus, by 1906 he had turned into an anti-dreyfusard. From the early 20th century, his fictional work included caricatures of Jews, stereotyping them as greedy, cowardly, disloyal and communists. Martin Gardner suggests that Four Faultless Felons was allowed to go out of print in the United States because of the \"anti-Semitism which mars so many pages.\"\n",
      "The Marconi scandal of 1912–1913 brought issues of anti-Semitism into the political mainstream. Senior ministers in the Liberal government had secretly profited from advance knowledge of deals regarding wireless telegraphy, and critics regarded it as relevant that some of the key players were Jewish. According to historian Todd Endelman, who identified Chesterton as among the most vocal critics, \"The Jew-baiting at the time of the Boer War and the Marconi scandal was linked to a broader protest, mounted in the main by the Radical wing of the Liberal Party, against the growing visibility of successful businessmen in national life and their challenge to what were seen as traditional English values.\"\n",
      "In a work of 1917, titled A Short History of England, Chesterton considers the royal decree of 1290 by which Edward I expelled Jews from England, a policy that remained in place until 1655. Chesterton writes that popular perception of Jewish moneylenders could well have led Edward I's subjects to regard him as a \"tender father of his people\" for \"breaking the rule by which the rulers had hitherto fostered their bankers' wealth\". He felt that Jews, \"a sensitive and highly civilized people\" who \"were the capitalists of the age, the men with wealth banked ready for use\", might legitimately complain that \"Christian kings and nobles, and even Christian popes and bishops, used for Christian purposes (such as the Crusades and the cathedrals) the money that could only be accumulated in such mountains by a usury they inconsistently denounced as unchristian; and then, when worse times came, gave up the Jew to the fury of the poor\".\n",
      "In The New Jerusalem Chesterton dedicated a chapter to his views on the Jewish question: the sense that Jews were a distinct people without a homeland of their own, living as foreigners in countries where they were always a minority. He wrote that in the past, his position:\n",
      "\n",
      "was always called Anti-Semitism; but it was always much more true to call it Zionism. ... my friends and I had in some general sense a policy in the matter; and it was in substance the desire to give Jews the dignity and status of a separate nation. We desired that in some fashion, and so far as possible, Jews should be represented by Jews, should live in a society of Jews, should be judged by Jews and ruled by Jews. I am an Anti-Semite if that is Anti-Semitism. It would seem more rational to call it Semitism.\n",
      "In the same place he proposed the thought experiment (describing it as \"a parable\" and \"a flippant fancy\") that Jews should be admitted to any role in English public life on condition that they must wear distinctively Middle Eastern garb, explaining that \"The point is that we should know where we are; and he would know where he is, which is in a foreign land.\"\n",
      "Chesterton, like Belloc, openly expressed his abhorrence of Adolf Hitler's rule almost as soon as it started. As Rabbi Stephen Samuel Wise wrote in a posthumous tribute to Chesterton in 1937:\n",
      "\n",
      "When Hitlerism came, he was one of the first to speak out with all the directness and frankness of a great and unabashed spirit. Blessing to his memory!\n",
      "In The Truth About the Tribes Chesterton attacked Nazi racial theories, writing: \"the essence of Nazi Nationalism is to preserve the purity of a race in a continent where all races are impure\".\n",
      "The historian Simon Mayers points out that Chesterton wrote in works such as The Crank, The Heresy of Race, and The Barbarian as Bore against the concept of racial superiority and critiqued pseudo-scientific race theories, saying they were akin to a new religion. In The Truth About the Tribes Chesterton wrote, \"the curse of race religion is that it makes each separate man the sacred image which he worships. His own bones are the sacred relics; his own blood is the blood of St. Januarius\". Mayers records that despite \"his hostility towards Nazi antisemitism … [it is unfortunate that he made] claims that 'Hitlerism' was a form of Judaism, and that the Jews were partly responsible for race theory\". In The Judaism of Hitler, as well as in A Queer Choice and The Crank, Chesterton made much of the fact that the very notion of \"a Chosen Race\" was of Jewish origin, saying in The Crank: \"If there is one outstanding quality in Hitlerism it is its Hebraism\" and \"the new Nordic Man has all the worst faults of the worst Jews: jealousy, greed, the mania of conspiracy, and above all, the belief in a Chosen Race\".\n",
      "Mayers also shows that Chesterton portrayed Jews not only as culturally and religiously distinct, but racially as well. In The Feud of the Foreigner (1920) he said that the Jew \"is a foreigner far more remote from us than is a Bavarian from a Frenchman; he is divided by the same type of division as that between us and a Chinaman or a Hindoo. He not only is not, but never was, of the same race\".\n",
      "In The Everlasting Man, while writing about human sacrifice, Chesterton suggested that medieval stories about Jews killing children might have resulted from a distortion of genuine cases of devil worship. Chesterton wrote:\n",
      "\n",
      "[T]he Hebrew prophets were perpetually protesting against the Hebrew race relapsing into an idolatry that involved such a war upon children; and it is probable enough that this abominable apostasy from the God of Israel has occasionally appeared in Israel since, in the form of what is called ritual murder; not of course by any representative of the religion of Judaism, but by individual and irresponsible diabolists who did happen to be Jews.\n",
      "The American Chesterton Society has devoted a whole issue of its magazine, Gilbert, to defending Chesterton against charges of antisemitism. Likewise, Ann Farmer, author of Chesterton and the Jews: Friend, Critic, Defender, writes, \"Public figures from Winston Churchill to Wells proposed remedies for the 'Jewish problem' – the seemingly endless cycle of anti-Jewish persecution – all shaped by their worldviews. As patriots, Churchill and Chesterton embraced Zionism; both were among the first to defend the Jews from Nazism\", concluding that \"A defender of Jews in his youth – a conciliator as well as a defender – GKC returned to the defence when the Jewish people needed it most.\"\n",
      "Subsections (0):\n",
      "\n",
      "Section: Opposition to eugenics (2):\n",
      "In Eugenics and Other Evils, Chesterton attacked eugenics as Parliament was moving towards passage of the Mental Deficiency Act 1913. Some backing the ideas of eugenics called for the government to sterilise people deemed \"mentally defective\"; this view did not gain popularity but the idea of segregating them from the rest of society and thereby preventing them from reproducing did gain traction. These ideas disgusted Chesterton who wrote, \"It is not only openly said, it is eagerly urged that the aim of the measure is to prevent any person whom these propagandists do not happen to think intelligent from having any wife or children.\" He condemned the proposed wording for such measures as being so vague as to apply to anyone, including \"Every tramp who is sulk, every labourer who is shy, every rustic who is eccentric, can quite easily be brought under such conditions as were designed for homicidal maniacs. That is the situation; and that is the point ... we are already under the Eugenist State; and nothing remains to us but rebellion.\" He derided such ideas as founded on nonsense, \"as if one had a right to dragoon and enslave one's fellow citizens as a kind of chemical experiment\". Chesterton mocked the idea that poverty was a result of bad breeding: \"[it is a] strange new disposition to regard the poor as a race; as if they were a colony of Japs or Chinese coolies ... The poor are not a race or even a type. It is senseless to talk about breeding them; for they are not a breed. They are, in cold fact, what Dickens describes: 'a dustbin of individual accidents,' of damaged dignity, and often of damaged gentility.\"\n",
      "Subsections (0):\n",
      "\n",
      "Section: Chesterton's fence (2):\n",
      "\"Chesterton's fence\" is the principle that reforms should not be made until the reasoning behind the existing state of affairs is understood. The quotation is from Chesterton's 1929 book, The Thing: Why I Am a Catholic, in the chapter, \"The Drift from Domesticity\":\n",
      "\n",
      "In the matter of reforming things, as distinct from deforming them, there is one plain and simple principle; a principle which will probably be called a paradox. There exists in such a case a certain institution or law; let us say, for the sake of simplicity, a fence or gate erected across a road. The more modern type of reformer goes gaily up to it and says, 'I don't see the use of this; let us clear it away.' To which the more intelligent type of reformer will do well to answer: 'If you don't see the use of it, I certainly won't let you clear it away. Go away and think. Then, when you can come back and tell me that you do see the use of it, I may allow you to destroy it.'\n",
      "Subsections (0):\n",
      "\n",
      "Section: Distributism (2):\n",
      "Inspired by Leo XIII's encyclical Rerum novarum, Chesterton's brother Cecil and his friend, Hilaire Belloc were instrumental in developing the economic philosophy of distributism, a word Belloc coined. Gilbert embraced their views and, particularly after Cecil's death in World War I, became one of the foremost distributists and the newspaper whose care he inherited from Cecil, which ultimately came to be named G. K.'s Weekly, became its most consistent advocate.  Distributism stands as a third way, against both unrestrained capitalism, and socialism, advocating a wide distribution of both property and political power.\n",
      "Subsections (0):\n",
      "\n",
      "Section: Scottish and Irish Nationalism (2):\n",
      "Despite his criticisms of Nazism, Chesterton was not an opponent of nationalism in general and gave a degree of support to the Scottish and Irish home rule movements. He endorsed Cunninghame Graham and Compton Mackenzie for the post of Lord Rector of Glasgow University in 1928 and 1931 respectively, had praised Scottish Catholics as \"patriots\" contra the Anglophilia of John Knox. Chesterton was also a supporter of Irish home rule and maintained friendships with members of the Irish Parliamentary Party. This was in part due to his belief that Irish Catholics had a naturally distributist outlook on property ownership.\n",
      "Subsections (0):\n",
      ">\n",
      "Legacy <bound method WikipediaPageSection.full_text of Section: Legacy (1):\n",
      "James Parker, in The Atlantic, gave a modern appraisal:\n",
      "\n",
      "In his vastness and mobility, Chesterton continues to elude definition: He was a Catholic convert and an oracular man of letters, a pneumatic cultural presence, an aphorist with the production rate of a pulp novelist. Poetry, criticism, fiction, biography, columns, public debate...Chesterton was a journalist; he was a metaphysician. He was a reactionary; he was a radical. He was a modernist, acutely alive to the rupture in consciousness that produced Eliot's \"The Hollow Men\"; he was an anti-modernist...a parochial Englishman and a post-Victorian gasbag; he was a mystic wedded to eternity. All of these cheerfully contradictory things are true...for the final, resolving fact that he was a genius. Touched once by the live wire of his thought, you don't forget it ... His prose ... [is] supremely entertaining, the stately outlines of an older, heavier rhetoric punctually convulsed by what he once called (in reference to the Book of Job) \"earthquake irony\". He fulminates wittily; he cracks jokes like thunder. His message, a steady illumination beaming and clanging through every lens and facet of his creativity, was really very straightforward: get on your knees, modern man, and praise God.\n",
      "Subsections (4):\n",
      "Section: Possible sainthood (2):\n",
      "The Bishop Emeritus of Northampton, Peter Doyle, in 2012 had opened a preliminary investigation into possibly launching a cause for beatification and then canonization (for possible sainthood). but eventually decided not to open the cause. The current Bishop of Northampton, David Oakley, has agreed to preach at a Mass during a Chesterton pilgrimage in England (the route goes through London and Beaconsfield, which are both connected to his life), and some have speculated he may be more favourable to the idea. If the cause is actually opened at the diocesan level (the Vatican must also give approval, that nothing stands in the way – the \"nihil obstat\"), then he could be given the title \"Servant of God\". It is not known if his alleged anti-Semitism (which would be considered a serious matter by the Church if it is true) may have played a role. His life and writings and views and what he did for others would be closely examined, in any case.\n",
      "Subsections (0):\n",
      "\n",
      "Section: Literary (2):\n",
      "Chesterton's socio-economic system of Distributism affected the sculptor Eric Gill, who established a commune of Catholic artists at Ditchling in Sussex. The Ditchling group developed a journal called The Game, in which they expressed many Chestertonian principles, particularly anti-industrialism and an advocacy of religious family life. His novel The Man Who Was Thursday inspired the Irish Republican leader Michael Collins with the idea that \"If you didn't seem to be hiding nobody hunted you out.\" Collins's favourite work of Chesterton was The Napoleon of Notting Hill, and he was \"almost fanatically attached to it\", according to his friend Sir William Darling. His column in The Illustrated London News on 18 September 1909 had a profound effect on Mahatma Gandhi. P. N. Furbank asserts that Gandhi was \"thunderstruck\" when he read it, while Martin Green notes that \"Gandhi was so delighted with this that he told Indian Opinion to reprint it\". Another convert was Canadian media theorist Marshall McLuhan, who said that the book What's Wrong with the World changed his life in terms of ideas and religion. The author Neil Gaiman stated that he grew up reading Chesterton in his school's library, and that The Napoleon of Notting Hill influenced his own book Neverwhere. Gaiman based the character Gilbert from the comic book The Sandman on Chesterton, and Good Omens, the novel Gaiman co-wrote with Terry Pratchett, is dedicated to Chesterton. The Argentine author and essayist Jorge Luis Borges cited Chesterton as influential on his fiction, telling interviewer Richard Burgin that \"Chesterton knew how to make the most of a detective story\".\n",
      "Subsections (0):\n",
      "\n",
      "Section: Education (2):\n",
      "Chesterton's many references to education and human formation have inspired a variety of educators including the 69 schools of the Chesterton Schools Network, which includes the Chesterton Academy founded by Dale Ahlquist. and the Italian Scuola Libera G. K. Chesterton in San Benedetto del Tronto, Marche. The publisher and educator Christopher Perrin (who completed his doctoral work on Chesterton) makes frequent reference to Chesterton in his work with classical schools.\n",
      "Subsections (0):\n",
      "\n",
      "Section: Namesakes (2):\n",
      "In 1974, Ian Boyd, founded The Chesterton Review, a scholarly journal devoted to Chesterton and his circle. The journal is published by the G. K. Chesterton Institute for Faith and Culture based in Seton Hall University, South Orange, New Jersey.\n",
      "In 1996, Dale Ahlquist founded the American Chesterton Society to explore and promote Chesterton's writings.\n",
      "In 2008, a Catholic high school, Chesterton Academy, opened in the Minneapolis area. In the same year Scuola Libera Chesterton opened in San Benedetto del Tronto, Italy.\n",
      "In 2012, a crater on the planet Mercury was named Chesterton after the author.\n",
      "In 2014, G. K. Chesterton Academy of Chicago, a Catholic high school, opened in Highland Park, Illinois.\n",
      "A fictionalised G. K. Chesterton is the central character in the Young Chesterton Chronicles, a series of young adult adventure novels by John McNichol, and in the G K Chesterton Mystery series, a series of detective novels by the Australian author Kel Richards.\n",
      "Subsections (0):\n",
      ">\n",
      "Major works <bound method WikipediaPageSection.full_text of Section: Major works (1):\n",
      "\n",
      "Subsections (3):\n",
      "Section: Books (2):\n",
      "Chesterton, Gilbert Keith (1904), Ward, M. (ed.), The Napoleon of Notting Hill\n",
      "——— (1903), Robert Browning, Macmillan\n",
      "——— (1905), Heretics, John Lane\n",
      "——— (1906), Charles Dickens: A Critical Study, Dodd, Mead & Co., p. 299\n",
      "——— (1908a), The Man Who Was Thursday\n",
      "——— (1908b), Orthodoxy\n",
      "——— (1911a), The Innocence of Father Brown\n",
      "——— (1911b), The Ballad of the White Horse\n",
      "——— (1912), Manalive\n",
      "——— (1916), The Crimes of England\n",
      "———, Father Brown (short stories) (detective fiction)\n",
      "——— (1920), Ward, M. (ed.), The New Jerusalem, archived from the original on 15 January 2017\n",
      "——— (1922), The Man Who Knew Too Much, Simon & Brown, ISBN 1731700563\n",
      "——— (1922), Eugenics and Other Evils \n",
      "——— (1923), Saint Francis of Assisi\n",
      "——— (1925), The Everlasting Man\n",
      "——— (1925), William Cobbett\n",
      "——— (1933), Saint Thomas Aquinas\n",
      "——— (1935), The Well and the Shallows\n",
      "——— (1936), The Autobiography\n",
      "——— (1950), Ward, M. (ed.), The Common Man, archived from the original on 15 January 2017\n",
      "Subsections (0):\n",
      "\n",
      "Section: Short stories (2):\n",
      "\"The Trees of Pride\", 1922\n",
      "\"The Crime of the Communist\", Collier's Weekly, July 1934.\n",
      "\"The Three Horsemen\", Collier's Weekly, April 1935.\n",
      "\"The Ring of the Lovers\", Collier's Weekly, April 1935.\n",
      "\"A Tall Story\", Collier's Weekly, April 1935.\n",
      "\"The Angry Street – A Bad Dream\", Famous Fantastic Mysteries, February 1947.\n",
      "Subsections (0):\n",
      "\n",
      "Section: Plays (2):\n",
      "Magic, 1913.\n",
      "Subsections (0):\n",
      ">\n",
      "References <bound method WikipediaPageSection.full_text of Section: References (1):\n",
      "\n",
      "Subsections (2):\n",
      "Section: Citations (2):\n",
      "\n",
      "Subsections (0):\n",
      "\n",
      "Section: Sources (2):\n",
      "Cited biographies\n",
      "Subsections (0):\n",
      ">\n",
      "Further reading <bound method WikipediaPageSection.full_text of Section: Further reading (1):\n",
      "\n",
      "Subsections (0):\n",
      ">\n",
      "External links <bound method WikipediaPageSection.full_text of Section: External links (1):\n",
      "\n",
      "Works by G. K. Chesterton in eBook form at Standard Ebooks\n",
      "Works by G. K. Chesterton at Project Gutenberg\n",
      "Works by G. K. (Gilbert Keith) Chesterton at Faded Page (Canada)\n",
      "Works by or about G. K. Chesterton at Internet Archive\n",
      "Works by G. K. Chesterton at LibriVox (public domain audiobooks) \n",
      "G. K. Chesterton at Curlie\n",
      "Works by G. K. Chesterton, at HathiTrust\n",
      "\"Archival material relating to G. K. Chesterton\". UK National Archives. \n",
      "What's Wrong: GKC in Periodicals Articles by G. K. Chesterton in periodicals, with critical annotations.\n",
      "The American Chesterton Society, retrieved 28 October 2010.\n",
      "G. K. Chesterton: Quotidiana\n",
      "G. K. Chesterton research collection at The Marion E. Wade Center at Wheaton College\n",
      "G. K. Chesterton Archival Collection at the University of St. Michael's College at the University of Toronto\n",
      "Newspaper clippings about G. K. Chesterton in the 20th Century Press Archives of the ZBW\n",
      "Scuola Libera G. K. Chesterton, retrieved 3 September 2023\n",
      "Società Chestertoniana Italiana, retrieved 3 September 2023\n",
      "Subsections (0):\n",
      ">\n"
     ]
    }
   ],
   "source": [
    "idxs = 5\n",
    "page_py = wikipedia_module.page(all_titles[idxs])\n",
    "print(all_titles[idxs])\n",
    "for i in page_py.sections:\n",
    "    print(i.title,i.full_text)"
   ]
  },
  {
   "cell_type": "code",
   "execution_count": 25,
   "metadata": {},
   "outputs": [],
   "source": [
    "\n",
    "not_there = 0\n",
    "for title in titles:\n",
    "    if title not in val_wiki_list:\n",
    "        not_there += 1"
   ]
  },
  {
   "cell_type": "code",
   "execution_count": 27,
   "metadata": {},
   "outputs": [
    {
     "data": {
      "text/plain": [
       "18005"
      ]
     },
     "execution_count": 27,
     "metadata": {},
     "output_type": "execute_result"
    }
   ],
   "source": [
    "len(titles)"
   ]
  },
  {
   "cell_type": "code",
   "execution_count": 8,
   "metadata": {},
   "outputs": [],
   "source": [
    "wiki_df['len_count'] = wiki_df.apply(lambda row: len(str(row.text).split(\" \")),axis=1)"
   ]
  },
  {
   "cell_type": "code",
   "execution_count": 11,
   "metadata": {},
   "outputs": [
    {
     "data": {
      "text/plain": [
       "len_count\n",
       "1       6262\n",
       "3        711\n",
       "5        221\n",
       "7        204\n",
       "6        193\n",
       "        ... \n",
       "2777       1\n",
       "3325       1\n",
       "3898       1\n",
       "2346       1\n",
       "2138       1\n",
       "Name: count, Length: 3222, dtype: int64"
      ]
     },
     "execution_count": 11,
     "metadata": {},
     "output_type": "execute_result"
    }
   ],
   "source": [
    "wiki_df['len_count'].value_counts(sort='asc')"
   ]
  },
  {
   "cell_type": "code",
   "execution_count": 12,
   "metadata": {},
   "outputs": [
    {
     "data": {
      "text/html": [
       "<div>\n",
       "<style scoped>\n",
       "    .dataframe tbody tr th:only-of-type {\n",
       "        vertical-align: middle;\n",
       "    }\n",
       "\n",
       "    .dataframe tbody tr th {\n",
       "        vertical-align: top;\n",
       "    }\n",
       "\n",
       "    .dataframe thead th {\n",
       "        text-align: right;\n",
       "    }\n",
       "</style>\n",
       "<table border=\"1\" class=\"dataframe\">\n",
       "  <thead>\n",
       "    <tr style=\"text-align: right;\">\n",
       "      <th></th>\n",
       "      <th>title</th>\n",
       "      <th>text</th>\n",
       "      <th>len_count</th>\n",
       "    </tr>\n",
       "  </thead>\n",
       "  <tbody>\n",
       "    <tr>\n",
       "      <th>0</th>\n",
       "      <td>Vinalhaven, Maine</td>\n",
       "      <td>Archeological remains indicate that the island...</td>\n",
       "      <td>996</td>\n",
       "    </tr>\n",
       "    <tr>\n",
       "      <th>1</th>\n",
       "      <td>Owls Head, Maine</td>\n",
       "      <td>When Samuel de Champlain explored Owl's Head i...</td>\n",
       "      <td>347</td>\n",
       "    </tr>\n",
       "    <tr>\n",
       "      <th>2</th>\n",
       "      <td>North Haven, Maine</td>\n",
       "      <td>As early as 3300 BCE, the island was visited b...</td>\n",
       "      <td>515</td>\n",
       "    </tr>\n",
       "    <tr>\n",
       "      <th>3</th>\n",
       "      <td>Downeast Flight 46</td>\n",
       "      <td>There was poor visibility around Rockland on t...</td>\n",
       "      <td>617</td>\n",
       "    </tr>\n",
       "    <tr>\n",
       "      <th>4</th>\n",
       "      <td>Northern California TRACON</td>\n",
       "      <td>Southern California TRACON\\n\\n\\n== References ...</td>\n",
       "      <td>5</td>\n",
       "    </tr>\n",
       "    <tr>\n",
       "      <th>...</th>\n",
       "      <td>...</td>\n",
       "      <td>...</td>\n",
       "      <td>...</td>\n",
       "    </tr>\n",
       "    <tr>\n",
       "      <th>46306</th>\n",
       "      <td>Dance in California</td>\n",
       "      <td>\\n\\n\\nCrockett-Deane Ballet\\nDance Connection ...</td>\n",
       "      <td>40</td>\n",
       "    </tr>\n",
       "    <tr>\n",
       "      <th>46307</th>\n",
       "      <td>Miguel de la Madrid</td>\n",
       "      <td>Miguel de la Madrid was born in the city of Co...</td>\n",
       "      <td>1481</td>\n",
       "    </tr>\n",
       "    <tr>\n",
       "      <th>46308</th>\n",
       "      <td>Los Pinos</td>\n",
       "      <td>After the Spanish Conquest, around 1550, a tra...</td>\n",
       "      <td>199</td>\n",
       "    </tr>\n",
       "    <tr>\n",
       "      <th>46309</th>\n",
       "      <td>Eugene Allen Gilmore</td>\n",
       "      <td>Gilmore was born in Brownville, Nebraska to An...</td>\n",
       "      <td>156</td>\n",
       "    </tr>\n",
       "    <tr>\n",
       "      <th>46310</th>\n",
       "      <td>Camden Catholic High School</td>\n",
       "      <td>When the Cathedral of the Immaculate Conceptio...</td>\n",
       "      <td>1441</td>\n",
       "    </tr>\n",
       "  </tbody>\n",
       "</table>\n",
       "<p>46311 rows × 3 columns</p>\n",
       "</div>"
      ],
      "text/plain": [
       "                             title  \\\n",
       "0                Vinalhaven, Maine   \n",
       "1                 Owls Head, Maine   \n",
       "2               North Haven, Maine   \n",
       "3               Downeast Flight 46   \n",
       "4       Northern California TRACON   \n",
       "...                            ...   \n",
       "46306          Dance in California   \n",
       "46307          Miguel de la Madrid   \n",
       "46308                    Los Pinos   \n",
       "46309         Eugene Allen Gilmore   \n",
       "46310  Camden Catholic High School   \n",
       "\n",
       "                                                    text  len_count  \n",
       "0      Archeological remains indicate that the island...        996  \n",
       "1      When Samuel de Champlain explored Owl's Head i...        347  \n",
       "2      As early as 3300 BCE, the island was visited b...        515  \n",
       "3      There was poor visibility around Rockland on t...        617  \n",
       "4      Southern California TRACON\\n\\n\\n== References ...          5  \n",
       "...                                                  ...        ...  \n",
       "46306  \\n\\n\\nCrockett-Deane Ballet\\nDance Connection ...         40  \n",
       "46307  Miguel de la Madrid was born in the city of Co...       1481  \n",
       "46308  After the Spanish Conquest, around 1550, a tra...        199  \n",
       "46309  Gilmore was born in Brownville, Nebraska to An...        156  \n",
       "46310  When the Cathedral of the Immaculate Conceptio...       1441  \n",
       "\n",
       "[46311 rows x 3 columns]"
      ]
     },
     "execution_count": 12,
     "metadata": {},
     "output_type": "execute_result"
    }
   ],
   "source": [
    "wiki_df"
   ]
  },
  {
   "cell_type": "code",
   "execution_count": 13,
   "metadata": {},
   "outputs": [],
   "source": [
    "def gte_100_words(row):\n",
    "    if row['len_count'] >= 100:\n",
    "        return True\n",
    "    else:\n",
    "        return False\n",
    "\n",
    "wiki_df = wiki_df[wiki_df.apply(gte_100_words,axis=1)]"
   ]
  },
  {
   "cell_type": "code",
   "execution_count": 14,
   "metadata": {},
   "outputs": [
    {
     "data": {
      "text/plain": [
       "31708"
      ]
     },
     "execution_count": 14,
     "metadata": {},
     "output_type": "execute_result"
    }
   ],
   "source": [
    "len(wiki_df)"
   ]
  },
  {
   "cell_type": "code",
   "execution_count": 15,
   "metadata": {},
   "outputs": [
    {
     "data": {
      "text/html": [
       "<div>\n",
       "<style scoped>\n",
       "    .dataframe tbody tr th:only-of-type {\n",
       "        vertical-align: middle;\n",
       "    }\n",
       "\n",
       "    .dataframe tbody tr th {\n",
       "        vertical-align: top;\n",
       "    }\n",
       "\n",
       "    .dataframe thead th {\n",
       "        text-align: right;\n",
       "    }\n",
       "</style>\n",
       "<table border=\"1\" class=\"dataframe\">\n",
       "  <thead>\n",
       "    <tr style=\"text-align: right;\">\n",
       "      <th></th>\n",
       "      <th>title</th>\n",
       "      <th>text</th>\n",
       "      <th>len_count</th>\n",
       "    </tr>\n",
       "  </thead>\n",
       "  <tbody>\n",
       "    <tr>\n",
       "      <th>0</th>\n",
       "      <td>Vinalhaven, Maine</td>\n",
       "      <td>Archeological remains indicate that the island...</td>\n",
       "      <td>996</td>\n",
       "    </tr>\n",
       "    <tr>\n",
       "      <th>1</th>\n",
       "      <td>Owls Head, Maine</td>\n",
       "      <td>When Samuel de Champlain explored Owl's Head i...</td>\n",
       "      <td>347</td>\n",
       "    </tr>\n",
       "    <tr>\n",
       "      <th>2</th>\n",
       "      <td>North Haven, Maine</td>\n",
       "      <td>As early as 3300 BCE, the island was visited b...</td>\n",
       "      <td>515</td>\n",
       "    </tr>\n",
       "    <tr>\n",
       "      <th>3</th>\n",
       "      <td>Downeast Flight 46</td>\n",
       "      <td>There was poor visibility around Rockland on t...</td>\n",
       "      <td>617</td>\n",
       "    </tr>\n",
       "    <tr>\n",
       "      <th>5</th>\n",
       "      <td>Sacramento International Airport</td>\n",
       "      <td>Sacramento International Airport (SMF) opened ...</td>\n",
       "      <td>1260</td>\n",
       "    </tr>\n",
       "    <tr>\n",
       "      <th>...</th>\n",
       "      <td>...</td>\n",
       "      <td>...</td>\n",
       "      <td>...</td>\n",
       "    </tr>\n",
       "    <tr>\n",
       "      <th>46305</th>\n",
       "      <td>Duke Ellington at Fargo, 1940 Live</td>\n",
       "      <td>In 1939, two cooperative extension service wor...</td>\n",
       "      <td>887</td>\n",
       "    </tr>\n",
       "    <tr>\n",
       "      <th>46307</th>\n",
       "      <td>Miguel de la Madrid</td>\n",
       "      <td>Miguel de la Madrid was born in the city of Co...</td>\n",
       "      <td>1481</td>\n",
       "    </tr>\n",
       "    <tr>\n",
       "      <th>46308</th>\n",
       "      <td>Los Pinos</td>\n",
       "      <td>After the Spanish Conquest, around 1550, a tra...</td>\n",
       "      <td>199</td>\n",
       "    </tr>\n",
       "    <tr>\n",
       "      <th>46309</th>\n",
       "      <td>Eugene Allen Gilmore</td>\n",
       "      <td>Gilmore was born in Brownville, Nebraska to An...</td>\n",
       "      <td>156</td>\n",
       "    </tr>\n",
       "    <tr>\n",
       "      <th>46310</th>\n",
       "      <td>Camden Catholic High School</td>\n",
       "      <td>When the Cathedral of the Immaculate Conceptio...</td>\n",
       "      <td>1441</td>\n",
       "    </tr>\n",
       "  </tbody>\n",
       "</table>\n",
       "<p>31708 rows × 3 columns</p>\n",
       "</div>"
      ],
      "text/plain": [
       "                                    title  \\\n",
       "0                       Vinalhaven, Maine   \n",
       "1                        Owls Head, Maine   \n",
       "2                      North Haven, Maine   \n",
       "3                      Downeast Flight 46   \n",
       "5        Sacramento International Airport   \n",
       "...                                   ...   \n",
       "46305  Duke Ellington at Fargo, 1940 Live   \n",
       "46307                 Miguel de la Madrid   \n",
       "46308                           Los Pinos   \n",
       "46309                Eugene Allen Gilmore   \n",
       "46310         Camden Catholic High School   \n",
       "\n",
       "                                                    text  len_count  \n",
       "0      Archeological remains indicate that the island...        996  \n",
       "1      When Samuel de Champlain explored Owl's Head i...        347  \n",
       "2      As early as 3300 BCE, the island was visited b...        515  \n",
       "3      There was poor visibility around Rockland on t...        617  \n",
       "5      Sacramento International Airport (SMF) opened ...       1260  \n",
       "...                                                  ...        ...  \n",
       "46305  In 1939, two cooperative extension service wor...        887  \n",
       "46307  Miguel de la Madrid was born in the city of Co...       1481  \n",
       "46308  After the Spanish Conquest, around 1550, a tra...        199  \n",
       "46309  Gilmore was born in Brownville, Nebraska to An...        156  \n",
       "46310  When the Cathedral of the Immaculate Conceptio...       1441  \n",
       "\n",
       "[31708 rows x 3 columns]"
      ]
     },
     "execution_count": 15,
     "metadata": {},
     "output_type": "execute_result"
    }
   ],
   "source": [
    "wiki_df"
   ]
  },
  {
   "cell_type": "code",
   "execution_count": 49,
   "metadata": {},
   "outputs": [
    {
     "data": {
      "text/plain": [
       "31708"
      ]
     },
     "execution_count": 49,
     "metadata": {},
     "output_type": "execute_result"
    }
   ],
   "source": [
    "len(wiki_df)"
   ]
  },
  {
   "cell_type": "code",
   "execution_count": 1,
   "metadata": {},
   "outputs": [],
   "source": [
    "with open(\"mod_hyde/data/wikipedia_filtered.txt\",\"r\") as f:\n",
    "    wiki_data = f.read()"
   ]
  },
  {
   "cell_type": "code",
   "execution_count": 26,
   "metadata": {},
   "outputs": [],
   "source": [
    "from langchain_text_splitters import RecursiveCharacterTextSplitter\n",
    "def langchain_split_text(text):\n",
    "    text_splitter = RecursiveCharacterTextSplitter(\n",
    "        # Set a really small chunk size, just to show.\n",
    "        # separators = [\". \"],\n",
    "        chunk_size=2500,\n",
    "        chunk_overlap=100,\n",
    "        length_function=len,\n",
    "        is_separator_regex=False)\n",
    "\n",
    "    splitted_text = text_splitter.split_text(text)\n",
    "    return splitted_text"
   ]
  },
  {
   "cell_type": "code",
   "execution_count": 27,
   "metadata": {},
   "outputs": [],
   "source": [
    "wiki_data_list = wiki_data.split(\"-----------\")[:-1]\n",
    "all_text_list = []\n",
    "\n",
    "\n",
    "for text in wiki_data_list:\n",
    "    splitted_text = langchain_split_text(text)\n",
    "    all_text_list.extend(splitted_text)"
   ]
  },
  {
   "cell_type": "code",
   "execution_count": 28,
   "metadata": {},
   "outputs": [],
   "source": [
    "word_len = [len(txt.split(\" \")) for txt in all_text_list]"
   ]
  },
  {
   "cell_type": "code",
   "execution_count": 29,
   "metadata": {},
   "outputs": [],
   "source": [
    "# !pip install matplotlib"
   ]
  },
  {
   "cell_type": "code",
   "execution_count": 30,
   "metadata": {},
   "outputs": [
    {
     "data": {
      "text/plain": [
       "[<matplotlib.lines.Line2D at 0x7fc9e1ad8f10>]"
      ]
     },
     "execution_count": 30,
     "metadata": {},
     "output_type": "execute_result"
    },
    {
     "data": {
      "image/png": "[encoded data removed]",
      "text/plain": [
       "<Figure size 640x480 with 1 Axes>"
      ]
     },
     "metadata": {},
     "output_type": "display_data"
    }
   ],
   "source": [
    "import matplotlib.pyplot as plt\n",
    "\n",
    "plt.plot(word_len)"
   ]
  },
  {
   "cell_type": "code",
   "execution_count": null,
   "metadata": {},
   "outputs": [],
   "source": []
  }
 ],
 "metadata": {
  "kernelspec": {
   "display_name": "base",
   "language": "python",
   "name": "python3"
  },
  "language_info": {
   "codemirror_mode": {
    "name": "ipython",
    "version": 3
   },
   "file_extension": ".py",
   "mimetype": "text/x-python",
   "name": "python",
   "nbconvert_exporter": "python",
   "pygments_lexer": "ipython3",
   "version": "3.10.12"
  }
 },
 "nbformat": 4,
 "nbformat_minor": 2
}
