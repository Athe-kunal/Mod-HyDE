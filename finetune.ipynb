{
 "cells": [
  {
   "cell_type": "code",
   "execution_count": 1,
   "metadata": {},
   "outputs": [],
   "source": [
    "with open(\"mod_hyde/data/all_book_data.txt\",\"r\") as f:\n",
    "    all_books_data = f.read() "
   ]
  },
  {
   "cell_type": "code",
   "execution_count": 2,
   "metadata": {},
   "outputs": [],
   "source": [
    "import json\n",
    "\n",
    "youtube_transcripts_list = [\"chunked_misc_transcripts.json\",\"chunked_transcripts_undergrad.json\",\"chunked_transcripts_mba.json\"]    \n",
    "all_youtube_data = []\n",
    "for file in youtube_transcripts_list:\n",
    "    with open('mod_hyde/data/YouTube_API_Transcripts/'+file) as f:\n",
    "        data = json.load(f)\n",
    "    for id,data in data.items():\n",
    "        for d in data:\n",
    "            all_youtube_data.append(d['text'])"
   ]
  },
  {
   "cell_type": "code",
   "execution_count": 3,
   "metadata": {},
   "outputs": [],
   "source": [
    "import re\n",
    "\n",
    "all_books_data_list = re.split(r\"(?<=[.?!])\\s+\", all_books_data)"
   ]
  },
  {
   "cell_type": "markdown",
   "metadata": {},
   "source": [
    "## CHUNKING "
   ]
  },
  {
   "cell_type": "code",
   "execution_count": 2,
   "metadata": {},
   "outputs": [],
   "source": [
    "!pip install -Uqq langchain"
   ]
  },
  {
   "cell_type": "code",
   "execution_count": 4,
   "metadata": {},
   "outputs": [],
   "source": [
    "from langchain_text_splitters import RecursiveCharacterTextSplitter\n",
    "\n",
    "text_splitter = RecursiveCharacterTextSplitter(\n",
    "    # Set a really small chunk size, just to show.\n",
    "    separators = [\". \"],\n",
    "    chunk_size=1750,\n",
    "    chunk_overlap=100,\n",
    "    length_function=len,\n",
    "    is_separator_regex=False,\n",
    "\n",
    ")\n",
    "\n",
    "books_data_splitted_text = text_splitter.split_text(all_books_data)"
   ]
  },
  {
   "cell_type": "code",
   "execution_count": 5,
   "metadata": {},
   "outputs": [],
   "source": [
    "all_data = books_data_splitted_text + all_youtube_data"
   ]
  },
  {
   "cell_type": "markdown",
   "metadata": {},
   "source": [
    "## DISTILBERT"
   ]
  },
  {
   "cell_type": "code",
   "execution_count": 7,
   "metadata": {},
   "outputs": [
    {
     "name": "stderr",
     "output_type": "stream",
     "text": [
      "/home/athekunal/.local/lib/python3.10/site-packages/tqdm/auto.py:21: TqdmWarning: IProgress not found. Please update jupyter and ipywidgets. See https://ipywidgets.readthedocs.io/en/stable/user_install.html\n",
      "  from .autonotebook import tqdm as notebook_tqdm\n",
      "None of PyTorch, TensorFlow >= 2.0, or Flax have been found. Models won't be available and only tokenizers, configuration and file/data utilities can be used.\n",
      "Map (num_proc=4):   0%|          | 0/8394 [00:00<?, ? examples/s]Token indices sequence length is longer than the specified maximum sequence length for this model (563 > 512). Running this sequence through the model will result in indexing errors\n",
      "Map (num_proc=4):  36%|███▌      | 3000/8394 [00:01<00:01, 3162.00 examples/s]Token indices sequence length is longer than the specified maximum sequence length for this model (564 > 512). Running this sequence through the model will result in indexing errors\n",
      "Map (num_proc=4):  48%|████▊     | 4000/8394 [00:01<00:01, 2658.54 examples/s]Token indices sequence length is longer than the specified maximum sequence length for this model (561 > 512). Running this sequence through the model will result in indexing errors\n",
      "Map (num_proc=4):  73%|███████▎  | 6099/8394 [00:02<00:00, 3957.46 examples/s]Token indices sequence length is longer than the specified maximum sequence length for this model (607 > 512). Running this sequence through the model will result in indexing errors\n",
      "Map (num_proc=4): 100%|██████████| 8394/8394 [00:03<00:00, 2659.38 examples/s]\n"
     ]
    }
   ],
   "source": [
    "from transformers import AutoTokenizer\n",
    "\n",
    "import pandas as pd\n",
    "\n",
    "df = pd.DataFrame(all_data,columns=[\"text\"])\n",
    "\n",
    "def tokenize_function(examples):\n",
    "    return tokenizer(examples[\"text\"])\n",
    "\n",
    "tokenizer = AutoTokenizer.from_pretrained(\"distilbert-base-uncased\")\n",
    "from datasets import Dataset\n",
    "import pandas as pd\n",
    "\n",
    "hf_dataset = Dataset.from_pandas(df)\n",
    "\n",
    "tokenized_datasets = hf_dataset.map(tokenize_function, batched=True, num_proc=4, remove_columns=[\"text\"])"
   ]
  },
  {
   "cell_type": "code",
   "execution_count": 8,
   "metadata": {},
   "outputs": [
    {
     "name": "stderr",
     "output_type": "stream",
     "text": [
      "Map (num_proc=4): 100%|██████████| 8394/8394 [00:10<00:00, 808.40 examples/s] \n"
     ]
    }
   ],
   "source": [
    "block_size = 1024\n",
    "def group_texts(examples):\n",
    "    # Concatenate all texts.\n",
    "    concatenated_examples = {k: sum(examples[k], []) for k in examples.keys()}\n",
    "    total_length = len(concatenated_examples[list(examples.keys())[0]])\n",
    "    # We drop the small remainder, we could add padding if the model supported it instead of this drop, you can\n",
    "        # customize this part to your needs.\n",
    "    total_length = (total_length // block_size) * block_size\n",
    "    # Split by chunks of max_len.\n",
    "    result = {\n",
    "        k: [t[i : i + block_size] for i in range(0, total_length, block_size)]\n",
    "        for k, t in concatenated_examples.items()\n",
    "    }\n",
    "    result[\"labels\"] = result[\"input_ids\"].copy()\n",
    "    return result\n",
    "\n",
    "lm_datasets = tokenized_datasets.map(\n",
    "    group_texts,\n",
    "    batched=True,\n",
    "    batch_size=1000,\n",
    "    num_proc=4,\n",
    ")\n"
   ]
  },
  {
   "cell_type": "code",
   "execution_count": 18,
   "metadata": {},
   "outputs": [],
   "source": [
    "# lm_datasets[0]['input_ids']"
   ]
  },
  {
   "cell_type": "code",
   "execution_count": 17,
   "metadata": {},
   "outputs": [
    {
     "data": {
      "text/plain": [
       "True"
      ]
     },
     "execution_count": 17,
     "metadata": {},
     "output_type": "execute_result"
    }
   ],
   "source": [
    "lm_datasets[0]['labels'] == lm_datasets[0]['input_ids']"
   ]
  },
  {
   "cell_type": "code",
   "execution_count": 6,
   "metadata": {},
   "outputs": [],
   "source": [
    "# from transformers import AutoTokenizer, AutoModelForCausalLM\n",
    "\n",
    "# model_name = \"distilbert/distilgpt2\"\n",
    "# tokenizer = AutoTokenizer.from_pretrained(model_name)\n",
    "# model = AutoModelForCausalLM.from_pretrained(model_name)"
   ]
  },
  {
   "cell_type": "code",
   "execution_count": 21,
   "metadata": {},
   "outputs": [
    {
     "data": {
      "text/plain": [
       "'These stories not only sound persuasive and reasonable but are also backed up by evidence - anecdotal, in some cases, and statistical, in others - that the strategies work.'"
      ]
     },
     "execution_count": 21,
     "metadata": {},
     "output_type": "execute_result"
    }
   ],
   "source": [
    "all_books_data_list[1]"
   ]
  },
  {
   "cell_type": "code",
   "execution_count": 1,
   "metadata": {},
   "outputs": [],
   "source": [
    "import pandas as pd\n",
    "\n",
    "wiki_df = pd.read_csv(\"mod_hyde/data/wikipedia_data.csv\")"
   ]
  },
  {
   "cell_type": "code",
   "execution_count": 3,
   "metadata": {},
   "outputs": [
    {
     "data": {
      "text/plain": [
       "title       0\n",
       "text     4332\n",
       "dtype: int64"
      ]
     },
     "execution_count": 3,
     "metadata": {},
     "output_type": "execute_result"
    }
   ],
   "source": [
    "wiki_df.isna().sum()"
   ]
  },
  {
   "cell_type": "code",
   "execution_count": 4,
   "metadata": {},
   "outputs": [],
   "source": [
    "val_wiki_df = pd.read_csv(\"mod_hyde/data/wikipedia_data_val.csv\") "
   ]
  },
  {
   "cell_type": "code",
   "execution_count": 5,
   "metadata": {},
   "outputs": [
    {
     "data": {
      "text/plain": [
       "title       0\n",
       "text     6390\n",
       "dtype: int64"
      ]
     },
     "execution_count": 5,
     "metadata": {},
     "output_type": "execute_result"
    }
   ],
   "source": [
    "val_wiki_df.isna().sum()"
   ]
  },
  {
   "cell_type": "code",
   "execution_count": 16,
   "metadata": {},
   "outputs": [],
   "source": [
    "val_wiki_df['len_count'] = val_wiki_df.apply(lambda row: len(str(row.text).split(\" \")),axis=1)"
   ]
  },
  {
   "cell_type": "code",
   "execution_count": 17,
   "metadata": {},
   "outputs": [
    {
     "data": {
      "text/plain": [
       "45252"
      ]
     },
     "execution_count": 17,
     "metadata": {},
     "output_type": "execute_result"
    }
   ],
   "source": [
    "def gte_100_words(row):\n",
    "    if row['len_count'] >= 100:\n",
    "        return True\n",
    "    else:\n",
    "        return False\n",
    "\n",
    "val_wiki_df = val_wiki_df[val_wiki_df.apply(gte_100_words,axis=1)]\n",
    "len(val_wiki_df)"
   ]
  },
  {
   "cell_type": "code",
   "execution_count": 18,
   "metadata": {},
   "outputs": [
    {
     "name": "stderr",
     "output_type": "stream",
     "text": [
      "/home/athekunal/.local/lib/python3.10/site-packages/tqdm/auto.py:21: TqdmWarning: IProgress not found. Please update jupyter and ipywidgets. See https://ipywidgets.readthedocs.io/en/stable/user_install.html\n",
      "  from .autonotebook import tqdm as notebook_tqdm\n"
     ]
    }
   ],
   "source": [
    "from datasets import load_dataset\n",
    "hotpot_qa = load_dataset(\"hotpot_qa\",\"distractor\")"
   ]
  },
  {
   "cell_type": "code",
   "execution_count": 43,
   "metadata": {},
   "outputs": [],
   "source": [
    "shuffled_dataset = hotpot_qa['train'].shuffle(42)\n",
    "subset_data = shuffled_dataset[0:5000]"
   ]
  },
  {
   "cell_type": "code",
   "execution_count": 44,
   "metadata": {},
   "outputs": [],
   "source": [
    "val_subset = subset_data['supporting_facts']\n",
    "titles = []\n",
    "for sd in val_subset:\n",
    "    titles.append(sd['title'])"
   ]
  },
  {
   "cell_type": "code",
   "execution_count": 45,
   "metadata": {},
   "outputs": [],
   "source": [
    "val_questions = subset_data['question']"
   ]
  },
  {
   "cell_type": "code",
   "execution_count": 46,
   "metadata": {},
   "outputs": [],
   "source": [
    "val_wiki_list = list(wiki_df['title'].values)\n",
    "question_not_there = []\n",
    "question_ther = []\n",
    "for idx,title in enumerate(titles):\n",
    "    for t in title:\n",
    "        if t not in val_wiki_list:\n",
    "            question_not_there.append(idx)\n",
    "            continue"
   ]
  },
  {
   "cell_type": "code",
   "execution_count": 47,
   "metadata": {},
   "outputs": [
    {
     "data": {
      "text/plain": [
       "2662"
      ]
     },
     "execution_count": 47,
     "metadata": {},
     "output_type": "execute_result"
    }
   ],
   "source": [
    "len(val_questions) - len(question_not_there)"
   ]
  },
  {
   "cell_type": "code",
   "execution_count": 48,
   "metadata": {},
   "outputs": [
    {
     "data": {
      "text/plain": [
       "2338"
      ]
     },
     "execution_count": 48,
     "metadata": {},
     "output_type": "execute_result"
    }
   ],
   "source": [
    "len(question_not_there)"
   ]
  },
  {
   "cell_type": "code",
   "execution_count": 66,
   "metadata": {},
   "outputs": [],
   "source": [
    "question_there_idx = [titles[id] for id in range(len(val_questions)) if id not in question_not_there]"
   ]
  },
  {
   "cell_type": "code",
   "execution_count": 69,
   "metadata": {},
   "outputs": [
    {
     "data": {
      "text/html": [
       "<div>\n",
       "<style scoped>\n",
       "    .dataframe tbody tr th:only-of-type {\n",
       "        vertical-align: middle;\n",
       "    }\n",
       "\n",
       "    .dataframe tbody tr th {\n",
       "        vertical-align: top;\n",
       "    }\n",
       "\n",
       "    .dataframe thead th {\n",
       "        text-align: right;\n",
       "    }\n",
       "</style>\n",
       "<table border=\"1\" class=\"dataframe\">\n",
       "  <thead>\n",
       "    <tr style=\"text-align: right;\">\n",
       "      <th></th>\n",
       "      <th>title</th>\n",
       "      <th>text</th>\n",
       "      <th>len_count</th>\n",
       "    </tr>\n",
       "  </thead>\n",
       "  <tbody>\n",
       "    <tr>\n",
       "      <th>0</th>\n",
       "      <td>Vinalhaven, Maine</td>\n",
       "      <td>Archeological remains indicate that the island...</td>\n",
       "      <td>996</td>\n",
       "    </tr>\n",
       "    <tr>\n",
       "      <th>1</th>\n",
       "      <td>Owls Head, Maine</td>\n",
       "      <td>When Samuel de Champlain explored Owl's Head i...</td>\n",
       "      <td>347</td>\n",
       "    </tr>\n",
       "    <tr>\n",
       "      <th>2</th>\n",
       "      <td>North Haven, Maine</td>\n",
       "      <td>As early as 3300 BCE, the island was visited b...</td>\n",
       "      <td>515</td>\n",
       "    </tr>\n",
       "    <tr>\n",
       "      <th>3</th>\n",
       "      <td>Downeast Flight 46</td>\n",
       "      <td>There was poor visibility around Rockland on t...</td>\n",
       "      <td>617</td>\n",
       "    </tr>\n",
       "    <tr>\n",
       "      <th>5</th>\n",
       "      <td>Sacramento International Airport</td>\n",
       "      <td>Sacramento International Airport (SMF) opened ...</td>\n",
       "      <td>1260</td>\n",
       "    </tr>\n",
       "  </tbody>\n",
       "</table>\n",
       "</div>"
      ],
      "text/plain": [
       "                              title  \\\n",
       "0                 Vinalhaven, Maine   \n",
       "1                  Owls Head, Maine   \n",
       "2                North Haven, Maine   \n",
       "3                Downeast Flight 46   \n",
       "5  Sacramento International Airport   \n",
       "\n",
       "                                                text  len_count  \n",
       "0  Archeological remains indicate that the island...        996  \n",
       "1  When Samuel de Champlain explored Owl's Head i...        347  \n",
       "2  As early as 3300 BCE, the island was visited b...        515  \n",
       "3  There was poor visibility around Rockland on t...        617  \n",
       "5  Sacramento International Airport (SMF) opened ...       1260  "
      ]
     },
     "execution_count": 69,
     "metadata": {},
     "output_type": "execute_result"
    }
   ],
   "source": [
    "wiki_df.head()"
   ]
  },
  {
   "cell_type": "code",
   "execution_count": 87,
   "metadata": {},
   "outputs": [],
   "source": [
    "final_df = pd.DataFrame(columns=['title','text'])\n",
    "all_titles = []\n",
    "all_texts = []\n",
    "for t in question_there_idx[:1000]:\n",
    "    for wikipedia_titles in t:\n",
    "        all_titles.append(wikipedia_titles)\n",
    "        all_texts.append(wiki_df[wiki_df['title'] == wikipedia_titles]['text'].values[0])\n",
    "\n",
    "final_df['title'] = all_titles\n",
    "final_df['text'] = all_texts"
   ]
  },
  {
   "cell_type": "code",
   "execution_count": 92,
   "metadata": {},
   "outputs": [
    {
     "data": {
      "text/plain": [
       "['Peter Hobbs (engineer)', 'Russell Hobbs']"
      ]
     },
     "execution_count": 92,
     "metadata": {},
     "output_type": "execute_result"
    }
   ],
   "source": [
    "from langchain_community.document_loaders import WikipediaLoader\n",
    "import wikipediaapi\n",
    "import backoff\n",
    "import requests\n",
    "from tqdm import tqdm\n",
    "\n",
    "wikipedia_module = wikipediaapi.Wikipedia(\"HyDE-Project (athekunal@gmail.com)\", \"en\")\n",
    "\n",
    "@backoff.on_exception(backoff.expo,requests.exceptions.Timeout,max_tries=5,max_time=30)\n",
    "def get_wikipedia(title):\n",
    "    page_py = wikipedia_module.page(title)\n",
    "    title_text = \"\"\n",
    "    for st in page_py.sections:\n",
    "        if st.title.lower() == 'references' or st.title.lower() == 'external links' or st.title == \"References\" or st.title ==\"External link\": \n",
    "            continue\n",
    "        title_text += st.text + \"\\n\"\n",
    "    return title_text\n",
    "\n",
    "from tqdm import tqdm\n",
    "import os\n",
    "import pandas as pd\n",
    "\n",
    "def is_file_empty(file_path):\n",
    "    return os.path.getsize(file_path) == 0\n",
    "\n",
    "if not os.path.exists(f\"wikipedia_data_val.csv\"):\n",
    "    df = pd.DataFrame(columns=[\"title\",\"text\"],index=None)\n",
    "    df.to_csv(f\"wikipedia_data_val.csv\",index=False,header=True)\n",
    "else:\n",
    "    df = pd.read_csv(f\"wikipedia_data_val.csv\",index_col=False)\n",
    "\n",
    "if not os.path.exists(f\"done_wikipedia_val.txt\"):\n",
    "    os.mknod(f\"done_wikipedia_val.txt\")\n",
    "for titles in question_there_idx[:1000]\n",
    "    for title in tqdm(titles):\n",
    "        # docs = WikipediaLoader(\n",
    "        #         query=title, load_max_docs=1, doc_content_chars_max=1\n",
    "        #     ).load()\n",
    "        # wikipedia_title = docs[0].metadata[\"title\"]\n",
    "        if not is_file_empty(f\"done_wikipedia_val.txt\"):\n",
    "            with open(f\"done_wikipedia_val.txt\",\"r\") as f:\n",
    "                done_titles = [x for x in f.read().splitlines()]\n",
    "            # print(done_pids)\n",
    "            if title in done_titles: \n",
    "                continue\n",
    "        title_text = get_wikipedia(title)\n",
    "        df_dict = {\n",
    "            \"title\":[title],\n",
    "            \"text\":[title_text]\n",
    "        }\n",
    "        df = pd.DataFrame(df_dict)\n",
    "        \n",
    "        df.to_csv(f\"wikipedia_data_val.csv\", mode='a',index=False,header=False)\n",
    "        with open(f\"done_wikipedia_val.txt\", \"a\") as f:\n",
    "            f.write(f\"{title}\\n\")"
   ]
  },
  {
   "cell_type": "code",
   "execution_count": 89,
   "metadata": {},
   "outputs": [
    {
     "data": {
      "text/plain": [
       "1977"
      ]
     },
     "execution_count": 89,
     "metadata": {},
     "output_type": "execute_result"
    }
   ],
   "source": [
    "final_df.drop_duplicates(subset=['title'],inplace=True)\n",
    "\n",
    "len(final_df)"
   ]
  },
  {
   "cell_type": "code",
   "execution_count": 90,
   "metadata": {},
   "outputs": [],
   "source": [
    "train_data_wikipedia_text = list(final_df['text'].values)\n",
    "with open(\"mod_hyde/data/wikipedia.txt\",'w') as f:\n",
    "    for line in train_data_wikipedia_text:\n",
    "        f.writelines(line)"
   ]
  },
  {
   "cell_type": "code",
   "execution_count": 25,
   "metadata": {},
   "outputs": [],
   "source": [
    "\n",
    "not_there = 0\n",
    "for title in titles:\n",
    "    if title not in val_wiki_list:\n",
    "        not_there += 1"
   ]
  },
  {
   "cell_type": "code",
   "execution_count": 27,
   "metadata": {},
   "outputs": [
    {
     "data": {
      "text/plain": [
       "18005"
      ]
     },
     "execution_count": 27,
     "metadata": {},
     "output_type": "execute_result"
    }
   ],
   "source": [
    "len(titles)"
   ]
  },
  {
   "cell_type": "code",
   "execution_count": 8,
   "metadata": {},
   "outputs": [],
   "source": [
    "wiki_df['len_count'] = wiki_df.apply(lambda row: len(str(row.text).split(\" \")),axis=1)"
   ]
  },
  {
   "cell_type": "code",
   "execution_count": 11,
   "metadata": {},
   "outputs": [
    {
     "data": {
      "text/plain": [
       "len_count\n",
       "1       6262\n",
       "3        711\n",
       "5        221\n",
       "7        204\n",
       "6        193\n",
       "        ... \n",
       "2777       1\n",
       "3325       1\n",
       "3898       1\n",
       "2346       1\n",
       "2138       1\n",
       "Name: count, Length: 3222, dtype: int64"
      ]
     },
     "execution_count": 11,
     "metadata": {},
     "output_type": "execute_result"
    }
   ],
   "source": [
    "wiki_df['len_count'].value_counts(sort='asc')"
   ]
  },
  {
   "cell_type": "code",
   "execution_count": 12,
   "metadata": {},
   "outputs": [
    {
     "data": {
      "text/html": [
       "<div>\n",
       "<style scoped>\n",
       "    .dataframe tbody tr th:only-of-type {\n",
       "        vertical-align: middle;\n",
       "    }\n",
       "\n",
       "    .dataframe tbody tr th {\n",
       "        vertical-align: top;\n",
       "    }\n",
       "\n",
       "    .dataframe thead th {\n",
       "        text-align: right;\n",
       "    }\n",
       "</style>\n",
       "<table border=\"1\" class=\"dataframe\">\n",
       "  <thead>\n",
       "    <tr style=\"text-align: right;\">\n",
       "      <th></th>\n",
       "      <th>title</th>\n",
       "      <th>text</th>\n",
       "      <th>len_count</th>\n",
       "    </tr>\n",
       "  </thead>\n",
       "  <tbody>\n",
       "    <tr>\n",
       "      <th>0</th>\n",
       "      <td>Vinalhaven, Maine</td>\n",
       "      <td>Archeological remains indicate that the island...</td>\n",
       "      <td>996</td>\n",
       "    </tr>\n",
       "    <tr>\n",
       "      <th>1</th>\n",
       "      <td>Owls Head, Maine</td>\n",
       "      <td>When Samuel de Champlain explored Owl's Head i...</td>\n",
       "      <td>347</td>\n",
       "    </tr>\n",
       "    <tr>\n",
       "      <th>2</th>\n",
       "      <td>North Haven, Maine</td>\n",
       "      <td>As early as 3300 BCE, the island was visited b...</td>\n",
       "      <td>515</td>\n",
       "    </tr>\n",
       "    <tr>\n",
       "      <th>3</th>\n",
       "      <td>Downeast Flight 46</td>\n",
       "      <td>There was poor visibility around Rockland on t...</td>\n",
       "      <td>617</td>\n",
       "    </tr>\n",
       "    <tr>\n",
       "      <th>4</th>\n",
       "      <td>Northern California TRACON</td>\n",
       "      <td>Southern California TRACON\\n\\n\\n== References ...</td>\n",
       "      <td>5</td>\n",
       "    </tr>\n",
       "    <tr>\n",
       "      <th>...</th>\n",
       "      <td>...</td>\n",
       "      <td>...</td>\n",
       "      <td>...</td>\n",
       "    </tr>\n",
       "    <tr>\n",
       "      <th>46306</th>\n",
       "      <td>Dance in California</td>\n",
       "      <td>\\n\\n\\nCrockett-Deane Ballet\\nDance Connection ...</td>\n",
       "      <td>40</td>\n",
       "    </tr>\n",
       "    <tr>\n",
       "      <th>46307</th>\n",
       "      <td>Miguel de la Madrid</td>\n",
       "      <td>Miguel de la Madrid was born in the city of Co...</td>\n",
       "      <td>1481</td>\n",
       "    </tr>\n",
       "    <tr>\n",
       "      <th>46308</th>\n",
       "      <td>Los Pinos</td>\n",
       "      <td>After the Spanish Conquest, around 1550, a tra...</td>\n",
       "      <td>199</td>\n",
       "    </tr>\n",
       "    <tr>\n",
       "      <th>46309</th>\n",
       "      <td>Eugene Allen Gilmore</td>\n",
       "      <td>Gilmore was born in Brownville, Nebraska to An...</td>\n",
       "      <td>156</td>\n",
       "    </tr>\n",
       "    <tr>\n",
       "      <th>46310</th>\n",
       "      <td>Camden Catholic High School</td>\n",
       "      <td>When the Cathedral of the Immaculate Conceptio...</td>\n",
       "      <td>1441</td>\n",
       "    </tr>\n",
       "  </tbody>\n",
       "</table>\n",
       "<p>46311 rows × 3 columns</p>\n",
       "</div>"
      ],
      "text/plain": [
       "                             title  \\\n",
       "0                Vinalhaven, Maine   \n",
       "1                 Owls Head, Maine   \n",
       "2               North Haven, Maine   \n",
       "3               Downeast Flight 46   \n",
       "4       Northern California TRACON   \n",
       "...                            ...   \n",
       "46306          Dance in California   \n",
       "46307          Miguel de la Madrid   \n",
       "46308                    Los Pinos   \n",
       "46309         Eugene Allen Gilmore   \n",
       "46310  Camden Catholic High School   \n",
       "\n",
       "                                                    text  len_count  \n",
       "0      Archeological remains indicate that the island...        996  \n",
       "1      When Samuel de Champlain explored Owl's Head i...        347  \n",
       "2      As early as 3300 BCE, the island was visited b...        515  \n",
       "3      There was poor visibility around Rockland on t...        617  \n",
       "4      Southern California TRACON\\n\\n\\n== References ...          5  \n",
       "...                                                  ...        ...  \n",
       "46306  \\n\\n\\nCrockett-Deane Ballet\\nDance Connection ...         40  \n",
       "46307  Miguel de la Madrid was born in the city of Co...       1481  \n",
       "46308  After the Spanish Conquest, around 1550, a tra...        199  \n",
       "46309  Gilmore was born in Brownville, Nebraska to An...        156  \n",
       "46310  When the Cathedral of the Immaculate Conceptio...       1441  \n",
       "\n",
       "[46311 rows x 3 columns]"
      ]
     },
     "execution_count": 12,
     "metadata": {},
     "output_type": "execute_result"
    }
   ],
   "source": [
    "wiki_df"
   ]
  },
  {
   "cell_type": "code",
   "execution_count": 13,
   "metadata": {},
   "outputs": [],
   "source": [
    "def gte_100_words(row):\n",
    "    if row['len_count'] >= 100:\n",
    "        return True\n",
    "    else:\n",
    "        return False\n",
    "\n",
    "wiki_df = wiki_df[wiki_df.apply(gte_100_words,axis=1)]"
   ]
  },
  {
   "cell_type": "code",
   "execution_count": 14,
   "metadata": {},
   "outputs": [
    {
     "data": {
      "text/plain": [
       "31708"
      ]
     },
     "execution_count": 14,
     "metadata": {},
     "output_type": "execute_result"
    }
   ],
   "source": [
    "len(wiki_df)"
   ]
  },
  {
   "cell_type": "code",
   "execution_count": 15,
   "metadata": {},
   "outputs": [
    {
     "data": {
      "text/html": [
       "<div>\n",
       "<style scoped>\n",
       "    .dataframe tbody tr th:only-of-type {\n",
       "        vertical-align: middle;\n",
       "    }\n",
       "\n",
       "    .dataframe tbody tr th {\n",
       "        vertical-align: top;\n",
       "    }\n",
       "\n",
       "    .dataframe thead th {\n",
       "        text-align: right;\n",
       "    }\n",
       "</style>\n",
       "<table border=\"1\" class=\"dataframe\">\n",
       "  <thead>\n",
       "    <tr style=\"text-align: right;\">\n",
       "      <th></th>\n",
       "      <th>title</th>\n",
       "      <th>text</th>\n",
       "      <th>len_count</th>\n",
       "    </tr>\n",
       "  </thead>\n",
       "  <tbody>\n",
       "    <tr>\n",
       "      <th>0</th>\n",
       "      <td>Vinalhaven, Maine</td>\n",
       "      <td>Archeological remains indicate that the island...</td>\n",
       "      <td>996</td>\n",
       "    </tr>\n",
       "    <tr>\n",
       "      <th>1</th>\n",
       "      <td>Owls Head, Maine</td>\n",
       "      <td>When Samuel de Champlain explored Owl's Head i...</td>\n",
       "      <td>347</td>\n",
       "    </tr>\n",
       "    <tr>\n",
       "      <th>2</th>\n",
       "      <td>North Haven, Maine</td>\n",
       "      <td>As early as 3300 BCE, the island was visited b...</td>\n",
       "      <td>515</td>\n",
       "    </tr>\n",
       "    <tr>\n",
       "      <th>3</th>\n",
       "      <td>Downeast Flight 46</td>\n",
       "      <td>There was poor visibility around Rockland on t...</td>\n",
       "      <td>617</td>\n",
       "    </tr>\n",
       "    <tr>\n",
       "      <th>5</th>\n",
       "      <td>Sacramento International Airport</td>\n",
       "      <td>Sacramento International Airport (SMF) opened ...</td>\n",
       "      <td>1260</td>\n",
       "    </tr>\n",
       "    <tr>\n",
       "      <th>...</th>\n",
       "      <td>...</td>\n",
       "      <td>...</td>\n",
       "      <td>...</td>\n",
       "    </tr>\n",
       "    <tr>\n",
       "      <th>46305</th>\n",
       "      <td>Duke Ellington at Fargo, 1940 Live</td>\n",
       "      <td>In 1939, two cooperative extension service wor...</td>\n",
       "      <td>887</td>\n",
       "    </tr>\n",
       "    <tr>\n",
       "      <th>46307</th>\n",
       "      <td>Miguel de la Madrid</td>\n",
       "      <td>Miguel de la Madrid was born in the city of Co...</td>\n",
       "      <td>1481</td>\n",
       "    </tr>\n",
       "    <tr>\n",
       "      <th>46308</th>\n",
       "      <td>Los Pinos</td>\n",
       "      <td>After the Spanish Conquest, around 1550, a tra...</td>\n",
       "      <td>199</td>\n",
       "    </tr>\n",
       "    <tr>\n",
       "      <th>46309</th>\n",
       "      <td>Eugene Allen Gilmore</td>\n",
       "      <td>Gilmore was born in Brownville, Nebraska to An...</td>\n",
       "      <td>156</td>\n",
       "    </tr>\n",
       "    <tr>\n",
       "      <th>46310</th>\n",
       "      <td>Camden Catholic High School</td>\n",
       "      <td>When the Cathedral of the Immaculate Conceptio...</td>\n",
       "      <td>1441</td>\n",
       "    </tr>\n",
       "  </tbody>\n",
       "</table>\n",
       "<p>31708 rows × 3 columns</p>\n",
       "</div>"
      ],
      "text/plain": [
       "                                    title  \\\n",
       "0                       Vinalhaven, Maine   \n",
       "1                        Owls Head, Maine   \n",
       "2                      North Haven, Maine   \n",
       "3                      Downeast Flight 46   \n",
       "5        Sacramento International Airport   \n",
       "...                                   ...   \n",
       "46305  Duke Ellington at Fargo, 1940 Live   \n",
       "46307                 Miguel de la Madrid   \n",
       "46308                           Los Pinos   \n",
       "46309                Eugene Allen Gilmore   \n",
       "46310         Camden Catholic High School   \n",
       "\n",
       "                                                    text  len_count  \n",
       "0      Archeological remains indicate that the island...        996  \n",
       "1      When Samuel de Champlain explored Owl's Head i...        347  \n",
       "2      As early as 3300 BCE, the island was visited b...        515  \n",
       "3      There was poor visibility around Rockland on t...        617  \n",
       "5      Sacramento International Airport (SMF) opened ...       1260  \n",
       "...                                                  ...        ...  \n",
       "46305  In 1939, two cooperative extension service wor...        887  \n",
       "46307  Miguel de la Madrid was born in the city of Co...       1481  \n",
       "46308  After the Spanish Conquest, around 1550, a tra...        199  \n",
       "46309  Gilmore was born in Brownville, Nebraska to An...        156  \n",
       "46310  When the Cathedral of the Immaculate Conceptio...       1441  \n",
       "\n",
       "[31708 rows x 3 columns]"
      ]
     },
     "execution_count": 15,
     "metadata": {},
     "output_type": "execute_result"
    }
   ],
   "source": [
    "wiki_df"
   ]
  },
  {
   "cell_type": "code",
   "execution_count": 49,
   "metadata": {},
   "outputs": [
    {
     "data": {
      "text/plain": [
       "31708"
      ]
     },
     "execution_count": 49,
     "metadata": {},
     "output_type": "execute_result"
    }
   ],
   "source": [
    "len(wiki_df)"
   ]
  }
 ],
 "metadata": {
  "kernelspec": {
   "display_name": "base",
   "language": "python",
   "name": "python3"
  },
  "language_info": {
   "codemirror_mode": {
    "name": "ipython",
    "version": 3
   },
   "file_extension": ".py",
   "mimetype": "text/x-python",
   "name": "python",
   "nbconvert_exporter": "python",
   "pygments_lexer": "ipython3",
   "version": "3.10.12"
  }
 },
 "nbformat": 4,
 "nbformat_minor": 2
}
